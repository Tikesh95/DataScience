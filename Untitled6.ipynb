{
 "cells": [
  {
   "cell_type": "code",
   "execution_count": null,
   "id": "85f0e8fa-1794-400d-ac22-8d75d1e1230e",
   "metadata": {},
   "outputs": [],
   "source": [
    "Q1. You are writing code for a company. The requirement of the company is that you create a python\n",
    "function that will check whether the password entered by the user is correct or not. The function should\n",
    "take the password as input and return the string “Valid Password” if the entered password follows the"
   ]
  },
  {
   "cell_type": "code",
   "execution_count": 1,
   "id": "f19d1b48-7406-4e2c-99c4-a988f7da19e4",
   "metadata": {},
   "outputs": [
    {
     "name": "stdin",
     "output_type": "stream",
     "text": [
      "Enter your password:  tikesh\n"
     ]
    },
    {
     "name": "stdout",
     "output_type": "stream",
     "text": [
      "Invalid Password: Password should be exactly 10 characters long.\n"
     ]
    }
   ],
   "source": [
    "import re\n",
    "\n",
    "def check_password(password):\n",
    "    # Check if the password meets the specified guidelines\n",
    "    if len(password) != 10:\n",
    "        return \"Invalid Password: Password should be exactly 10 characters long.\"\n",
    "    \n",
    "    uppercase_count = sum(1 for char in password if char.isupper())\n",
    "    lowercase_count = sum(1 for char in password if char.islower())\n",
    "    digit_count = sum(1 for char in password if char.isdigit())\n",
    "    special_char_count = sum(1 for char in password if char in '!@#$%^&*()-_=+{}[]|;:\\'\",.<>?/')\n",
    "\n",
    "    if uppercase_count < 2 or lowercase_count < 2:\n",
    "        return \"Invalid Password: Password should contain at least two uppercase and two lowercase letters.\"\n",
    "    \n",
    "    if digit_count < 1 or special_char_count < 3:\n",
    "        return \"Invalid Password: Password should contain at least one digit and three special characters.\"\n",
    "    \n",
    "    # If all conditions are met, the password is valid\n",
    "    return \"Valid Password\"\n",
    "\n",
    "# Example usage:\n",
    "user_password = input(\"Enter your password: \")\n",
    "result = check_password(user_password)\n",
    "print(result)\n"
   ]
  },
  {
   "cell_type": "code",
   "execution_count": null,
   "id": "8c6f122b-abca-4d50-a96f-98ab85385fd1",
   "metadata": {},
   "outputs": [],
   "source": [
    "Q2. Solve the below-given questions using at least one of the following:"
   ]
  },
  {
   "cell_type": "code",
   "execution_count": null,
   "id": "5de7aa7f-b219-4488-8a51-9842f20576ff",
   "metadata": {},
   "outputs": [],
   "source": [
    "Check if the string starts with a particular letter:"
   ]
  },
  {
   "cell_type": "code",
   "execution_count": 2,
   "id": "dc99f735-7ae1-488a-ac89-9972bb67fb68",
   "metadata": {},
   "outputs": [
    {
     "name": "stdout",
     "output_type": "stream",
     "text": [
      "True\n"
     ]
    }
   ],
   "source": [
    "check_starting_letter = lambda string, letter: string.startswith(letter)\n",
    "\n",
    "# Example usage:\n",
    "result = check_starting_letter(\"Hello, World!\", \"H\")\n",
    "print(result)  # Output: True\n"
   ]
  },
  {
   "cell_type": "code",
   "execution_count": null,
   "id": "d13ba29e-06b2-416e-9a23-eb486ddd7e61",
   "metadata": {},
   "outputs": [],
   "source": [
    "Check if the string is numeric:"
   ]
  },
  {
   "cell_type": "code",
   "execution_count": 3,
   "id": "a14a27ea-71af-4724-bec0-4c01a54f9994",
   "metadata": {},
   "outputs": [
    {
     "name": "stdout",
     "output_type": "stream",
     "text": [
      "True\n"
     ]
    }
   ],
   "source": [
    "check_numeric = lambda string: string.isnumeric()\n",
    "\n",
    "# Example usage:\n",
    "result = check_numeric(\"123\")\n",
    "print(result)  # Output: True\n"
   ]
  },
  {
   "cell_type": "code",
   "execution_count": null,
   "id": "aeaaa667-d854-4e6c-9ca6-759c4aaeaeae",
   "metadata": {},
   "outputs": [],
   "source": [
    "Sort a list of tuples having fruit names and their quantity:"
   ]
  },
  {
   "cell_type": "code",
   "execution_count": 4,
   "id": "d0915f43-d854-40a0-8bfd-50037f45aed7",
   "metadata": {},
   "outputs": [
    {
     "name": "stdout",
     "output_type": "stream",
     "text": [
      "[('orange', 80), ('mango', 99), ('grapes', 1000)]\n"
     ]
    }
   ],
   "source": [
    "fruit_list = [(\"mango\", 99), (\"orange\", 80), (\"grapes\", 1000)]\n",
    "sorted_fruit_list = sorted(fruit_list, key=lambda x: x[1])\n",
    "\n",
    "# Example usage:\n",
    "print(sorted_fruit_list)\n",
    "# Output: [('orange', 80), ('mango', 99), ('grapes', 1000)]\n"
   ]
  },
  {
   "cell_type": "code",
   "execution_count": null,
   "id": "cf282698-15f9-49aa-ba2e-fd524f51014f",
   "metadata": {},
   "outputs": [],
   "source": [
    "Find the squares of numbers from 1 to 10:"
   ]
  },
  {
   "cell_type": "code",
   "execution_count": 5,
   "id": "6186731e-3d39-42da-8ac6-bc7e04ddbcf2",
   "metadata": {},
   "outputs": [
    {
     "name": "stdout",
     "output_type": "stream",
     "text": [
      "[1, 4, 9, 16, 25, 36, 49, 64, 81, 100]\n"
     ]
    }
   ],
   "source": [
    "squares = [x**2 for x in range(1, 11)]\n",
    "\n",
    "# Example usage:\n",
    "print(squares)\n",
    "# Output: [1, 4, 9, 16, 25, 36, 49, 64, 81, 100]\n"
   ]
  },
  {
   "cell_type": "code",
   "execution_count": null,
   "id": "e166bb17-46c9-481a-93d2-a628d15b8348",
   "metadata": {},
   "outputs": [],
   "source": [
    "Find the cube root of numbers from 1 to 10:"
   ]
  },
  {
   "cell_type": "code",
   "execution_count": 6,
   "id": "5a02e16f-1d2b-456b-9ae2-7155d8e14dd4",
   "metadata": {},
   "outputs": [
    {
     "name": "stdout",
     "output_type": "stream",
     "text": [
      "[1.0, 1.2599210498948732, 1.4422495703074083, 1.5874010519681994, 1.7099759466766968, 1.8171205928321397, 1.912931182772389, 2.0, 2.080083823051904, 2.154434690031884]\n"
     ]
    }
   ],
   "source": [
    "import math\n",
    "\n",
    "cube_roots = [math.pow(x, 1/3) for x in range(1, 11)]\n",
    "\n",
    "# Example usage:\n",
    "print(cube_roots)\n",
    "# Output: [1.0, 1.4422495703074083, 1.5874010519681994, 1.7099759466766968, 1.8171205928321397, 1.912931182772389, 2.0, 2.080083823051904, 2.154434690031884, 2.223980090569315]\n"
   ]
  },
  {
   "cell_type": "code",
   "execution_count": null,
   "id": "d96b276c-3c58-4a51-a077-d83d2f742757",
   "metadata": {},
   "outputs": [],
   "source": [
    "Check if a given number is even:"
   ]
  },
  {
   "cell_type": "code",
   "execution_count": 7,
   "id": "2d82282a-84b1-40d7-ace8-d44208c71158",
   "metadata": {},
   "outputs": [
    {
     "name": "stdout",
     "output_type": "stream",
     "text": [
      "True\n"
     ]
    }
   ],
   "source": [
    "check_even = lambda num: num % 2 == 0\n",
    "\n",
    "# Example usage:\n",
    "result = check_even(4)\n",
    "print(result)  # Output: True\n"
   ]
  },
  {
   "cell_type": "code",
   "execution_count": null,
   "id": "1f6216d3-100b-448b-a5af-7c0cd53c5453",
   "metadata": {},
   "outputs": [],
   "source": [
    "Filter odd numbers from the given list:"
   ]
  },
  {
   "cell_type": "code",
   "execution_count": 8,
   "id": "cbf53a47-945c-4256-a3b5-14556a725d42",
   "metadata": {},
   "outputs": [
    {
     "name": "stdout",
     "output_type": "stream",
     "text": [
      "[1, 3, 5, 7, 9]\n"
     ]
    }
   ],
   "source": [
    "numbers = [1, 2, 3, 4, 5, 6, 7, 8, 9, 10]\n",
    "odd_numbers = list(filter(lambda x: x % 2 != 0, numbers))\n",
    "\n",
    "# Example usage:\n",
    "print(odd_numbers)\n",
    "# Output: [1, 3, 5, 7, 9]\n"
   ]
  },
  {
   "cell_type": "code",
   "execution_count": null,
   "id": "0506aa44-5057-4d1d-be39-1665686054b4",
   "metadata": {},
   "outputs": [],
   "source": [
    "Sort a list of integers into positive and negative integers lists"
   ]
  },
  {
   "cell_type": "code",
   "execution_count": 9,
   "id": "5fc5e4d3-9ff6-4fd0-8722-20aaa7c08b11",
   "metadata": {},
   "outputs": [
    {
     "name": "stdout",
     "output_type": "stream",
     "text": [
      "Positive Numbers: [1, 2, 3, 4, 5, 6]\n",
      "Negative Numbers: [-1, -2, -3, -4, -5]\n"
     ]
    }
   ],
   "source": [
    "numbers = [1, 2, 3, 4, 5, 6, -1, -2, -3, -4, -5, 0]\n",
    "positive_numbers = list(filter(lambda x: x > 0, numbers))\n",
    "negative_numbers = list(filter(lambda x: x < 0, numbers))\n",
    "\n",
    "# Example usage:\n",
    "print(\"Positive Numbers:\", positive_numbers)\n",
    "# Output: Positive Numbers: [1, 2, 3, 4, 5, 6]\n",
    "print(\"Negative Numbers:\", negative_numbers)\n",
    "# Output: Negative Numbers: [-1, -2, -3, -4, -5]\n"
   ]
  },
  {
   "cell_type": "code",
   "execution_count": null,
   "id": "ff4b8b3b-3871-42bf-b739-16345f8896eb",
   "metadata": {},
   "outputs": [],
   "source": []
  }
 ],
 "metadata": {
  "kernelspec": {
   "display_name": "Python 3 (ipykernel)",
   "language": "python",
   "name": "python3"
  },
  "language_info": {
   "codemirror_mode": {
    "name": "ipython",
    "version": 3
   },
   "file_extension": ".py",
   "mimetype": "text/x-python",
   "name": "python",
   "nbconvert_exporter": "python",
   "pygments_lexer": "ipython3",
   "version": "3.10.8"
  }
 },
 "nbformat": 4,
 "nbformat_minor": 5
}
