{
 "cells": [
  {
   "cell_type": "code",
   "execution_count": null,
   "id": "776afdf1-6af8-48ec-9484-0989c1c628c6",
   "metadata": {},
   "outputs": [],
   "source": [
    "Q1. What is MongoDB? Explain non-relational databases in short. In which scenarios it is preferred to use\n",
    "MongoDB over SQL databases?"
   ]
  },
  {
   "cell_type": "code",
   "execution_count": null,
   "id": "238616c8-098d-490e-96e1-409abb977ce4",
   "metadata": {},
   "outputs": [],
   "source": [
    "MongoDB:\n",
    "MongoDB is a popular open-source NoSQL (non-relational) database management system that provides high performance, scalability, and flexibility in handling unstructured or semi-structured data. MongoDB uses a document-oriented data model, where data is stored in flexible, JSON-like BSON (Binary JSON) documents. Each document can have a different structure, allowing for dynamic and schema-less data."
   ]
  },
  {
   "cell_type": "code",
   "execution_count": null,
   "id": "fb9289e4-fc7d-40d2-88a0-5e08f8ede897",
   "metadata": {},
   "outputs": [],
   "source": [
    "Non-Relational Databases:\n",
    "Non-relational databases, often referred to as NoSQL databases, are a category of database management systems that do not follow the traditional relational database model. Unlike SQL databases, which use a fixed schema and tables with predefined columns, NoSQL databases offer more flexibility in terms of data models, and they can handle unstructured, semi-structured, or structured data.\n",
    "\n",
    "Key Characteristics of NoSQL Databases:\n",
    "\n",
    "Schema Flexibility: NoSQL databases can handle data with varying structures, making them suitable for evolving data models.\n",
    "Horizontal Scalability: NoSQL databases are designed to scale horizontally by adding more servers to the database cluster.\n",
    "High Performance: They often provide high performance for certain use cases, especially those involving large-scale distributed systems.\n",
    "Simplified Queries: NoSQL databases may have a simplified query language compared to the structured query language (SQL) used in relational databases.\n",
    "MongoDB vs. SQL Databases:\n",
    "Scenarios to Prefer MongoDB over SQL Databases:\n",
    "Flexible Schema:\n",
    "\n",
    "If your application involves rapidly changing or evolving data structures, MongoDB's flexible schema allows for easy adaptation without requiring changes to a predefined schema.\n",
    "Document-Oriented Model:\n",
    "\n",
    "MongoDB's document-oriented model is suitable for scenarios where data is naturally represented as documents, such as JSON-like structures. This can simplify the mapping between application objects and database documents.\n",
    "Big Data and Real-Time Applications:\n",
    "\n",
    "MongoDB's ability to scale horizontally and handle large volumes of data in real-time makes it well-suited for big data applications and scenarios requiring real-time data processing.\n",
    "Hierarchical Data and Nested Arrays:\n",
    "\n",
    "If your data includes hierarchical relationships or nested arrays, MongoDB's document structure can represent these relationships without the need for complex join operations.\n",
    "Agile Development:\n",
    "\n",
    "MongoDB's flexibility and ease of integration with dynamic programming languages make it suitable for agile development environments where rapid iteration and prototyping are important."
   ]
  },
  {
   "cell_type": "code",
   "execution_count": null,
   "id": "f3a5052a-0c74-4faf-91a0-9c4ff381b539",
   "metadata": {},
   "outputs": [],
   "source": [
    "Q2. State and Explain the features of MongoDB."
   ]
  },
  {
   "cell_type": "code",
   "execution_count": null,
   "id": "04d1c755-8f20-44b9-bd40-89afd3cce32a",
   "metadata": {},
   "outputs": [],
   "source": [
    "\n",
    "MongoDB is a popular NoSQL database management system known for its flexibility, scalability, and ease of use. Here are some key features of MongoDB:\n",
    "\n",
    "Document-Oriented:\n",
    "\n",
    "MongoDB stores data in BSON (Binary JSON) documents, which are JSON-like, schema-less data structures. Documents can have nested arrays and subdocuments, providing a rich and flexible data model.\n",
    "Dynamic Schema:\n",
    "\n",
    "MongoDB has a dynamic schema, allowing documents in the same collection to have different structures. Fields can be added or removed from documents without affecting other documents in the collection.\n",
    "JSON-Like Query Language:\n",
    "\n",
    "MongoDB uses a query language that is JSON-like, making it easy for developers to write and understand queries. This query language supports rich queries, indexing, and aggregation operations.\n",
    "Indexing:\n",
    "\n",
    "MongoDB supports secondary indexes on any field, making it efficient to query and sort data. Indexes improve query performance and allow for faster retrieval of data.\n",
    "Aggregation Framework:\n",
    "\n",
    "MongoDB provides a powerful aggregation framework for performing data transformation and analysis. It allows developers to filter, group, project, and aggregate data in a flexible and efficient manner.\n",
    "Horizontal Scalability:\n",
    "\n",
    "MongoDB is designed to scale horizontally by adding more servers to a MongoDB cluster. This allows for easy distribution of data across multiple nodes, enhancing performance and capacity."
   ]
  },
  {
   "cell_type": "code",
   "execution_count": null,
   "id": "17c2178b-e0e4-480e-8273-fabe69de600f",
   "metadata": {},
   "outputs": [],
   "source": [
    "Q3. Write a code to connect MongoDB to Python. Also, create a database and a collection in MongoDB."
   ]
  },
  {
   "cell_type": "code",
   "execution_count": null,
   "id": "afe4955c-7f49-42bb-9ad8-56c033c63942",
   "metadata": {},
   "outputs": [],
   "source": [
    "pip install pymongo\n"
   ]
  },
  {
   "cell_type": "code",
   "execution_count": null,
   "id": "cb5375d1-d71c-4a9f-a0fb-98ae4c14c4ed",
   "metadata": {},
   "outputs": [],
   "source": [
    "import pymongo\n",
    "\n",
    "# Connection parameters\n",
    "mongo_uri = \"mongodb+srv://<username>:<password>@<cluster-url>/<database-name>\"\n",
    "client = pymongo.MongoClient(mongo_uri)\n",
    "\n",
    "# Replace the placeholder values with your actual MongoDB connection details\n",
    "# For example, if using a local MongoDB instance:\n",
    "# client = pymongo.MongoClient(\"mongodb://localhost:27017/\")\n",
    "\n",
    "# Creating or accessing a database\n",
    "database_name = \"mydatabase\"\n",
    "db = client[database_name]\n",
    "\n",
    "# Creating or accessing a collection\n",
    "collection_name = \"mycollection\"\n",
    "collection = db[collection_name]\n",
    "\n",
    "# Inserting a document into the collection\n",
    "document = {\"name\": \"John Doe\", \"age\": 30, \"city\": \"New York\"}\n",
    "result = collection.insert_one(document)\n",
    "print(f\"Inserted document with ID: {result.inserted_id}\")\n",
    "\n",
    "# Closing the MongoDB connection\n",
    "client.close()\n"
   ]
  },
  {
   "cell_type": "code",
   "execution_count": null,
   "id": "e80f20d4-81ad-4a3c-8b84-cb103efe2183",
   "metadata": {},
   "outputs": [],
   "source": [
    "Q4. Using the database and the collection created in question number 3, write a code to insert one record,\n",
    "and insert many records. Use the find() and find_one() methods to print the inserted record."
   ]
  },
  {
   "cell_type": "code",
   "execution_count": null,
   "id": "b8c66fd8-eea4-4a3f-a1e1-722942a1fe1f",
   "metadata": {},
   "outputs": [],
   "source": [
    "import pymongo\n",
    "\n",
    "# Connection parameters\n",
    "mongo_uri = \"mongodb+srv://<username>:<password>@<cluster-url>/<database-name>\"\n",
    "client = pymongo.MongoClient(mongo_uri)\n",
    "\n",
    "# Replace the placeholder values with your actual MongoDB connection details\n",
    "# For example, if using a local MongoDB instance:\n",
    "# client = pymongo.MongoClient(\"mongodb://localhost:27017/\")\n",
    "\n",
    "# Creating or accessing a database\n",
    "database_name = \"mydatabase\"\n",
    "db = client[database_name]\n",
    "\n",
    "# Creating or accessing a collection\n",
    "collection_name = \"mycollection\"\n",
    "collection = db[collection_name]\n",
    "\n",
    "# Inserting one record into the collection\n",
    "document_one = {\"name\": \"Alice\", \"age\": 25, \"city\": \"London\"}\n",
    "result_one = collection.insert_one(document_one)\n",
    "print(f\"Inserted one record with ID: {result_one.inserted_id}\")\n",
    "\n",
    "# Inserting many records into the collection\n",
    "documents_many = [\n",
    "    {\"name\": \"Bob\", \"age\": 30, \"city\": \"New York\"},\n",
    "    {\"name\": \"Charlie\", \"age\": 35, \"city\": \"San Francisco\"},\n",
    "    {\"name\": \"David\", \"age\": 28, \"city\": \"Toronto\"}\n",
    "]\n",
    "result_many = collection.insert_many(documents_many)\n",
    "print(f\"Inserted many records with IDs: {result_many.inserted_ids}\")\n",
    "\n",
    "# Retrieving and printing the inserted records\n",
    "print(\"\\nAll records in the collection:\")\n",
    "for record in collection.find():\n",
    "    print(record)\n",
    "\n",
    "# Retrieving and printing one specific record\n",
    "print(\"\\nOne specific record:\")\n",
    "one_record = collection.find_one({\"name\": \"Alice\"})\n",
    "print(one_record)\n",
    "\n",
    "# Closing the MongoDB connection\n",
    "client.close()\n"
   ]
  },
  {
   "cell_type": "code",
   "execution_count": null,
   "id": "c6cc2b3a-354c-4c44-b109-83dc7cc0bac8",
   "metadata": {},
   "outputs": [],
   "source": [
    "Q5. Explain how you can use the find() method to query the MongoDB database. Write a simple code to\n",
    "demonstrate this."
   ]
  },
  {
   "cell_type": "code",
   "execution_count": null,
   "id": "0e165bf3-0d3f-4806-b2fc-72f108591d22",
   "metadata": {},
   "outputs": [],
   "source": [
    "cursor = collection.find(filter, projection)\n"
   ]
  },
  {
   "cell_type": "code",
   "execution_count": null,
   "id": "40fefec8-58ef-4aeb-b8f9-af98db0a96af",
   "metadata": {},
   "outputs": [],
   "source": [
    "import pymongo\n",
    "\n",
    "# Connection parameters\n",
    "mongo_uri = \"mongodb+srv://<username>:<password>@<cluster-url>/<database-name>\"\n",
    "client = pymongo.MongoClient(mongo_uri)\n",
    "\n",
    "# Replace the placeholder values with your actual MongoDB connection details\n",
    "# For example, if using a local MongoDB instance:\n",
    "# client = pymongo.MongoClient(\"mongodb://localhost:27017/\")\n",
    "\n",
    "# Creating or accessing a database\n",
    "database_name = \"mydatabase\"\n",
    "db = client[database_name]\n",
    "\n",
    "# Creating or accessing a collection\n",
    "collection_name = \"mycollection\"\n",
    "collection = db[collection_name]\n",
    "\n",
    "# Inserting sample data into the collection\n",
    "sample_data = [\n",
    "    {\"name\": \"Alice\", \"age\": 25, \"city\": \"London\"},\n",
    "    {\"name\": \"Bob\", \"age\": 30, \"city\": \"New York\"},\n",
    "    {\"name\": \"Charlie\", \"age\": 35, \"city\": \"San Francisco\"},\n",
    "    {\"name\": \"David\", \"age\": 28, \"city\": \"Toronto\"}\n",
    "]\n",
    "collection.insert_many(sample_data)\n",
    "\n",
    "# Using find() to retrieve documents matching a condition\n",
    "query = {\"age\": {\"$gte\": 30}}  # Retrieve documents where age is greater than or equal to 30\n",
    "result = collection.find(query)\n",
    "\n",
    "# Printing the results\n",
    "print(\"Documents matching the query:\")\n",
    "for document in result:\n",
    "    print(document)\n",
    "\n",
    "# Closing the MongoDB connection\n",
    "client.close()\n"
   ]
  },
  {
   "cell_type": "code",
   "execution_count": null,
   "id": "1c039c18-db38-4fee-808f-10bb3d8dc7a9",
   "metadata": {},
   "outputs": [],
   "source": [
    "Q6. Explain the sort() method. Give an example to demonstrate sorting in MongoDB."
   ]
  },
  {
   "cell_type": "code",
   "execution_count": null,
   "id": "45890c42-39ff-4a98-9de4-e94c731bf192",
   "metadata": {},
   "outputs": [],
   "source": [
    "cursor = collection.find(filter).sort(sort_key, sort_order)\n"
   ]
  },
  {
   "cell_type": "code",
   "execution_count": null,
   "id": "b094604d-e518-4db0-8bd3-28e80c9a2bee",
   "metadata": {},
   "outputs": [],
   "source": [
    "import pymongo\n",
    "\n",
    "# Connection parameters\n",
    "mongo_uri = \"mongodb+srv://<username>:<password>@<cluster-url>/<database-name>\"\n",
    "client = pymongo.MongoClient(mongo_uri)\n",
    "\n",
    "# Replace the placeholder values with your actual MongoDB connection details\n",
    "# For example, if using a local MongoDB instance:\n",
    "# client = pymongo.MongoClient(\"mongodb://localhost:27017/\")\n",
    "\n",
    "# Creating or accessing a database\n",
    "database_name = \"mydatabase\"\n",
    "db = client[database_name]\n",
    "\n",
    "# Creating or accessing a collection\n",
    "collection_name = \"mycollection\"\n",
    "collection = db[collection_name]\n",
    "\n",
    "# Inserting sample data into the collection\n",
    "sample_data = [\n",
    "    {\"name\": \"Alice\", \"age\": 25, \"city\": \"London\"},\n",
    "    {\"name\": \"Bob\", \"age\": 30, \"city\": \"New York\"},\n",
    "    {\"name\": \"Charlie\", \"age\": 35, \"city\": \"San Francisco\"},\n",
    "    {\"name\": \"David\", \"age\": 28, \"city\": \"Toronto\"}\n",
    "]\n",
    "collection.insert_many(sample_data)\n",
    "\n",
    "# Using find() with sort() to retrieve and sort documents\n",
    "sort_key = \"age\"  # Sort by the \"age\" field\n",
    "sort_order = pymongo.ASCENDING  # Sort in ascending order\n",
    "result = collection.find().sort(sort_key, sort_order)\n",
    "\n",
    "# Printing the sorted results\n",
    "print(\"Sorted documents:\")\n",
    "for document in result:\n",
    "    print(document)\n",
    "\n",
    "# Closing the MongoDB connection\n",
    "client.close()\n"
   ]
  },
  {
   "cell_type": "code",
   "execution_count": null,
   "id": "07faf006-ef78-412e-a634-f7c14c9cc531",
   "metadata": {},
   "outputs": [],
   "source": [
    "Q7. Explain why delete_one(), delete_many(), and drop() is used."
   ]
  },
  {
   "cell_type": "code",
   "execution_count": null,
   "id": "d291f8dd-9129-4769-906b-191235041022",
   "metadata": {},
   "outputs": [],
   "source": [
    "1.delete_one() Method:\n",
    "\n",
    "The delete_one() method is used to delete a single document that matches the specified filter criteria. It removes the first document that matches the query."
   ]
  },
  {
   "cell_type": "code",
   "execution_count": null,
   "id": "33429818-94d8-472b-b6c9-abe856a7e467",
   "metadata": {},
   "outputs": [],
   "source": [
    "2.elete_many() Method:\n",
    "\n",
    "The delete_many() method is used to delete multiple documents that match the specified filter criteria. It removes all documents that match the query."
   ]
  },
  {
   "cell_type": "code",
   "execution_count": null,
   "id": "ee0322d5-ae21-4983-8327-ce8554ea6f83",
   "metadata": {},
   "outputs": [],
   "source": [
    "3.drop() Method:\n",
    "\n",
    "The drop() method is used to drop (delete) an entire collection from the database. This operation removes both the documents and the collection structure."
   ]
  },
  {
   "cell_type": "code",
   "execution_count": null,
   "id": "2be78ca3-5200-48d5-a0bd-74cb3ce9fb96",
   "metadata": {},
   "outputs": [],
   "source": []
  }
 ],
 "metadata": {
  "kernelspec": {
   "display_name": "Python 3 (ipykernel)",
   "language": "python",
   "name": "python3"
  },
  "language_info": {
   "codemirror_mode": {
    "name": "ipython",
    "version": 3
   },
   "file_extension": ".py",
   "mimetype": "text/x-python",
   "name": "python",
   "nbconvert_exporter": "python",
   "pygments_lexer": "ipython3",
   "version": "3.10.8"
  }
 },
 "nbformat": 4,
 "nbformat_minor": 5
}
