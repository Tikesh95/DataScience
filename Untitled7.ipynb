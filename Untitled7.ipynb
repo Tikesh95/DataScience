{
 "cells": [
  {
   "cell_type": "code",
   "execution_count": null,
   "id": "4a467599-03e0-4b88-b6a6-e0da7b998141",
   "metadata": {},
   "outputs": [],
   "source": [
    "Q1. What is Abstraction in OOps? Explain with an example."
   ]
  },
  {
   "cell_type": "code",
   "execution_count": null,
   "id": "89056fa8-4dd5-4fe4-b5f1-c5eee231fcdf",
   "metadata": {},
   "outputs": [],
   "source": [
    "Abstraction - is one of the fundamental principles of object-oriented programming (OOP) that involves hiding the complex implementation details and showing only the necessary features of an object. It allows you to focus on the essential aspects of an object while ignoring the non-essential details.\n",
    "OOP - In OOP, abstraction is achieved through the use of abstract classes and interfaces. Abstract classes are classes that cannot be instantiated and may contain abstract methods (methods without a body) that must be implemented by the derived classes. Interfaces, on the other hand, define a contract for a set of methods that must be implemented by any class that implements the interface."
   ]
  },
  {
   "cell_type": "code",
   "execution_count": 2,
   "id": "1ac76adf-b215-4169-9a98-f311455b77f4",
   "metadata": {},
   "outputs": [
    {
     "name": "stdout",
     "output_type": "stream",
     "text": [
      "Area of Circle: 78.5\n",
      "Area of Square: 16\n"
     ]
    }
   ],
   "source": [
    "from abc import ABC, abstractmethod\n",
    "\n",
    "# Abstract class with an abstract method\n",
    "class Shape(ABC):\n",
    "    @abstractmethod\n",
    "    def calculate_area(self):\n",
    "        pass\n",
    "\n",
    "# Concrete class implementing the abstract class\n",
    "class Circle(Shape):\n",
    "    def __init__(self, radius):\n",
    "        self.radius = radius\n",
    "\n",
    "    def calculate_area(self):\n",
    "        return 3.14 * self.radius**2\n",
    "\n",
    "# Concrete class implementing the abstract class\n",
    "class Square(Shape):\n",
    "    def __init__(self, side_length):\n",
    "        self.side_length = side_length\n",
    "\n",
    "    def calculate_area(self):\n",
    "        return self.side_length**2\n",
    "\n",
    "# Using abstraction to calculate the area without knowing the specific implementation details\n",
    "circle = Circle(5)\n",
    "square = Square(4)\n",
    "\n",
    "print(\"Area of Circle:\", circle.calculate_area())\n",
    "print(\"Area of Square:\", square.calculate_area())\n"
   ]
  },
  {
   "cell_type": "code",
   "execution_count": null,
   "id": "52289e8a-186f-421c-a6da-d74767bcd14b",
   "metadata": {},
   "outputs": [],
   "source": [
    "Q2. Differentiate between Abstraction and Encapsulation. Explain with an example."
   ]
  },
  {
   "cell_type": "code",
   "execution_count": null,
   "id": "10425be5-b6ef-4a36-a8f8-56942022792f",
   "metadata": {},
   "outputs": [],
   "source": [
    "Abstraction and encapsulation are two key concepts in object-oriented programming (OOP), but they refer to different aspects of designing and implementing classes. Let's differentiate between abstraction and encapsulation and provide examples for better understanding."
   ]
  },
  {
   "cell_type": "code",
   "execution_count": 3,
   "id": "126c44e3-61ae-4846-9287-04b5598e5fe5",
   "metadata": {},
   "outputs": [],
   "source": [
    "from abc import ABC, abstractmethod\n",
    "\n",
    "class BankAccount(ABC):\n",
    "    @abstractmethod\n",
    "    def deposit(self, amount):\n",
    "        pass\n",
    "    \n",
    "    @abstractmethod\n",
    "    def withdraw(self, amount):\n",
    "        pass\n",
    "\n",
    "# Concrete class implementing the abstract class\n",
    "class SavingsAccount(BankAccount):\n",
    "    def deposit(self, amount):\n",
    "        # Implementation details for deposit in a savings account\n",
    "        pass\n",
    "    \n",
    "    def withdraw(self, amount):\n",
    "        # Implementation details for withdrawal from a savings account\n",
    "        pass\n",
    "\n",
    "# Concrete class implementing the abstract class\n",
    "class CheckingAccount(BankAccount):\n",
    "    def deposit(self, amount):\n",
    "        # Implementation details for deposit in a checking account\n",
    "        pass\n",
    "    \n",
    "    def withdraw(self, amount):\n",
    "        # Implementation details for withdrawal from a checking account\n",
    "        pass\n"
   ]
  },
  {
   "cell_type": "code",
   "execution_count": null,
   "id": "3d2ab51f-bf1c-4238-9444-e9d081580980",
   "metadata": {},
   "outputs": [],
   "source": [
    "Encapsulation is the bundling of data (attributes) and the methods (functions) that operate on that data into a single unit known as a class."
   ]
  },
  {
   "cell_type": "code",
   "execution_count": 4,
   "id": "a0087788-18ad-4e70-99f6-0281af1861df",
   "metadata": {},
   "outputs": [
    {
     "name": "stdout",
     "output_type": "stream",
     "text": [
      "Current Balance: 1300\n"
     ]
    }
   ],
   "source": [
    "class BankAccount:\n",
    "    def __init__(self, initial_balance=0):\n",
    "        self._balance = initial_balance  # _balance is a convention to indicate it's intended for internal use\n",
    "    \n",
    "    def deposit(self, amount):\n",
    "        self._balance += amount\n",
    "    \n",
    "    def withdraw(self, amount):\n",
    "        if amount <= self._balance:\n",
    "            self._balance -= amount\n",
    "        else:\n",
    "            print(\"Insufficient funds.\")\n",
    "\n",
    "    def get_balance(self):\n",
    "        return self._balance\n",
    "\n",
    "# Usage\n",
    "account = BankAccount(1000)\n",
    "account.deposit(500)\n",
    "account.withdraw(200)\n",
    "print(\"Current Balance:\", account.get_balance())\n"
   ]
  },
  {
   "cell_type": "code",
   "execution_count": null,
   "id": "df37319b-6d93-4ec3-9baf-d063d061c13e",
   "metadata": {},
   "outputs": [],
   "source": [
    "Q3. What is abc module in python? Why is it used?"
   ]
  },
  {
   "cell_type": "code",
   "execution_count": null,
   "id": "228bba6c-9669-447e-92c6-014fd734de4e",
   "metadata": {},
   "outputs": [],
   "source": [
    "The abc module in Python stands for \"Abstract Base Classes.\" It provides the infrastructure for defining abstract base classes in Python. Abstract base classes are classes that cannot be instantiated and are meant to be subclassed by concrete classes, ensuring that certain methods are implemented in the derived classes."
   ]
  },
  {
   "cell_type": "code",
   "execution_count": null,
   "id": "be9d21b1-38e1-4461-946f-60dad7751bd0",
   "metadata": {},
   "outputs": [],
   "source": [
    "Why is it used?\n",
    "Enforcing Method Implementation:\n",
    "\n",
    "The abc module helps in enforcing the implementation of certain methods in derived classes. If a class inherits from an abstract class and does not provide concrete implementations for all the abstract methods, it cannot be instantiated.\n",
    "Interface Design:\n",
    "\n",
    "It allows for the creation of abstract base classes that define interfaces without providing concrete implementations. This encourages a clean separation of interface and implementation in class design.\n",
    "Documentation:\n",
    "\n",
    "Abstract base classes can serve as documentation, specifying the expected methods that should be implemented by derived classes."
   ]
  },
  {
   "cell_type": "code",
   "execution_count": null,
   "id": "94a63982-1586-4057-870d-9ab32b29c589",
   "metadata": {},
   "outputs": [],
   "source": [
    "Q4. How can we achieve data abstraction?"
   ]
  },
  {
   "cell_type": "code",
   "execution_count": null,
   "id": "b6036ba8-a25d-47b3-9745-27f3be823ce8",
   "metadata": {},
   "outputs": [],
   "source": [
    "Data abstraction in programming refers to the concept of exposing only the essential details of an object while hiding its complex implementation. In Python, data abstraction can be achieved through the use of classes and encapsulation. Here are the key steps to achieve data abstraction:\n",
    "\n",
    "1. Define a Class:\n",
    "Create a class to represent the abstraction. This class should contain attributes (data) and methods (functions) that operate on the data.\n",
    "\n",
    "2. Use Encapsulation:\n",
    "Encapsulation involves bundling the data and methods that operate on that data into a single unit (i.e., a class). This can be achieved by making use of access modifiers like public, private, and protected.\n",
    "\n",
    "3. Use Private Attributes:\n",
    "Make attributes private by prefixing them with a double underscore (__). This makes the attributes accessible only within the class, achieving encapsulation.\n",
    "\n",
    "4. Provide Public Methods:\n",
    "Provide public methods (getter and setter methods) to access and modify the private attributes. This allows controlled access to the internal data."
   ]
  },
  {
   "cell_type": "code",
   "execution_count": null,
   "id": "ef95f452-5546-4aca-963f-eb1677777c14",
   "metadata": {},
   "outputs": [],
   "source": [
    "Q5. Can we create an instance of an abstract class? Explain your answer."
   ]
  },
  {
   "cell_type": "code",
   "execution_count": null,
   "id": "a8fad1e3-ffd4-4189-9a5e-67835cba14ed",
   "metadata": {},
   "outputs": [],
   "source": [
    "No, we cannot create an instance of an abstract class directly in Python. Abstract classes are meant to be subclassed, and they often contain one or more abstract methods that have no implementation in the abstract class itself. Abstract methods are declared using the @abstractmethod decorator, and they must be implemented by concrete (non-abstract) subclasses.\n",
    "\n",
    "Attempting to create an instance of an abstract class directly will result in a TypeError. The purpose of abstract classes is to provide a blueprint for other classes, and they are not intended to be instantiated on their own.\n",
    "\n",
    "Here's an example to illustrate this:"
   ]
  },
  {
   "cell_type": "code",
   "execution_count": 5,
   "id": "f6228fb8-8b70-498f-9349-fead5b8250bc",
   "metadata": {},
   "outputs": [
    {
     "name": "stdout",
     "output_type": "stream",
     "text": [
      "TypeError: Can't instantiate abstract class MyAbstractClass with abstract method abstract_method\n"
     ]
    }
   ],
   "source": [
    "from abc import ABC, abstractmethod\n",
    "\n",
    "class MyAbstractClass(ABC):\n",
    "    @abstractmethod\n",
    "    def abstract_method(self):\n",
    "        pass\n",
    "\n",
    "# Attempting to create an instance of the abstract class\n",
    "try:\n",
    "    instance = MyAbstractClass()  # Raises TypeError\n",
    "except TypeError as e:\n",
    "    print(f\"TypeError: {e}\")\n"
   ]
  },
  {
   "cell_type": "code",
   "execution_count": null,
   "id": "3b1c7b1d-6d33-431d-8aa7-bf0237a03223",
   "metadata": {},
   "outputs": [],
   "source": []
  }
 ],
 "metadata": {
  "kernelspec": {
   "display_name": "Python 3 (ipykernel)",
   "language": "python",
   "name": "python3"
  },
  "language_info": {
   "codemirror_mode": {
    "name": "ipython",
    "version": 3
   },
   "file_extension": ".py",
   "mimetype": "text/x-python",
   "name": "python",
   "nbconvert_exporter": "python",
   "pygments_lexer": "ipython3",
   "version": "3.10.8"
  }
 },
 "nbformat": 4,
 "nbformat_minor": 5
}
