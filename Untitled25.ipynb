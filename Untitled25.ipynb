{
 "cells": [
  {
   "cell_type": "code",
   "execution_count": null,
   "id": "d0ecf20d-5363-4b19-b920-435669e0a0ba",
   "metadata": {},
   "outputs": [],
   "source": [
    "Q1. Load the \"titanic\" dataset using the load_dataset function of seaborn. Use Plotly express to plot a\n",
    "scatter plot for age and fare columns in the titanic dataset."
   ]
  },
  {
   "cell_type": "code",
   "execution_count": null,
   "id": "78f46d7d-3d15-4434-97cf-37155597eeb3",
   "metadata": {},
   "outputs": [],
   "source": [
    "import seaborn as sns\n",
    "import plotly.express as px\n",
    "\n",
    "# Load the \"titanic\" dataset\n",
    "titanic_data = sns.load_dataset(\"titanic\")\n",
    "\n",
    "# Create a scatter plot using Plotly Express\n",
    "scatter_plot = px.scatter(titanic_data, x='age', y='fare', title='Scatter Plot: Age vs Fare',\n",
    "                          labels={'age': 'Age', 'fare': 'Fare'})\n",
    "\n",
    "# Show the plot\n",
    "scatter_plot.show()\n"
   ]
  },
  {
   "cell_type": "code",
   "execution_count": null,
   "id": "4f603297-03a5-448e-ad8c-9fa8281cae68",
   "metadata": {},
   "outputs": [],
   "source": [
    "Q2. Using the tips dataset in the Plotly library, plot a box plot using Plotly express."
   ]
  },
  {
   "cell_type": "code",
   "execution_count": null,
   "id": "0c8a3755-1397-4e60-9504-278292944b39",
   "metadata": {},
   "outputs": [],
   "source": [
    "import plotly.express as px\n",
    "\n",
    "# Load the tips dataset from Plotly Express\n",
    "tips_data = px.data.tips\n",
    "\n",
    "# Create a box plot using Plotly Express\n",
    "box_plot = px.box(tips_data, x='day', y='total_bill', title='Box Plot: Total Bill by Day',\n",
    "                  labels={'day': 'Day', 'total_bill': 'Total Bill'})\n",
    "\n",
    "# Show the plot\n",
    "box_plot.show()\n"
   ]
  },
  {
   "cell_type": "code",
   "execution_count": null,
   "id": "fb83c058-0701-4be9-9736-bc42f65cfd6f",
   "metadata": {},
   "outputs": [],
   "source": [
    "Q3. Using the tips dataset in the Plotly library, Plot a histogram for x= \"sex\" and y=\"total_bill\" column in\n",
    "the tips dataset. Also, use the \"smoker\" column with the pattern_shape parameter and the \"day\"\n",
    "column with the color parameter."
   ]
  },
  {
   "cell_type": "code",
   "execution_count": null,
   "id": "84c88486-b03c-46e0-9d56-50907d424697",
   "metadata": {},
   "outputs": [],
   "source": [
    "To create a histogram for the \"sex\" and \"total_bill\" columns in the \"tips\" dataset using Plotly Express and incorporate the \"smoker\" column with pattern_shape and the \"day\" column with the color parameter, you can use the following code"
   ]
  },
  {
   "cell_type": "code",
   "execution_count": null,
   "id": "946f3da6-9359-4b22-99c9-05b97bbac238",
   "metadata": {},
   "outputs": [],
   "source": [
    "import plotly.express as px\n",
    "\n",
    "# Load the tips dataset from Plotly Express\n",
    "tips_data = px.data.tips\n",
    "\n",
    "# Create a histogram using Plotly Express\n",
    "histogram = px.histogram(tips_data, x='sex', y='total_bill', color='day', pattern_shape='smoker',\n",
    "                         title='Histogram: Total Bill by Sex with Smoker Pattern and Day Color',\n",
    "                         labels={'sex': 'Sex', 'total_bill': 'Total Bill', 'day': 'Day', 'smoker': 'Smoker'})\n",
    "\n",
    "# Show the plot\n",
    "histogram.show()\n"
   ]
  },
  {
   "cell_type": "code",
   "execution_count": null,
   "id": "7f42ed86-64b0-4f90-adb4-367f050d2c2b",
   "metadata": {},
   "outputs": [],
   "source": [
    "his code uses the px.histogram function from Plotly Express to create a histogram where the x-axis is \"sex,\" the y-axis is \"total_bill,\" the color represents the \"day\" column, and the pattern_shape is set based on the \"smoker\" column. Adjust the title, labels, or any other parameters according to your preferences. The show() method is called to display the interactive histogram."
   ]
  },
  {
   "cell_type": "code",
   "execution_count": null,
   "id": "8a4b5fab-9efc-40bc-a88a-29b90bb959bb",
   "metadata": {},
   "outputs": [],
   "source": [
    "Q4. Using the iris dataset in the Plotly library, Plot a scatter matrix plot, using the \"species\" column for\n",
    "the color parameter.\n",
    "Note: Use \"sepal_length\", \"sepal_width\", \"petal_length\", \"petal_width\" columns only with the\n",
    "dimensions parameter."
   ]
  },
  {
   "cell_type": "code",
   "execution_count": null,
   "id": "67e56e90-6998-4712-b9f7-4dbcd42d32df",
   "metadata": {},
   "outputs": [],
   "source": [
    "import plotly.express as px\n",
    "\n",
    "# Load the iris dataset from Plotly Express\n",
    "iris_data = px.data.iris\n",
    "\n",
    "# Create a scatter matrix plot using Plotly Express\n",
    "scatter_matrix = px.scatter_matrix(iris_data, dimensions=['sepal_length', 'sepal_width', 'petal_length', 'petal_width'],\n",
    "                                   color='species', title='Scatter Matrix Plot: Iris Dataset',\n",
    "                                   labels={'species': 'Species'})\n",
    "\n",
    "# Show the plot\n",
    "scatter_matrix.show()\n"
   ]
  },
  {
   "cell_type": "code",
   "execution_count": null,
   "id": "21568dec-ca78-4ea9-89bf-37a739697721",
   "metadata": {},
   "outputs": [],
   "source": [
    "Q5. What is Distplot? Using Plotly express, plot a distplot."
   ]
  },
  {
   "cell_type": "code",
   "execution_count": null,
   "id": "d6ca0a86-e342-4490-abfd-f0381b0453c6",
   "metadata": {},
   "outputs": [],
   "source": [
    "Distplot (Distribution Plot) is a seaborn-based function that visualizes the distribution of a univariate set of observations. It combines a histogram with a kernel density estimate."
   ]
  },
  {
   "cell_type": "code",
   "execution_count": null,
   "id": "bf33e2be-d6f2-49b7-9ba3-d3dc608d703e",
   "metadata": {},
   "outputs": [],
   "source": [
    "import plotly.express as px\n",
    "\n",
    "# Load the tips dataset from Plotly Express\n",
    "tips_data = px.data.tips\n",
    "\n",
    "# Create a distplot using Plotly Express\n",
    "distplot = px.histogram(tips_data, x='total_bill', marginal='rug', title='Distplot: Total Bill Distribution',\n",
    "                        labels={'total_bill': 'Total Bill'})\n",
    "\n",
    "# Show the plot\n",
    "distplot.show()\n"
   ]
  }
 ],
 "metadata": {
  "kernelspec": {
   "display_name": "Python 3 (ipykernel)",
   "language": "python",
   "name": "python3"
  },
  "language_info": {
   "codemirror_mode": {
    "name": "ipython",
    "version": 3
   },
   "file_extension": ".py",
   "mimetype": "text/x-python",
   "name": "python",
   "nbconvert_exporter": "python",
   "pygments_lexer": "ipython3",
   "version": "3.10.8"
  }
 },
 "nbformat": 4,
 "nbformat_minor": 5
}
