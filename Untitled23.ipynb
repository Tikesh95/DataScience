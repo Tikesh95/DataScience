{
 "cells": [
  {
   "cell_type": "code",
   "execution_count": null,
   "id": "d200e6a1-e8cd-4622-a372-c626043b7c60",
   "metadata": {},
   "outputs": [],
   "source": [
    "Q1: What is Matplotlib? Why is it used? Name five plots that can be plotted using the Pyplot module of\n",
    "Matplotlib."
   ]
  },
  {
   "cell_type": "code",
   "execution_count": null,
   "id": "14162a04-70dd-49a9-a526-8d9300fd276d",
   "metadata": {},
   "outputs": [],
   "source": [
    "\n",
    "Matplotlib:\n",
    "Matplotlib is a Python 2D plotting library that produces high-quality charts and figures in various formats. It provides an object-oriented API for embedding plots into applications that use general-purpose GUI toolkits, such as Tkinter, wxPython, Qt, or GTK.\n",
    "\n",
    "Why is it used?\n",
    "Matplotlib is used for visualizing data and creating various types of plots and charts in Python. It is widely used for tasks such as data analysis, data exploration, and presenting data in a visually appealing way. Matplotlib is flexible and can be used for a wide range of applications, including scientific computing, machine learning, and data science.\n",
    "\n",
    "Five plots that can be plotted using the Pyplot module of Matplotlib:\n",
    "The Pyplot module of Matplotlib provides a simple interface for creating various types of plots. Here are five commonly used plots:"
   ]
  },
  {
   "cell_type": "code",
   "execution_count": null,
   "id": "8a376936-1c87-4fc3-8a23-1bf97e31c21f",
   "metadata": {},
   "outputs": [],
   "source": [
    "1.Line Plot:\n",
    "2.Scatter Plot:\n",
    "3.Bar Plot\n",
    "4.Histogram:\n",
    "5.Pie Chart:"
   ]
  },
  {
   "cell_type": "code",
   "execution_count": null,
   "id": "d44a434e-9b8b-48fc-bc68-d8df40450d08",
   "metadata": {},
   "outputs": [],
   "source": [
    "Q2: What is a scatter plot? Use the following code to generate data for x and y. Using this generated data\n",
    "plot a scatter plot."
   ]
  },
  {
   "cell_type": "code",
   "execution_count": null,
   "id": "88e58909-d53a-49c6-95b0-e695839173c4",
   "metadata": {},
   "outputs": [],
   "source": [
    "import numpy as np\n",
    "import matplotlib.pyplot as plt\n",
    "\n",
    "# Generate data\n",
    "np.random.seed(3)\n",
    "x = 3 + np.random.normal(0, 2, 50)\n",
    "y = 3 + np.random.normal(0, 2, len(x))\n",
    "\n",
    "# Plot scatter plot\n",
    "plt.scatter(x, y)\n",
    "\n",
    "# Add title, xlabel, and ylabel\n",
    "plt.title('Scatter Plot Example')\n",
    "plt.xlabel('X-axis Label')\n",
    "plt.ylabel('Y-axis Label')\n",
    "\n",
    "# Show the plot\n",
    "plt.show()\n"
   ]
  },
  {
   "cell_type": "code",
   "execution_count": null,
   "id": "a2323a1e-c001-4ab6-a52b-1a9dea5ce91f",
   "metadata": {},
   "outputs": [],
   "source": [
    "Q3: Why is the subplot() function used? Draw four line plots using the subplot() function.\n",
    "Use the following data:\n",
    "import numpy as np\n",
    "For line 1: x = np.array([0, 1, 2, 3, 4, 5]) and y = np.array([0, 100, 200, 300, 400, 500])\n",
    "For line 2: x = np.array([0, 1, 2, 3, 4, 5]) and y = np.array([50, 20, 40, 20, 60, 70])\n",
    "For line 3: x = np.array([0, 1, 2, 3, 4, 5]) and y = np.array([10, 20, 30, 40, 50, 60])\n",
    "For line 4: x = np.array([0, 1, 2, 3, 4, 5]) and y = np.array([200, 350, 250, 550, 450, 150])"
   ]
  },
  {
   "cell_type": "code",
   "execution_count": null,
   "id": "71ffd234-ada7-4183-b8ee-5f8eb524077f",
   "metadata": {},
   "outputs": [],
   "source": [
    "\n",
    "subplot() Function:\n",
    "The subplot() function in Matplotlib is used to create multiple plots (subplots) within a single figure. It allows you to arrange plots in a grid, specifying the number of rows and columns, and then select a specific subplot for plotting. This is useful for comparing multiple datasets or visualizing different aspects of the data side by side."
   ]
  },
  {
   "cell_type": "code",
   "execution_count": null,
   "id": "6c641a21-a414-4778-8219-61d7c942b049",
   "metadata": {},
   "outputs": [],
   "source": [
    "import numpy as np\n",
    "import matplotlib.pyplot as plt\n",
    "\n",
    "# Data for line plots\n",
    "x = np.array([0, 1, 2, 3, 4, 5])\n",
    "\n",
    "y1 = np.array([0, 100, 200, 300, 400, 500])\n",
    "y2 = np.array([50, 20, 40, 20, 60, 70])\n",
    "y3 = np.array([10, 20, 30, 40, 50, 60])\n",
    "y4 = np.array([200, 350, 250, 550, 450, 150])\n",
    "\n",
    "# Create subplots\n",
    "plt.subplot(2, 2, 1)  # 2 rows, 2 columns, plot 1\n",
    "plt.plot(x, y1)\n",
    "plt.title('Line Plot 1')\n",
    "\n",
    "plt.subplot(2, 2, 2)  # 2 rows, 2 columns, plot 2\n",
    "plt.plot(x, y2)\n",
    "plt.title('Line Plot 2')\n",
    "\n",
    "plt.subplot(2, 2, 3)  # 2 rows, 2 columns, plot 3\n",
    "plt.plot(x, y3)\n",
    "plt.title('Line Plot 3')\n",
    "\n",
    "plt.subplot(2, 2, 4)  # 2 rows, 2 columns, plot 4\n",
    "plt.plot(x, y4)\n",
    "plt.title('Line Plot 4')\n",
    "\n",
    "# Adjust layout to prevent overlap\n",
    "plt.tight_layout()\n",
    "\n",
    "# Show the plots\n",
    "plt.show()\n"
   ]
  },
  {
   "cell_type": "code",
   "execution_count": null,
   "id": "c4db621f-4e75-476e-baf3-9d8e5ce5d13e",
   "metadata": {},
   "outputs": [],
   "source": [
    "Q4: What is a bar plot? Why is it used? Using the following data plot a bar plot and a horizontal bar plot.\n",
    "import numpy as np\n",
    "company = np.array([\"Apple\", \"Microsoft\", \"Google\", \"AMD\"])\n",
    "profit = np.array([3000, 8000, 1000, 10000])\n",
    "Q5: What is a box plot? Why is it used? Using the following data plot a box plot.\n",
    "box1 = np.random.normal(100, 10, 200)\n",
    "box2 = np.random.normal(90, 20, 200)"
   ]
  },
  {
   "cell_type": "code",
   "execution_count": null,
   "id": "d1abfaf6-66a4-4f19-b9d4-60132d031023",
   "metadata": {},
   "outputs": [],
   "source": [
    "\n",
    "Q4: Bar Plot:\n",
    "A bar plot is a visualization that displays rectangular bars to represent the data. The length of each bar corresponds to the value it represents. Bar plots are used to compare values across different categories or to show the distribution of a categorical variable."
   ]
  },
  {
   "cell_type": "code",
   "execution_count": null,
   "id": "0fd7d10b-ba30-4371-a3f1-d6d3bc970055",
   "metadata": {},
   "outputs": [],
   "source": [
    "import numpy as np\n",
    "import matplotlib.pyplot as plt\n",
    "\n",
    "# Data for bar plot\n",
    "company = np.array([\"Apple\", \"Microsoft\", \"Google\", \"AMD\"])\n",
    "profit = np.array([3000, 8000, 1000, 10000])\n",
    "\n",
    "# Bar Plot\n",
    "plt.bar(company, profit, color='blue')\n",
    "plt.title('Bar Plot - Company Profits')\n",
    "plt.xlabel('Company')\n",
    "plt.ylabel('Profit (in billions)')\n",
    "plt.show()\n",
    "\n",
    "# Horizontal Bar Plot\n",
    "plt.barh(company, profit, color='green')\n",
    "plt.title('Horizontal Bar Plot - Company Profits')\n",
    "plt.xlabel('Profit (in billions)')\n",
    "plt.ylabel('Company')\n",
    "plt.show()\n"
   ]
  },
  {
   "cell_type": "code",
   "execution_count": null,
   "id": "231cdd87-b7dc-495e-9353-66ebfeb12eb7",
   "metadata": {},
   "outputs": [],
   "source": [
    "Code for Box Plot:"
   ]
  },
  {
   "cell_type": "code",
   "execution_count": null,
   "id": "31ade498-a2a6-4e5b-baa4-372e78acc9d4",
   "metadata": {},
   "outputs": [],
   "source": [
    "import numpy as np\n",
    "import matplotlib.pyplot as plt\n",
    "\n",
    "# Data for box plot\n",
    "box1 = np.random.normal(100, 10, 200)\n",
    "box2 = np.random.normal(90, 20, 200)\n",
    "\n",
    "# Box Plot\n",
    "plt.boxplot([box1, box2], labels=['Box 1', 'Box 2'])\n",
    "plt.title('Box Plot - Comparison of Two Datasets')\n",
    "plt.xlabel('Box')\n",
    "plt.ylabel('Values')\n",
    "plt.show()\n"
   ]
  },
  {
   "cell_type": "code",
   "execution_count": null,
   "id": "2541efc9-394b-461d-8e44-7c87e17103f2",
   "metadata": {},
   "outputs": [],
   "source": [
    "Explanation:\n",
    "\n",
    "plt.boxplot(): Creates a box plot.\n",
    "labels: Specifies labels for each box in the plot.\n",
    "plt.title(), plt.xlabel(), plt.ylabel(): Sets title and axis labels.\n",
    "plt.show(): Displays the plot."
   ]
  }
 ],
 "metadata": {
  "kernelspec": {
   "display_name": "Python 3 (ipykernel)",
   "language": "python",
   "name": "python3"
  },
  "language_info": {
   "codemirror_mode": {
    "name": "ipython",
    "version": 3
   },
   "file_extension": ".py",
   "mimetype": "text/x-python",
   "name": "python",
   "nbconvert_exporter": "python",
   "pygments_lexer": "ipython3",
   "version": "3.10.8"
  }
 },
 "nbformat": 4,
 "nbformat_minor": 5
}
