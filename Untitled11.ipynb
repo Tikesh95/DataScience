{
 "cells": [
  {
   "cell_type": "code",
   "execution_count": null,
   "id": "06fd26ec-833b-4cac-bce0-b2d5c6078456",
   "metadata": {},
   "outputs": [],
   "source": [
    "Q1. Explain why we have to use the Exception class while creating a Custom Exception.\n",
    "Note: Here Exception class refers to the base class for all the exceptions."
   ]
  },
  {
   "cell_type": "code",
   "execution_count": null,
   "id": "31654204-a9f4-4a35-bec9-11106d7e5eff",
   "metadata": {},
   "outputs": [],
   "source": [
    "Inherits Common Behavior: By inheriting from Exception, your custom exception inherits common behavior and attributes shared by all exceptions. This includes the ability to store and retrieve an error message, providing a consistent interface for handling exceptions.\n",
    "\n",
    "Compatibility with Exception Handling Mechanism: Python's exception handling mechanism is designed to work seamlessly with exceptions derived from the Exception class. Using this base class ensures that your custom exception can be caught and handled in a manner consistent with other exceptions.\n",
    "\n",
    "Code Readability: When someone else reads or maintains your code, they will immediately recognize that your custom exception is meant to be used for exceptional situations. It follows the standard convention of Python exceptions, making the code more readable and understandable.\n",
    "\n",
    "Compatibility with Except Clauses: When catching exceptions using except, you can catch your custom exception along with other exceptions. If your custom exception is a subclass of Exception, it can be caught along with more general exceptions, allowing for more flexible and fine-grained exception handling."
   ]
  },
  {
   "cell_type": "code",
   "execution_count": 1,
   "id": "12a603e9-007c-4f14-8a89-ad65e3f77375",
   "metadata": {},
   "outputs": [
    {
     "name": "stdout",
     "output_type": "stream",
     "text": [
      "Caught CustomError: This is a custom exception.\n"
     ]
    }
   ],
   "source": [
    "class CustomError(Exception):\n",
    "    def __init__(self, message):\n",
    "        super().__init__(message)\n",
    "\n",
    "try:\n",
    "    raise CustomError(\"This is a custom exception.\")\n",
    "except CustomError as ce:\n",
    "    print(f\"Caught CustomError: {ce}\")\n",
    "except Exception as e:\n",
    "    print(f\"Caught Exception: {e}\")\n"
   ]
  },
  {
   "cell_type": "code",
   "execution_count": null,
   "id": "b5f48700-5bd9-4b8c-8906-39d17b7dc8d8",
   "metadata": {},
   "outputs": [],
   "source": [
    "Q2. Write a python program to print Python Exception Hierarchy."
   ]
  },
  {
   "cell_type": "code",
   "execution_count": null,
   "id": "0087996f-aab6-493a-bf2a-aefcd40a285b",
   "metadata": {},
   "outputs": [],
   "source": [
    "def print_exception_hierarchy(exception_class, indent=0):\n",
    "    print('  ' * indent + str(exception_class.__name__))\n",
    "    for subclass in exception_class.__subclasses__():\n",
    "        print_exception_hierarchy(subclass, indent + 1)\n",
    "\n",
    "print(\"Python Exception Hierarchy:\")\n",
    "print_exception_hierarchy(BaseException)\n"
   ]
  },
  {
   "cell_type": "code",
   "execution_count": null,
   "id": "e6e44849-5b20-4b26-b80d-990b51a7eab5",
   "metadata": {},
   "outputs": [],
   "source": [
    "Q3. What errors are defined in the ArithmeticError class? Explain any two with an example."
   ]
  },
  {
   "cell_type": "code",
   "execution_count": null,
   "id": "fb4ed37a-21e0-4739-82f0-2478bca14428",
   "metadata": {},
   "outputs": [],
   "source": [
    "The ArithmeticError class is a base class for exceptions that occur during arithmetic operations. Two commonly encountered errors that are subclasses of ArithmeticError are ZeroDivisionError and OverflowError."
   ]
  },
  {
   "cell_type": "code",
   "execution_count": null,
   "id": "360a0804-2e71-4d46-9fca-7fbc963c1ab3",
   "metadata": {},
   "outputs": [],
   "source": [
    "1.ZeroDivisionError:"
   ]
  },
  {
   "cell_type": "code",
   "execution_count": null,
   "id": "af750c73-116b-4851-8169-2cd5327cbafe",
   "metadata": {},
   "outputs": [],
   "source": [
    "try:\n",
    "    result = 10 / 0\n",
    "except ZeroDivisionError as e:\n",
    "    print(f\"Error: {e}\")\n"
   ]
  },
  {
   "cell_type": "code",
   "execution_count": null,
   "id": "dc758628-2b7e-4695-980b-0e45dd5d08e7",
   "metadata": {},
   "outputs": [],
   "source": [
    "2.OverflowError:"
   ]
  },
  {
   "cell_type": "code",
   "execution_count": null,
   "id": "26edb0bd-7cb2-4ab5-ab30-84c770056498",
   "metadata": {},
   "outputs": [],
   "source": [
    "import sys\n",
    "\n",
    "try:\n",
    "    result = sys.maxsize + 1  # Overflow the maximum size of an integer\n",
    "except OverflowError as e:\n",
    "    print(f\"Error: {e}\")\n"
   ]
  },
  {
   "cell_type": "code",
   "execution_count": null,
   "id": "5d2de632-6dcf-42d4-96d3-c4c6e1edac6c",
   "metadata": {},
   "outputs": [],
   "source": [
    "Q4. Why LookupError class is used? Explain with an example KeyError and IndexError."
   ]
  },
  {
   "cell_type": "code",
   "execution_count": null,
   "id": "b0f565c7-664f-4c52-b6b2-c4da3bd8822e",
   "metadata": {},
   "outputs": [],
   "source": [
    "\n",
    "The LookupError class is a base class for exceptions that occur when a key or index is not found during a lookup operation. It provides a common base for more specific lookup-related errors, such as KeyError and IndexError. Using LookupError allows you to catch any general lookup-related exception, while handling the more specific ones separately."
   ]
  },
  {
   "cell_type": "code",
   "execution_count": null,
   "id": "8fbde04d-f9b8-4c18-85ce-daf27405397b",
   "metadata": {},
   "outputs": [],
   "source": [
    "1. KeyError:"
   ]
  },
  {
   "cell_type": "code",
   "execution_count": 3,
   "id": "d60d693f-6e42-4c44-9715-42f2e00cdee2",
   "metadata": {},
   "outputs": [
    {
     "name": "stdout",
     "output_type": "stream",
     "text": [
      "Error: 'grape'\n"
     ]
    }
   ],
   "source": [
    "my_dict = {'apple': 5, 'banana': 8, 'orange': 3}\n",
    "\n",
    "try:\n",
    "    value = my_dict['grape']\n",
    "except KeyError as e:\n",
    "    print(f\"Error: {e}\")\n"
   ]
  },
  {
   "cell_type": "code",
   "execution_count": null,
   "id": "660e2dba-e267-44ab-a3d6-d1af0f3e82ef",
   "metadata": {},
   "outputs": [],
   "source": [
    "2.IndexError:"
   ]
  },
  {
   "cell_type": "code",
   "execution_count": 4,
   "id": "e34a8fc5-2793-491f-b807-f1b4d4e4eff2",
   "metadata": {},
   "outputs": [
    {
     "name": "stdout",
     "output_type": "stream",
     "text": [
      "Error: list index out of range\n"
     ]
    }
   ],
   "source": [
    "my_list = [10, 20, 30, 40, 50]\n",
    "\n",
    "try:\n",
    "    value = my_list[10]\n",
    "except IndexError as e:\n",
    "    print(f\"Error: {e}\")\n"
   ]
  },
  {
   "cell_type": "code",
   "execution_count": null,
   "id": "c899761d-200e-4651-acc8-dabe30993948",
   "metadata": {},
   "outputs": [],
   "source": [
    "Q5. Explain ImportError. What is ModuleNotFoundError?"
   ]
  },
  {
   "cell_type": "code",
   "execution_count": null,
   "id": "5518064b-3036-47f2-8ea6-e4195b7b04c1",
   "metadata": {},
   "outputs": [],
   "source": [
    "\n",
    "ImportError is an exception raised when an import statement fails to locate the module being imported or when there is an issue in the module itself during the import process. It is a base class for several more specific import-related exceptions, and one such specific exception is ModuleNotFoundError."
   ]
  },
  {
   "cell_type": "code",
   "execution_count": null,
   "id": "9a196074-a4ab-43d5-b70b-388c49208009",
   "metadata": {},
   "outputs": [],
   "source": [
    "2. ModuleNotFoundError:\n",
    "ModuleNotFoundError is a more specific exception that inherits from ImportError. It is raised when an import statement attempts to import a module that cannot be found."
   ]
  },
  {
   "cell_type": "code",
   "execution_count": null,
   "id": "3e4fb38c-bfbc-4612-8620-814d2bb9de28",
   "metadata": {},
   "outputs": [],
   "source": [
    "Q6. List down some best practices for exception handling in python."
   ]
  },
  {
   "cell_type": "code",
   "execution_count": null,
   "id": "e61d3614-4107-415b-a938-1b996000e672",
   "metadata": {},
   "outputs": [],
   "source": [
    "Use Specific Exceptions:\n",
    "\n",
    "Catch specific exceptions rather than using a broad except clause. This allows you to handle different types of errors differently.\n",
    "Avoid catching generic exceptions like Exception unless necessary.\n",
    "Keep Try Blocks Small:\n",
    "\n",
    "Keep the try block as small as possible. This helps to pinpoint the location of potential errors and makes the code more readable.\n",
    "Separate Exception Handling Logic:\n",
    "\n",
    "Isolate exception handling logic from the main code. This improves code organization and makes it easier to maintain.\n",
    "Avoid Bare Except:\n",
    "\n",
    "Avoid using a bare except clause without specifying the exception type. This can catch unexpected errors and make debugging challenging.\n",
    "Use finally for Cleanup:\n",
    "\n",
    "Use the finally block for cleanup operations that must be executed regardless of whether an exception occurs or not.\n",
    "Logging and Reporting:\n",
    "\n",
    "Use logging to record information about exceptions. This helps in debugging and monitoring the application.\n",
    "Consider reporting exceptions to a centralized system for better tracking and analysis.\n",
    "Fail Fast:\n",
    "\n",
    "Identify and handle exceptions as close to the source as possible. This helps in quickly identifying and fixing issues.\n",
    "Custom Exceptions:\n",
    "\n",
    "Create custom exception classes when specific errors related to your application's domain need to be handled. This enhances code readability.\n",
    "Avoid Overusing Exceptions for Flow Control:\n",
    "\n",
    "Exceptions should be used for exceptional conditions, not as a mechanism for regular program flow. Avoid using them for control flow.\n",
    "Handle Specific Errors:\n",
    "\n",
    "Handle specific errors appropriately. For example, if you encounter a FileNotFoundError, consider checking if the file exists before attempting to open it.\n",
    "Use with Statement for Resources:\n",
    "\n",
    "When working with external resources like files or network connections, use the with statement to ensure proper resource cleanup using context managers.\n",
    "Check Preconditions Explicitly:\n",
    "\n",
    "Explicitly check preconditions before executing code to avoid unnecessary exceptions. For example, validate user input before processing.\n",
    "Document Exception Handling:\n",
    "\n",
    "Include documentation or comments explaining the reasons for exception handling and how specific exceptions are expected to be handled.\n",
    "Test Exception Handling:\n",
    "\n",
    "Include tests that deliberately trigger exceptions to ensure that the exception-handling mechanisms in your code work as expected."
   ]
  }
 ],
 "metadata": {
  "kernelspec": {
   "display_name": "Python 3 (ipykernel)",
   "language": "python",
   "name": "python3"
  },
  "language_info": {
   "codemirror_mode": {
    "name": "ipython",
    "version": 3
   },
   "file_extension": ".py",
   "mimetype": "text/x-python",
   "name": "python",
   "nbconvert_exporter": "python",
   "pygments_lexer": "ipython3",
   "version": "3.10.8"
  }
 },
 "nbformat": 4,
 "nbformat_minor": 5
}
