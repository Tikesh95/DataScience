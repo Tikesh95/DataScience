{
 "cells": [
  {
   "cell_type": "code",
   "execution_count": null,
   "id": "2b6bbf97-e4d9-4fd0-b8b4-03e75b84e7d9",
   "metadata": {},
   "outputs": [],
   "source": [
    "Q1.who developed python programming language?"
   ]
  },
  {
   "cell_type": "code",
   "execution_count": null,
   "id": "6ca005ad-5bf3-410c-8b01-6543a6907d49",
   "metadata": {},
   "outputs": [],
   "source": [
    "Python programming language was created by Guido van Rossum. He started working on Python in the late 1980s, and the first official Python release, Python 0.9.0, was released in February 1991. Guido van Rossum continued to lead the development of Python until he stepped down as the \"Benevolent Dictator For Life\" (BDFL) in July 2018."
   ]
  },
  {
   "cell_type": "code",
   "execution_count": null,
   "id": "b458b0be-391a-43b3-9728-2398e87cc8cc",
   "metadata": {},
   "outputs": [],
   "source": [
    "Q2.which type of programming does python support?"
   ]
  },
  {
   "cell_type": "code",
   "execution_count": null,
   "id": "e8146928-95a5-4973-ad08-fb7b8e986a61",
   "metadata": {},
   "outputs": [],
   "source": [
    "1.Imperative Programming\n",
    "2.Object-Oriented Programming (OOP)\n",
    "3.Functional Programming\n",
    "4.Procedural Programming\n",
    "5.Scripting\n",
    "6.Declarative Programming"
   ]
  },
  {
   "cell_type": "code",
   "execution_count": null,
   "id": "bba1b4a1-ae73-4458-91df-8e5df89a20b2",
   "metadata": {},
   "outputs": [],
   "source": [
    "Q3.is python case sensitive when dealing with identifiers?"
   ]
  },
  {
   "cell_type": "code",
   "execution_count": null,
   "id": "93363557-1c17-4d6d-a2c9-4134d23c9a40",
   "metadata": {},
   "outputs": [],
   "source": [
    "Yes, Python is case-sensitive when dealing with identifiers. In Python, identifiers include variable names, function names, class names, module names, and other names used to identify entities in the code."
   ]
  },
  {
   "cell_type": "code",
   "execution_count": null,
   "id": "7c5ea279-fbde-4264-981c-908ec8ad2026",
   "metadata": {},
   "outputs": [],
   "source": [
    "Q4.what  is the correct extension of the python file?"
   ]
  },
  {
   "cell_type": "code",
   "execution_count": null,
   "id": "cebe1ec4-bd0c-4f5f-b3ed-a4a36919b70d",
   "metadata": {},
   "outputs": [],
   "source": [
    "The correct extension for Python files is .py. When you save a Python script or module, you should use the .py extension. For example:\n",
    "\n",
    "Script file: myscript.py\n",
    "Module file: mymodule.py"
   ]
  },
  {
   "cell_type": "code",
   "execution_count": null,
   "id": "8b5ab967-4ea5-4405-97ab-196cfd8e37dd",
   "metadata": {},
   "outputs": [],
   "source": [
    "Q5.is python code compiled or interpreted?"
   ]
  },
  {
   "cell_type": "code",
   "execution_count": null,
   "id": "d882c070-7a91-4403-9b3a-0d0e7cbd9f1d",
   "metadata": {},
   "outputs": [],
   "source": [
    "Python is considered an interpreted language. However, the process of executing Python code involves both compilation and interpretation.\n",
    "\n",
    "1.Compilation:\n",
    "\n",
    "Python source code is first compiled into an intermediate form known as bytecode. This bytecode is a low-level representation of the source code and is platform-independent.\n",
    "2.Interpretation:\n",
    "\n",
    "The Python interpreter then executes the bytecode using the Python Virtual Machine (PVM). The interpreter reads and interprets the bytecode line by line, executing the instructions."
   ]
  },
  {
   "cell_type": "code",
   "execution_count": null,
   "id": "77e2db25-23ef-4c33-afb5-9dea0fcaf555",
   "metadata": {},
   "outputs": [],
   "source": [
    "Q6.name a few blocks of code used to define in python language?"
   ]
  },
  {
   "cell_type": "code",
   "execution_count": null,
   "id": "14073996-2bf5-46c9-8fa0-5ec7c173bab4",
   "metadata": {},
   "outputs": [],
   "source": [
    "if condition:\n",
    "    # Code block under the if statement\n",
    "    print(\"Condition is true\")\n",
    "else:\n",
    "    # Code block under the else statement\n",
    "    print(\"Condition is false\")\n"
   ]
  },
  {
   "cell_type": "code",
   "execution_count": null,
   "id": "6f2d24b6-11c1-4253-a2df-143f92517aff",
   "metadata": {},
   "outputs": [],
   "source": [
    "Q7.state a character used to give single-line comments in python?"
   ]
  },
  {
   "cell_type": "code",
   "execution_count": null,
   "id": "0d030e53-f7bb-4812-9921-48d67cae8e5f",
   "metadata": {},
   "outputs": [],
   "source": [
    "# This is a single-line comment\n",
    "\n",
    "print(\"Hello, World!\")  # This is also a comment\n",
    "\n",
    "# Code below won't be executed\n",
    "# print(\"This line is commented out\")\n"
   ]
  },
  {
   "cell_type": "code",
   "execution_count": null,
   "id": "b48c4bf2-0d83-4da6-829d-fc56cf15170b",
   "metadata": {},
   "outputs": [],
   "source": [
    "Q8.mention function which can help us to find the version of python that we are currently working on?"
   ]
  },
  {
   "cell_type": "code",
   "execution_count": null,
   "id": "90adc9c7-a0a5-4c70-b41d-262c99b75cf4",
   "metadata": {},
   "outputs": [],
   "source": [
    "import sys\n",
    "\n",
    "print(\"Python Version:\", sys.version)\n",
    "                  or\n",
    "    python --version"
   ]
  },
  {
   "cell_type": "code",
   "execution_count": null,
   "id": "e0519087-05cb-462e-8593-248e59f358d1",
   "metadata": {},
   "outputs": [],
   "source": [
    "Q9.python support the creation of anonymous functions at runtime,using a construct called ________"
   ]
  },
  {
   "cell_type": "code",
   "execution_count": null,
   "id": "03312572-3368-4c0f-a085-7bfafe20602e",
   "metadata": {},
   "outputs": [],
   "source": [
    "In Python, anonymous functions can be created at runtime using a construct called \"lambda.\" The lambda keyword is used to define small, unnamed functions. Lambda functions are often used for short, one-time operations and are also referred to as lambda expressions."
   ]
  },
  {
   "cell_type": "code",
   "execution_count": null,
   "id": "cabc556f-9c10-4867-89b1-cf11e69dde28",
   "metadata": {},
   "outputs": [],
   "source": [
    "lambda arguments: expression"
   ]
  },
  {
   "cell_type": "code",
   "execution_count": null,
   "id": "65259894-66cc-4cf6-8b0d-254fd2db10fb",
   "metadata": {},
   "outputs": [],
   "source": [
    "Q10.what does  pip stand for python?"
   ]
  },
  {
   "cell_type": "code",
   "execution_count": null,
   "id": "abe43bdd-3e69-44f7-8627-639d1bf9b358",
   "metadata": {},
   "outputs": [],
   "source": [
    "\"Pip\" in Python doesn't actually stand for anything. It's a recursive acronym that stands for \"Pip Installs Packages\" or \"Pip Installs Python\" (depending on how you interpret it). Pip is the package installer for Python, and it is used to install and manage Python packages, which are libraries or modules that extend the functionality of Python."
   ]
  },
  {
   "cell_type": "code",
   "execution_count": null,
   "id": "8e6a0625-3686-4380-b164-684a84c8d5e6",
   "metadata": {},
   "outputs": [],
   "source": [
    "Q11.mention a few build-in functions in python?"
   ]
  },
  {
   "cell_type": "code",
   "execution_count": null,
   "id": "036c23d1-c348-4702-baff-98d3299cd0fd",
   "metadata": {},
   "outputs": [],
   "source": [
    "print(\"Hello, World!\")"
   ]
  },
  {
   "cell_type": "code",
   "execution_count": 2,
   "id": "b0f75632-91df-48e9-80b8-993d41be4500",
   "metadata": {},
   "outputs": [
    {
     "name": "stdout",
     "output_type": "stream",
     "text": [
      "5\n"
     ]
    }
   ],
   "source": [
    "my_list = [1, 2, 3, 4, 5]\n",
    "print(len(my_list))  "
   ]
  },
  {
   "cell_type": "code",
   "execution_count": null,
   "id": "a90d8a6e-5f2d-4c6a-9f82-b35ee86f2328",
   "metadata": {},
   "outputs": [],
   "source": [
    "Q12.what is the maximum possible length of an identifier in python?"
   ]
  },
  {
   "cell_type": "code",
   "execution_count": null,
   "id": "58400725-3165-4b8f-a3ff-7bca6412f416",
   "metadata": {},
   "outputs": [],
   "source": [
    "In Python, the maximum possible length of an identifier (variable name, function name, etc.) is not explicitly defined by a fixed number of characters. However, the practical limit is based on the constraints of the implementation, system, and the ability to maintain readable code.\n",
    "\n",
    "According to the Python style guide (PEP 8), it is recommended to limit all lines to a maximum of 79 characters for code and 72 characters for docstrings. While these recommendations are not strict limits on identifier lengths, adhering to them can enhance code readability."
   ]
  },
  {
   "cell_type": "code",
   "execution_count": null,
   "id": "3c439f78-1685-41c7-89db-5eb35de8e949",
   "metadata": {},
   "outputs": [],
   "source": [
    "Q13.what are the benefits of using python?"
   ]
  },
  {
   "cell_type": "code",
   "execution_count": null,
   "id": "ce6d88e3-7889-4fb6-840d-2d1915202290",
   "metadata": {},
   "outputs": [],
   "source": [
    "Python is a popular programming language with a wide range of benefits, contributing to its widespread adoption across various domains. Here are some of the key benefits of using Python:\n",
    "\n",
    "1.Readability and Simplicity\n",
    "2.Extensive Standard Library\n",
    "3.Community and Documentation\n",
    "4.Cross-Platform Compatibility\n",
    "5.Versatility and Flexibility"
   ]
  },
  {
   "cell_type": "code",
   "execution_count": null,
   "id": "232461b9-434e-4863-9dc8-2c913f10dc91",
   "metadata": {},
   "outputs": [],
   "source": [
    "Q14.how is memory managed in python?"
   ]
  },
  {
   "cell_type": "code",
   "execution_count": null,
   "id": "395eb433-8ef5-43db-998c-3525bc460b91",
   "metadata": {},
   "outputs": [],
   "source": [
    "Memory management in Python is handled by the Python memory manager, which is responsible for allocating and deallocating memory as needed during the execution of a Python program. Python uses a combination of automatic memory management and garbage collection to handle memory efficiently. Here are key aspects of memory management in Python:"
   ]
  },
  {
   "cell_type": "code",
   "execution_count": null,
   "id": "1fcb7d56-7494-4c80-b135-538a65538eaf",
   "metadata": {},
   "outputs": [],
   "source": [
    "Q15.how to install python on windows and set path variables?"
   ]
  },
  {
   "cell_type": "code",
   "execution_count": null,
   "id": "19edbce8-21ea-4e35-aaba-5c7601544601",
   "metadata": {},
   "outputs": [],
   "source": [
    "If for some reason the PATH variables were not set during installation, or if you are using an older version of Python, you can set them manually:\n",
    "\n",
    "Find Python Installation Path:\n",
    "\n",
    "Locate the directory where Python is installed. The default installation path is typically C:\\Users\\<YourUsername>\\AppData\\Local\\Programs\\Python\\Python3x, where 3x represents the version number.\n",
    "Set PATH Variables:\n",
    "\n",
    "Right-click on \"This PC\" or \"Computer\" on your desktop or in File Explorer.\n",
    "Select \"Properties\" and click on \"Advanced system settings\" on the left.\n",
    "\n",
    "In the \"System Properties\" window, click on the \"Environment Variables\" button.\n",
    "\n",
    "Under \"System variables,\" find the \"Path\" variable and click \"Edit.\"\n",
    "\n",
    "Click \"New\" and add the path to the \"Scripts\" folder in your Python installation directory. This folder is usually located at C:\\Users\\<YourUsername>\\AppData\\Local\\Programs\\Python\\Python3x\\Scripts.\n",
    "\n",
    "Click \"OK\" to close each dialog box.\n",
    "Verify Installation:\n",
    "\n",
    "Open a new Command Prompt or PowerShell window and type python --version or python -V to verify that Python has been installed.\n",
    "By following these steps, you should have Python installed on your Windows system, and the necessary PATH variables set for Python commands to be recognized in the Command Prompt or PowerShell."
   ]
  },
  {
   "cell_type": "code",
   "execution_count": null,
   "id": "e34e0170-5071-4c3b-a67e-b5543a1545bc",
   "metadata": {},
   "outputs": [],
   "source": [
    "Q16.is indentation required in python?"
   ]
  },
  {
   "cell_type": "code",
   "execution_count": null,
   "id": "cd2ca6b6-596c-4aca-b039-96117667cb49",
   "metadata": {},
   "outputs": [],
   "source": [
    "Yes, indentation is required in Python. Unlike many other programming languages that use braces {} or keywords to define code blocks, Python uses indentation to indicate the grouping of statements within a block of code. Consistent indentation is a fundamental aspect of Python's syntax and is enforced by the interpreter"
   ]
  },
  {
   "cell_type": "code",
   "execution_count": 3,
   "id": "832e6a1a-d5b8-48d4-aeaf-4327682da488",
   "metadata": {},
   "outputs": [
    {
     "name": "stdout",
     "output_type": "stream",
     "text": [
      "This statement is indented and part of the if block.\n",
      "So is this.\n"
     ]
    }
   ],
   "source": [
    "if True:\n",
    "    print(\"This statement is indented and part of the if block.\")\n",
    "    print(\"So is this.\")\n",
    "else:\n",
    "    print(\"This statement is indented and part of the else block.\")\n"
   ]
  }
 ],
 "metadata": {
  "kernelspec": {
   "display_name": "Python 3 (ipykernel)",
   "language": "python",
   "name": "python3"
  },
  "language_info": {
   "codemirror_mode": {
    "name": "ipython",
    "version": 3
   },
   "file_extension": ".py",
   "mimetype": "text/x-python",
   "name": "python",
   "nbconvert_exporter": "python",
   "pygments_lexer": "ipython3",
   "version": "3.10.8"
  }
 },
 "nbformat": 4,
 "nbformat_minor": 5
}
