{
 "cells": [
  {
   "cell_type": "code",
   "execution_count": null,
   "id": "d95a364e-4198-47bf-ab42-ac7afa031ccf",
   "metadata": {},
   "outputs": [],
   "source": [
    "Q1. Is there any difference in the data type of variables list_ and array_list? If there is then write a code\n",
    "to print the data types of both the variables."
   ]
  },
  {
   "cell_type": "code",
   "execution_count": null,
   "id": "9fa0aaaf-08c7-4ae6-a13a-561b5a6d8800",
   "metadata": {},
   "outputs": [],
   "source": [
    "import numpy as np\n",
    "\n",
    "list_ = ['1', '2', '3', '4', '5']\n",
    "array_list = np.array(object=list_)\n",
    "\n",
    "# Print data types of both variables\n",
    "print(\"Data type of list_:\", type(list_))\n",
    "print(\"Data type of array_list:\", type(array_list))\n"
   ]
  },
  {
   "cell_type": "code",
   "execution_count": null,
   "id": "8fd1c03f-64bb-4f50-8c11-b7aa48f6a7e5",
   "metadata": {},
   "outputs": [],
   "source": [
    "Q2. Write a code to print the data type of each and every element of both the variables list_ and\n",
    "arra_list."
   ]
  },
  {
   "cell_type": "code",
   "execution_count": null,
   "id": "03db5610-c46b-4d93-9080-63782d59cab9",
   "metadata": {},
   "outputs": [],
   "source": [
    "import numpy as np\n",
    "\n",
    "list_ = ['1', '2', '3', '4', '5']\n",
    "array_list = np.array(object=list_)\n",
    "\n",
    "# Print data type of each element in list_\n",
    "print(\"Data types of elements in list_:\")\n",
    "for element in list_:\n",
    "    print(type(element))\n",
    "\n",
    "# Print data type of each element in array_list\n",
    "print(\"\\nData types of elements in array_list:\")\n",
    "for element in array_list:\n",
    "    print(type(element))\n"
   ]
  },
  {
   "cell_type": "code",
   "execution_count": null,
   "id": "ac3e0c55-6d8e-4a09-a463-8f5911b1957a",
   "metadata": {},
   "outputs": [],
   "source": [
    "Q3. Considering the following changes in the variable, array_list:\n",
    "array_list = np.array(object = list_, dtype = int)"
   ]
  },
  {
   "cell_type": "code",
   "execution_count": null,
   "id": "d1d9c329-e4d0-4ed4-bd5f-6e230f40d967",
   "metadata": {},
   "outputs": [],
   "source": [
    "import numpy as np\n",
    "\n",
    "# Original list\n",
    "list_ = ['1', '2', '3', '4', '5']\n",
    "\n",
    "# Create NumPy array with specified data type (int)\n",
    "array_list = np.array(object=list_, dtype=int)\n",
    "\n",
    "# Print data types of each element in list_\n",
    "print(\"Data types of elements in list_:\")\n",
    "for element in list_:\n",
    "    print(type(element))\n",
    "\n",
    "# Print data types of each element in array_list\n",
    "print(\"\\nData types of elements in array_list:\")\n",
    "for element in array_list:\n",
    "    print(type(element))\n",
    "\n",
    "# Additional code\n",
    "num_list = [[1, 2, 3], [4, 5, 6]]\n",
    "num_array = np.array(object=num_list)\n",
    "\n",
    "# Print data types of each element in num_list\n",
    "print(\"\\nData types of elements in num_list:\")\n",
    "for sublist in num_list:\n",
    "    for element in sublist:\n",
    "        print(type(element))\n",
    "\n",
    "# Print data types of each element in num_array\n",
    "print(\"\\nData types of elements in num_array:\")\n",
    "for element in num_array.flatten():\n",
    "    print(type(element))\n"
   ]
  },
  {
   "cell_type": "code",
   "execution_count": null,
   "id": "91922275-f3e2-4203-8545-179cee0c3482",
   "metadata": {},
   "outputs": [],
   "source": [
    "Q4. Write a code to find the following characteristics of variable, num_array:\n",
    "(i) shape\n",
    "(ii) size"
   ]
  },
  {
   "cell_type": "code",
   "execution_count": null,
   "id": "89091468-e6e5-443a-a22f-1ba68ca1a2cf",
   "metadata": {},
   "outputs": [],
   "source": [
    "import numpy as np\n",
    "\n",
    "# Given NumPy array\n",
    "num_list = [[1, 2, 3], [4, 5, 6]]\n",
    "num_array = np.array(object=num_list)\n",
    "\n",
    "# (i) Find the shape of num_array\n",
    "shape_of_array = num_array.shape\n",
    "\n",
    "# (ii) Find the size of num_array\n",
    "size_of_array = num_array.size\n",
    "\n",
    "# Print the results\n",
    "print(\"Shape of num_array:\", shape_of_array)\n",
    "print(\"Size of num_array:\", size_of_array)\n"
   ]
  },
  {
   "cell_type": "code",
   "execution_count": null,
   "id": "68af34e4-eadf-4a66-9d95-6444d28597df",
   "metadata": {},
   "outputs": [],
   "source": [
    "Q5. Write a code to create numpy array of 3*3 matrix containing zeros only, using a numpy array\n",
    "creation function.\n",
    "[Hint: The size of the array will be 9 and the shape will be (3,3).]"
   ]
  },
  {
   "cell_type": "code",
   "execution_count": null,
   "id": "b6ad0261-8605-4a11-8912-640e024866b1",
   "metadata": {},
   "outputs": [],
   "source": [
    "import numpy as np\n",
    "\n",
    "# Create a NumPy array of 3x3 matrix with zeros\n",
    "zeros_array = np.zeros((3, 3))\n",
    "\n",
    "# Print the result\n",
    "print(\"NumPy array of 3x3 matrix containing zeros:\")\n",
    "print(zeros_array)\n"
   ]
  },
  {
   "cell_type": "code",
   "execution_count": null,
   "id": "6544d32e-71d3-417c-9176-9230488966f5",
   "metadata": {},
   "outputs": [],
   "source": [
    "Q6. Create an identity matrix of shape (5,5) using numpy functions?\n",
    "[Hint: An identity matrix is a matrix containing 1 diagonally and other elements will be 0.]"
   ]
  },
  {
   "cell_type": "code",
   "execution_count": null,
   "id": "5547f011-3d92-4d75-a64a-0accc2b3fc08",
   "metadata": {},
   "outputs": [],
   "source": [
    "import numpy as np\n",
    "\n",
    "# Create an identity matrix of shape (5, 5)\n",
    "identity_matrix = np.eye(5)\n",
    "\n",
    "# Print the result\n",
    "print(\"Identity matrix of shape (5, 5):\")\n",
    "print(identity_matrix)\n"
   ]
  }
 ],
 "metadata": {
  "kernelspec": {
   "display_name": "Python 3 (ipykernel)",
   "language": "python",
   "name": "python3"
  },
  "language_info": {
   "codemirror_mode": {
    "name": "ipython",
    "version": 3
   },
   "file_extension": ".py",
   "mimetype": "text/x-python",
   "name": "python",
   "nbconvert_exporter": "python",
   "pygments_lexer": "ipython3",
   "version": "3.10.8"
  }
 },
 "nbformat": 4,
 "nbformat_minor": 5
}
