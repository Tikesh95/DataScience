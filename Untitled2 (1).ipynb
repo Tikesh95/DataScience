{
 "cells": [
  {
   "cell_type": "code",
   "execution_count": null,
   "id": "2811efde-f91b-400f-a9a4-43cf81b47c13",
   "metadata": {},
   "outputs": [],
   "source": [
    "Q1. Explain Class and Object with respect to Object-Oriented Programming. Give a suitable example."
   ]
  },
  {
   "cell_type": "code",
   "execution_count": null,
   "id": "97b04546-2f1d-4ded-90e8-35ce2a2c0862",
   "metadata": {},
   "outputs": [],
   "source": [
    "\n",
    "In object-oriented programming (OOP), a class is a blueprint or template for creating objects. It defines a set of attributes and methods that the objects of the class will have. An object, on the other hand, is an instance of a class, and it represents a specific, tangible entity in the program."
   ]
  },
  {
   "cell_type": "code",
   "execution_count": 1,
   "id": "1f4c27c0-09f4-41da-b9ae-352c238e004c",
   "metadata": {},
   "outputs": [
    {
     "name": "stdout",
     "output_type": "stream",
     "text": [
      "Buddy is 3 years old and belongs to the Canine species.\n",
      "Woof!\n",
      "Max is 5 years old and belongs to the Canine species.\n",
      "Woof!\n"
     ]
    }
   ],
   "source": [
    "# Define a simple class\n",
    "class Dog:\n",
    "    # Class attribute\n",
    "    species = \"Canine\"\n",
    "\n",
    "    # Constructor method (initializer)\n",
    "    def __init__(self, name, age):\n",
    "        # Instance attributes\n",
    "        self.name = name\n",
    "        self.age = age\n",
    "\n",
    "    # Instance method\n",
    "    def bark(self):\n",
    "        print(\"Woof!\")\n",
    "\n",
    "# Create objects (instances) of the Dog class\n",
    "dog1 = Dog(\"Buddy\", 3)\n",
    "dog2 = Dog(\"Max\", 5)\n",
    "\n",
    "# Access attributes and call methods of the objects\n",
    "print(f\"{dog1.name} is {dog1.age} years old and belongs to the {dog1.species} species.\")\n",
    "dog1.bark()\n",
    "\n",
    "print(f\"{dog2.name} is {dog2.age} years old and belongs to the {dog2.species} species.\")\n",
    "dog2.bark()\n"
   ]
  },
  {
   "cell_type": "code",
   "execution_count": null,
   "id": "2ba1c2ae-add1-4e8d-869d-6cde4702478e",
   "metadata": {},
   "outputs": [],
   "source": [
    "Q2. Name the four pillars of OOPs."
   ]
  },
  {
   "cell_type": "code",
   "execution_count": null,
   "id": "926330f2-d712-4375-942f-cc5dfc0a6fc8",
   "metadata": {},
   "outputs": [],
   "source": [
    "The four pillars of object-oriented programming (OOP) are:\n",
    "    1.Encapsulation\n",
    "    2.Abstraction\n",
    "    3.Inheritance\n",
    "    4.Polymorphism"
   ]
  },
  {
   "cell_type": "code",
   "execution_count": null,
   "id": "958444bd-62b8-4d9c-989a-205c0769dfd7",
   "metadata": {},
   "outputs": [],
   "source": [
    "Q3. Explain why the __init__() function is used. Give a suitable example."
   ]
  },
  {
   "cell_type": "code",
   "execution_count": null,
   "id": "deab4927-bbba-4fd1-984a-c082583ee6a0",
   "metadata": {},
   "outputs": [],
   "source": [
    "The __init__() function in Python is a special method, often referred to as the constructor, that is automatically called when an object is created from a class. Its primary purpose is to initialize the attributes of the object and perform any setup required for the object to function correctly."
   ]
  },
  {
   "cell_type": "code",
   "execution_count": 2,
   "id": "f7f3d570-33d6-4d90-b0d7-c7cdeae62157",
   "metadata": {},
   "outputs": [
    {
     "name": "stdout",
     "output_type": "stream",
     "text": [
      "My car is a 2022 Toyota Camry.\n",
      "Is the engine running? No\n",
      "The 2022 Toyota Camry's engine is now running.\n",
      "Is the engine running? Yes\n",
      "The 2022 Toyota Camry's engine is now stopped.\n",
      "Is the engine running? No\n"
     ]
    }
   ],
   "source": [
    "class Car:\n",
    "    def __init__(self, make, model, year):\n",
    "        # Attributes initialization\n",
    "        self.make = make\n",
    "        self.model = model\n",
    "        self.year = year\n",
    "        self.is_running = False  # Additional attribute for car's running state\n",
    "\n",
    "    def start_engine(self):\n",
    "        print(f\"The {self.year} {self.make} {self.model}'s engine is now running.\")\n",
    "        self.is_running = True\n",
    "\n",
    "    def stop_engine(self):\n",
    "        print(f\"The {self.year} {self.make} {self.model}'s engine is now stopped.\")\n",
    "        self.is_running = False\n",
    "\n",
    "# Creating an instance of the Car class\n",
    "my_car = Car(make=\"Toyota\", model=\"Camry\", year=2022)\n",
    "\n",
    "# Accessing attributes and methods\n",
    "print(f\"My car is a {my_car.year} {my_car.make} {my_car.model}.\")\n",
    "print(f\"Is the engine running? {'Yes' if my_car.is_running else 'No'}\")\n",
    "\n",
    "# Starting the engine\n",
    "my_car.start_engine()\n",
    "print(f\"Is the engine running? {'Yes' if my_car.is_running else 'No'}\")\n",
    "\n",
    "# Stopping the engine\n",
    "my_car.stop_engine()\n",
    "print(f\"Is the engine running? {'Yes' if my_car.is_running else 'No'}\")\n"
   ]
  },
  {
   "cell_type": "code",
   "execution_count": null,
   "id": "144ce759-f6e3-4c83-a284-2d12dda0799e",
   "metadata": {},
   "outputs": [],
   "source": [
    "Q4. Why self is used in OOPs?"
   ]
  },
  {
   "cell_type": "code",
   "execution_count": null,
   "id": "464b79c0-4a64-416d-a732-ce301c5d0bef",
   "metadata": {},
   "outputs": [],
   "source": [
    "In object-oriented programming (OOP), self is a convention used in the method definitions within a class to represent the instance of the class itself. It is the first parameter of any method in a class, including the __init__ method (constructor), and it refers to the object on which the method is called."
   ]
  },
  {
   "cell_type": "code",
   "execution_count": null,
   "id": "6f23af20-93ae-469f-8835-940f7895f961",
   "metadata": {},
   "outputs": [],
   "source": [
    "Q5. What is inheritance? Give an example for each type of inheritance."
   ]
  },
  {
   "cell_type": "code",
   "execution_count": null,
   "id": "ed34d46e-7604-4c3d-a093-1be2776ca848",
   "metadata": {},
   "outputs": [],
   "source": [
    "Inheritance is a fundamental concept in object-oriented programming (OOP) that allows a new class (called the derived or child class) to inherit attributes and methods from an existing class (called the base or parent class). This promotes code reuse, extensibility, and the creation of a hierarchy of classes."
   ]
  },
  {
   "cell_type": "code",
   "execution_count": 3,
   "id": "275f3806-3695-4b7d-97ea-24306ade6868",
   "metadata": {},
   "outputs": [
    {
     "name": "stdout",
     "output_type": "stream",
     "text": [
      "Animal speaks\n",
      "Dog barks\n"
     ]
    }
   ],
   "source": [
    "# Single Inheritance Example\n",
    "class Animal:\n",
    "    def speak(self):\n",
    "        print(\"Animal speaks\")\n",
    "\n",
    "class Dog(Animal):\n",
    "    def bark(self):\n",
    "        print(\"Dog barks\")\n",
    "\n",
    "# Creating an instance of Dog\n",
    "my_dog = Dog()\n",
    "my_dog.speak()  # Inherited from Animal\n",
    "my_dog.bark()\n"
   ]
  },
  {
   "cell_type": "code",
   "execution_count": null,
   "id": "8b81dd0a-f5ce-4afc-a1fb-68cf5b901b6b",
   "metadata": {},
   "outputs": [],
   "source": []
  }
 ],
 "metadata": {
  "kernelspec": {
   "display_name": "Python 3 (ipykernel)",
   "language": "python",
   "name": "python3"
  },
  "language_info": {
   "codemirror_mode": {
    "name": "ipython",
    "version": 3
   },
   "file_extension": ".py",
   "mimetype": "text/x-python",
   "name": "python",
   "nbconvert_exporter": "python",
   "pygments_lexer": "ipython3",
   "version": "3.10.8"
  }
 },
 "nbformat": 4,
 "nbformat_minor": 5
}
