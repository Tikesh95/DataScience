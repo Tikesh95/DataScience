{
 "cells": [
  {
   "cell_type": "code",
   "execution_count": null,
   "id": "fafa9a42-352c-4e45-a990-a9b14e8e1ae0",
   "metadata": {},
   "outputs": [],
   "source": [
    "Q1. Explain GET and POST methods."
   ]
  },
  {
   "cell_type": "code",
   "execution_count": null,
   "id": "d480b0be-862d-4491-89c3-15a5d4206df2",
   "metadata": {},
   "outputs": [],
   "source": [
    "GET Method:\n",
    "Purpose:\n",
    "\n",
    "Used to request data from a specified resource.\n",
    "Parameters are included in the URL.\n",
    "Data in URL:\n",
    "\n",
    "Parameters are appended to the URL in the form of key-value pairs.\n",
    "Visible in the URL, which makes it less secure.\n",
    "Limited amount of data can be sent (URL length restrictions).\n",
    "Caching:\n",
    "\n",
    "Responses can be cached by browsers.\n",
    "Bookmarked or shared easily.\n",
    "Idempotent:\n",
    "\n",
    "Requests are idempotent, meaning making the same request multiple times has the same effect as making it once.\n",
    "Use Cases:\n",
    "\n",
    "Retrieving data from a server.\n",
    "Bookmarking or sharing URLs.\n",
    "Browser history."
   ]
  },
  {
   "cell_type": "code",
   "execution_count": null,
   "id": "6a808ec2-cc9a-405c-87aa-a47a4383c746",
   "metadata": {},
   "outputs": [],
   "source": [
    "\n",
    "GET and POST are two HTTP methods used to request and send data between clients and servers.\n",
    "\n",
    "GET Method:\n",
    "Purpose:\n",
    "\n",
    "Used to request data from a specified resource.\n",
    "Parameters are included in the URL.\n",
    "Data in URL:\n",
    "\n",
    "Parameters are appended to the URL in the form of key-value pairs.\n",
    "Visible in the URL, which makes it less secure.\n",
    "Limited amount of data can be sent (URL length restrictions).\n",
    "Caching:\n",
    "\n",
    "Responses can be cached by browsers.\n",
    "Bookmarked or shared easily.\n",
    "Idempotent:\n",
    "\n",
    "Requests are idempotent, meaning making the same request multiple times has the same effect as making it once.\n",
    "Use Cases:\n",
    "\n",
    "Retrieving data from a server.\n",
    "Bookmarking or sharing URLs.\n",
    "Browser history.\n",
    "POST Method:\n",
    "Purpose:\n",
    "\n",
    "Used to submit data to be processed to a specified resource.\n",
    "Parameters are sent in the request body.\n",
    "Data in Request Body:\n",
    "\n",
    "Parameters are included in the body of the request.\n",
    "Not visible in the URL, making it more secure.\n",
    "Can send larger amounts of data.\n",
    "Caching:\n",
    "\n",
    "Responses are typically not cached by browsers.\n",
    "Not suitable for bookmarking or sharing.\n",
    "Idempotent:\n",
    "\n",
    "Requests are not idempotent, meaning making the same request multiple times may have different effects.\n",
    "Use Cases:\n",
    "\n",
    "Submitting forms on a web page.\n",
    "Uploading a file.\n",
    "Sending sensitive information (passwords, etc.)."
   ]
  },
  {
   "cell_type": "code",
   "execution_count": null,
   "id": "5a0ff4f0-8747-4a46-95ee-794003606294",
   "metadata": {},
   "outputs": [],
   "source": [
    "Q2. Why is request used in Flask?"
   ]
  },
  {
   "cell_type": "code",
   "execution_count": null,
   "id": "3957bc6d-e62d-4f13-a61f-394ee024230c",
   "metadata": {},
   "outputs": [],
   "source": [
    "Here are some common use cases for the request object in Flask:\n",
    "    1.Accessing Form Data\n",
    "    2.Handling Query Parameters\n",
    "    3.Cookies\n",
    "    4.Request Headers\n",
    "    5.File Uploads\n",
    "    In Flask, the request object is used to access and handle incoming client requests made to the server. It provides a way to interact with the data sent by the client, such as form data, query parameters, cookies, and more. The request object is part of the Flask module werkzeug, which Flask builds upon."
   ]
  },
  {
   "cell_type": "code",
   "execution_count": null,
   "id": "178359db-0401-415b-b497-01bb05d344b2",
   "metadata": {},
   "outputs": [],
   "source": [
    "Q3. Why is redirect() used in Flask?"
   ]
  },
  {
   "cell_type": "code",
   "execution_count": null,
   "id": "e4adb0c2-6541-4c30-ae1c-4d78ed14d27d",
   "metadata": {},
   "outputs": [],
   "source": [
    "\n",
    "In Flask, the redirect() function is used to redirect the client to a different URL. This function is particularly useful when you want to guide the user to another endpoint within your Flask application or to an external URL.\n",
    "\n",
    "Here are some common use cases for the redirect() function in Flask:\n",
    "\n",
    "Redirecting to Another Endpoint:\n",
    "\n",
    "After processing a form submission or handling some logic, you may want to redirect the user to a different page within your application.\n",
    "Handling Successful Operations:\n",
    "\n",
    "After successfully completing an operation (e.g., creating a new user account), you can redirect the user to a success page."
   ]
  },
  {
   "cell_type": "code",
   "execution_count": null,
   "id": "eca3e625-5e8d-413e-bbc1-96243ebf97ea",
   "metadata": {},
   "outputs": [],
   "source": [
    "Q4. What are templates in Flask? Why is the render_template() function used?"
   ]
  },
  {
   "cell_type": "code",
   "execution_count": null,
   "id": "bd6c15eb-6ab1-42fe-9be6-ccd3790be207",
   "metadata": {},
   "outputs": [],
   "source": [
    "In Flask, templates are used to separate the presentation logic from the application logic. A template is essentially an HTML file that includes placeholders for dynamic content. These placeholders are filled with actual data when the template is rendered. This approach helps in creating dynamic and maintainable web pages by keeping the HTML structure separate from the Python code.\n",
    "\n",
    "The render_template() function in Flask is used to render templates and generate HTML responses. It takes the name of the template file as an argument and can also include variables that will be passed to the template for dynamic content.\n",
    "\n",
    "Here's a brief overview of why templates are used in Flask and the purpose of the render_template() function:\n",
    "\n",
    "Templates in Flask:\n",
    "Separation of Concerns:\n",
    "\n",
    "Templates allow developers to separate the HTML structure from the application logic. This separation of concerns makes the codebase more modular and maintainable.\n",
    "Dynamic Content:\n",
    "\n",
    "Templates can include placeholders (variables) that are replaced with actual data when rendering the template. This allows for the dynamic generation of HTML content based on application data.\n",
    "Reusable Components:\n",
    "\n",
    "Templates can include reusable components, such as headers, footers, and navigation bars. This promotes code reuse and consistency across different pages of the web application.\n",
    "Ease of Maintenance:\n",
    "\n",
    "With templates, changes to the HTML structure or layout can be made without affecting the underlying application logic. This makes it easier to update the user interface without modifying the backend code."
   ]
  },
  {
   "cell_type": "code",
   "execution_count": null,
   "id": "fc24779e-0836-48b4-befd-5c91fffd4722",
   "metadata": {},
   "outputs": [],
   "source": [
    "Q5. Create a simple API. Use Postman to test it. Attach the screenshot of the output in the Jupyter Notebook."
   ]
  },
  {
   "cell_type": "code",
   "execution_count": null,
   "id": "4cbce6f5-42a8-4aea-9d17-1987bc63b869",
   "metadata": {},
   "outputs": [],
   "source": [
    "from flask import Flask, jsonify\n",
    "\n",
    "app = Flask(__name__)\n",
    "\n",
    "@app.route('/api/hello', methods=['GET'])\n",
    "def hello():\n",
    "    return jsonify(message='Hello, API!')\n",
    "\n",
    "if __name__ == '__main__':\n",
    "    app.run(debug=True)\n"
   ]
  },
  {
   "cell_type": "code",
   "execution_count": null,
   "id": "359fa633-ce7e-4970-9cdb-dffed7204435",
   "metadata": {},
   "outputs": [],
   "source": []
  }
 ],
 "metadata": {
  "kernelspec": {
   "display_name": "Python 3 (ipykernel)",
   "language": "python",
   "name": "python3"
  },
  "language_info": {
   "codemirror_mode": {
    "name": "ipython",
    "version": 3
   },
   "file_extension": ".py",
   "mimetype": "text/x-python",
   "name": "python",
   "nbconvert_exporter": "python",
   "pygments_lexer": "ipython3",
   "version": "3.10.8"
  }
 },
 "nbformat": 4,
 "nbformat_minor": 5
}
