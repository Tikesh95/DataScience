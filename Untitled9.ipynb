{
 "cells": [
  {
   "cell_type": "code",
   "execution_count": null,
   "id": "56a9342e-6210-4d29-bc53-5f95b3aec61f",
   "metadata": {},
   "outputs": [],
   "source": [
    "Q1. Which function is used to open a file? What are the different modes of opening a file? Explain each mode\n",
    "of file opening."
   ]
  },
  {
   "cell_type": "code",
   "execution_count": null,
   "id": "c49159f7-1179-453c-bc59-7acaccb68f63",
   "metadata": {},
   "outputs": [],
   "source": [
    "In Python, the open() function is used to open a file. The open() function takes two arguments: the file name (or path) and the mode in which the file should be opened. The basic syntax is:"
   ]
  },
  {
   "cell_type": "code",
   "execution_count": null,
   "id": "27bd491f-d4f9-4898-9772-e3dc9246dfaf",
   "metadata": {},
   "outputs": [],
   "source": [
    "open(file, mode)"
   ]
  },
  {
   "cell_type": "code",
   "execution_count": null,
   "id": "5f490ccc-3446-4533-876f-3013f9115fff",
   "metadata": {},
   "outputs": [],
   "source": [
    "file = open(\"example.txt\", \"r\")"
   ]
  },
  {
   "cell_type": "code",
   "execution_count": null,
   "id": "b27f3d90-857b-46f9-a6f1-2cee1c549778",
   "metadata": {},
   "outputs": [],
   "source": [
    "file = open(\"example.txt\", \"w\")"
   ]
  },
  {
   "cell_type": "code",
   "execution_count": null,
   "id": "4b55b333-1e19-477c-8547-8edd4f174d6e",
   "metadata": {},
   "outputs": [],
   "source": [
    "file = open(\"example.txt\", \"a\")"
   ]
  },
  {
   "cell_type": "code",
   "execution_count": null,
   "id": "15b65598-d0cf-4310-a5cd-f35993f5bf61",
   "metadata": {},
   "outputs": [],
   "source": [
    "file = open(\"example.jpg\", \"rb\")"
   ]
  },
  {
   "cell_type": "code",
   "execution_count": null,
   "id": "ed2c6bf1-880c-443e-b65d-576a689cfdae",
   "metadata": {},
   "outputs": [],
   "source": [
    "file = open(\"example.txt\", \"r+\")"
   ]
  },
  {
   "cell_type": "code",
   "execution_count": null,
   "id": "b41c6d59-28ca-4f21-a49c-2b45c3691a83",
   "metadata": {},
   "outputs": [],
   "source": [
    "file = open(\"example.txt\", \"x\")"
   ]
  },
  {
   "cell_type": "code",
   "execution_count": null,
   "id": "2e5167b7-fbdc-45d0-8e75-9b9fb61d8117",
   "metadata": {},
   "outputs": [],
   "source": [
    "Q2. Why close() function is used? Why is it important to close a file?"
   ]
  },
  {
   "cell_type": "code",
   "execution_count": null,
   "id": "0f209583-6a88-442a-b2fd-663ebda02c0c",
   "metadata": {},
   "outputs": [],
   "source": [
    "The close() function in Python is used to close an opened file. When you open a file using the open() function, system resources are allocated to maintain the connection between your program and the file on the disk. The close() function is important because it releases these system resources and ensures that the file is properly closed.\n",
    "\n",
    "Reasons why it's important to close a file:\n",
    "Resource Management:\n",
    "\n",
    "Closing a file releases the system resources associated with it, such as file descriptors.\n",
    "Failing to close files can lead to resource leaks, particularly when dealing with a large number of files or in long-running programs.\n",
    "Data Integrity:\n",
    "\n",
    "Closing a file ensures that all the data that you wrote or buffered is properly flushed to the file on the disk.\n",
    "This is crucial to make sure that changes made to the file are persistent and not lost in case of program termination or crash.\n",
    "Concurrency:\n",
    "\n",
    "Closing a file allows other processes or programs to access the file.\n",
    "Some operating systems or environments may restrict access to an open file, and closing it makes it available for other processes to use.\n",
    "File Locks:\n",
    "\n",
    "On some systems, files may be locked while they are open by a process.\n",
    "Closing the file releases the lock and allows other processes to access or modify the file."
   ]
  },
  {
   "cell_type": "code",
   "execution_count": null,
   "id": "cacf2c42-acb6-45a0-aa47-98ba57c04cad",
   "metadata": {},
   "outputs": [],
   "source": [
    "Q3. Write a python program to create a text file. Write ‘I want to become a Data Scientist’ in that file. Then\n",
    "close the file. Open this file and read the content of the file."
   ]
  },
  {
   "cell_type": "code",
   "execution_count": 1,
   "id": "8a7458d2-7555-45e7-b045-7cc2f6ff455a",
   "metadata": {},
   "outputs": [
    {
     "name": "stdout",
     "output_type": "stream",
     "text": [
      "Content of the file:\n",
      "I want to become a Data Scientist\n"
     ]
    }
   ],
   "source": [
    "# Creating a text file and writing content to it\n",
    "with open(\"data_scientist.txt\", \"w\") as file:\n",
    "    file.write(\"I want to become a Data Scientist\")\n",
    "\n",
    "# Opening the file and reading its content\n",
    "with open(\"data_scientist.txt\", \"r\") as file:\n",
    "    content = file.read()\n",
    "    print(\"Content of the file:\")\n",
    "    print(content)\n"
   ]
  },
  {
   "cell_type": "code",
   "execution_count": null,
   "id": "ed6b4494-c5d3-4608-be59-676ab8edad11",
   "metadata": {},
   "outputs": [],
   "source": [
    "Q4. Explain the following with python code: read(), readline() and readlines()."
   ]
  },
  {
   "cell_type": "code",
   "execution_count": null,
   "id": "ec5dcfc3-8a29-4210-be2b-28c76d6f21e9",
   "metadata": {},
   "outputs": [],
   "source": [
    "read()"
   ]
  },
  {
   "cell_type": "code",
   "execution_count": null,
   "id": "d8e65100-89ae-474d-bd9e-b09a5498da66",
   "metadata": {},
   "outputs": [],
   "source": [
    "# Opening the file in read mode\n",
    "with open(\"example.txt\", \"r\") as file:\n",
    "    content = file.read()\n",
    "    print(\"Content of the file:\")\n",
    "    print(content)\n"
   ]
  },
  {
   "cell_type": "code",
   "execution_count": null,
   "id": "6e5ddceb-966e-490e-81c0-197de09c8128",
   "metadata": {},
   "outputs": [],
   "source": [
    "readline()"
   ]
  },
  {
   "cell_type": "code",
   "execution_count": null,
   "id": "49b1285c-a41e-44b8-a2e5-b0160c85c2eb",
   "metadata": {},
   "outputs": [],
   "source": [
    "# Opening the file in read mode\n",
    "with open(\"example.txt\", \"r\") as file:\n",
    "    line1 = file.readline()\n",
    "    line2 = file.readline()\n",
    "    print(\"Content of the first two lines:\")\n",
    "    print(line1)\n",
    "    print(line2)\n"
   ]
  },
  {
   "cell_type": "code",
   "execution_count": null,
   "id": "e730b10d-a61d-466c-8e0c-9b9efb9bd848",
   "metadata": {},
   "outputs": [],
   "source": [
    "readlines()"
   ]
  },
  {
   "cell_type": "code",
   "execution_count": null,
   "id": "9f2a92b4-9842-4abf-97ae-30387814e578",
   "metadata": {},
   "outputs": [],
   "source": [
    "# Opening the file in read mode\n",
    "with open(\"example.txt\", \"r\") as file:\n",
    "    lines = file.readlines()\n",
    "    print(\"Content of the file as a list of lines:\")\n",
    "    print(lines)\n"
   ]
  },
  {
   "cell_type": "code",
   "execution_count": null,
   "id": "69321c09-d641-43ad-8dc3-b9c6b8bfb109",
   "metadata": {},
   "outputs": [],
   "source": [
    "Q5. Explain why with statement is used with open(). What is the advantage of using with statement and\n",
    "open() together?"
   ]
  },
  {
   "cell_type": "code",
   "execution_count": null,
   "id": "cffbc230-4882-4ad0-9376-5bd6064512e6",
   "metadata": {},
   "outputs": [],
   "source": [
    "The with statement in Python is used in conjunction with the open() function when dealing with file I/O. The primary advantage of using the with statement is that it ensures proper acquisition and release of resources, such as file handles. This is particularly important when working with files because it automatically takes care of closing the file, even if an exception occurs within the indented block."
   ]
  },
  {
   "cell_type": "code",
   "execution_count": null,
   "id": "21dc0c0d-8469-48fd-acfd-92d22241c727",
   "metadata": {},
   "outputs": [],
   "source": [
    "Without with"
   ]
  },
  {
   "cell_type": "code",
   "execution_count": null,
   "id": "1515de30-eccb-4a42-944e-1b1e3bfeb924",
   "metadata": {},
   "outputs": [],
   "source": [
    "file = open(\"example.txt\", \"r\")\n",
    "try:\n",
    "    content = file.read()\n",
    "    # File operations go here\n",
    "finally:\n",
    "    file.close()\n"
   ]
  },
  {
   "cell_type": "code",
   "execution_count": null,
   "id": "dde3c352-1630-46ff-af41-f6d49da7a8e5",
   "metadata": {},
   "outputs": [],
   "source": [
    "With with"
   ]
  },
  {
   "cell_type": "code",
   "execution_count": null,
   "id": "f6b48603-1bda-45d1-aead-81fe57012ebf",
   "metadata": {},
   "outputs": [],
   "source": [
    "with open(\"example.txt\", \"r\") as file:\n",
    "    content = file.read()\n",
    "    # File operations go here\n"
   ]
  },
  {
   "cell_type": "code",
   "execution_count": null,
   "id": "3fc95643-608a-4f79-b94c-3a1882786c66",
   "metadata": {},
   "outputs": [],
   "source": [
    "Q6. Explain the write() and writelines() functions. Give a suitable example."
   ]
  },
  {
   "cell_type": "code",
   "execution_count": null,
   "id": "e53f6dde-f660-4542-9d80-f9aac33d00fd",
   "metadata": {},
   "outputs": [],
   "source": [
    "write()\n",
    "The write() method is used to write a string to a file. It is typically used to write a single string or a line of text to the file"
   ]
  },
  {
   "cell_type": "code",
   "execution_count": null,
   "id": "be0a0ad5-229d-4447-9679-2b0147e46dc6",
   "metadata": {},
   "outputs": [],
   "source": [
    "# Opening the file in write mode\n",
    "with open(\"example.txt\", \"w\") as file:\n",
    "    file.write(\"Hello, this is a sample text.\\n\")\n",
    "    file.write(\"Writing to a file using the write() method.\\n\")\n"
   ]
  },
  {
   "cell_type": "code",
   "execution_count": null,
   "id": "75e3a356-ddf2-441e-b113-3fd718bf9cb8",
   "metadata": {},
   "outputs": [],
   "source": [
    "writelines()"
   ]
  },
  {
   "cell_type": "code",
   "execution_count": null,
   "id": "7e4f2b40-2588-403f-b69c-1d89dace27d6",
   "metadata": {},
   "outputs": [],
   "source": [
    "# Opening the file in write mode\n",
    "with open(\"example.txt\", \"w\") as file:\n",
    "    lines = [\"Line 1\\n\", \"Line 2\\n\", \"Line 3\\n\"]\n",
    "    file.writelines(lines)\n"
   ]
  }
 ],
 "metadata": {
  "kernelspec": {
   "display_name": "Python 3 (ipykernel)",
   "language": "python",
   "name": "python3"
  },
  "language_info": {
   "codemirror_mode": {
    "name": "ipython",
    "version": 3
   },
   "file_extension": ".py",
   "mimetype": "text/x-python",
   "name": "python",
   "nbconvert_exporter": "python",
   "pygments_lexer": "ipython3",
   "version": "3.10.8"
  }
 },
 "nbformat": 4,
 "nbformat_minor": 5
}
