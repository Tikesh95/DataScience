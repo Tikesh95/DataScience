{
 "cells": [
  {
   "cell_type": "code",
   "execution_count": null,
   "id": "06ac015b-126f-4340-b9b5-3ed8e6088f58",
   "metadata": {},
   "outputs": [],
   "source": [
    "Q1, Create a vehicle class with an init method having instance variables as name_of_vehicle, max_speed\n",
    "and average_of_vehicle."
   ]
  },
  {
   "cell_type": "code",
   "execution_count": 1,
   "id": "dd292106-93e5-49cd-b18e-9b7a396951a7",
   "metadata": {},
   "outputs": [
    {
     "name": "stdout",
     "output_type": "stream",
     "text": [
      "Car: Max Speed - 200 km/h, Average Speed - 60 km/h\n",
      "Bike: Max Speed - 120 km/h, Average Speed - 40 km/h\n"
     ]
    }
   ],
   "source": [
    "class Vehicle:\n",
    "    def __init__(self, name_of_vehicle, max_speed, average_speed):\n",
    "        self.name_of_vehicle = name_of_vehicle\n",
    "        self.max_speed = max_speed\n",
    "        self.average_speed = average_speed\n",
    "\n",
    "# Example usage:\n",
    "car = Vehicle(\"Car\", 200, 60)\n",
    "bike = Vehicle(\"Bike\", 120, 40)\n",
    "\n",
    "# Accessing instance variables\n",
    "print(f\"{car.name_of_vehicle}: Max Speed - {car.max_speed} km/h, Average Speed - {car.average_speed} km/h\")\n",
    "print(f\"{bike.name_of_vehicle}: Max Speed - {bike.max_speed} km/h, Average Speed - {bike.average_speed} km/h\")\n"
   ]
  },
  {
   "cell_type": "code",
   "execution_count": null,
   "id": "cbb2c607-eae3-4e7a-a059-4ee68436edf1",
   "metadata": {},
   "outputs": [],
   "source": [
    "Q2. Create a child class car from the vehicle class created in Que 1, which will inherit the vehicle class.\n",
    "Create a method named seating_capacity which takes capacity as an argument and returns the name of\n",
    "the vehicle and its seating capacity."
   ]
  },
  {
   "cell_type": "code",
   "execution_count": 2,
   "id": "3baab5c7-d4a6-4776-9892-755958c00f1a",
   "metadata": {},
   "outputs": [
    {
     "name": "stdout",
     "output_type": "stream",
     "text": [
      "Sedan: Max Speed - 180 km/h, Average Speed - 50 km/h\n",
      "Sedan has a seating capacity of 5 people.\n"
     ]
    }
   ],
   "source": [
    "class Car(Vehicle):\n",
    "    def __init__(self, name_of_vehicle, max_speed, average_speed):\n",
    "        # Calling the constructor of the parent class (Vehicle)\n",
    "        super().__init__(name_of_vehicle, max_speed, average_speed)\n",
    "\n",
    "    def seating_capacity(self, capacity):\n",
    "        return f\"{self.name_of_vehicle} has a seating capacity of {capacity} people.\"\n",
    "\n",
    "# Example usage:\n",
    "car_instance = Car(\"Sedan\", 180, 50)\n",
    "\n",
    "# Accessing instance variables inherited from Vehicle\n",
    "print(f\"{car_instance.name_of_vehicle}: Max Speed - {car_instance.max_speed} km/h, Average Speed - {car_instance.average_speed} km/h\")\n",
    "\n",
    "# Using the seating_capacity method\n",
    "capacity_info = car_instance.seating_capacity(5)\n",
    "print(capacity_info)\n"
   ]
  },
  {
   "cell_type": "code",
   "execution_count": null,
   "id": "730db78e-237e-4344-8869-53e817070b41",
   "metadata": {},
   "outputs": [],
   "source": [
    "Q3. What is multiple inheritance? Write a python code to demonstrate multiple inheritance."
   ]
  },
  {
   "cell_type": "code",
   "execution_count": null,
   "id": "3ecc2b1f-5f16-422d-aebf-409068a8f7c2",
   "metadata": {},
   "outputs": [],
   "source": [
    "Multiple inheritance is a feature in object-oriented programming where a class can inherit attributes and methods from more than one parent class. In Python, a class can inherit from multiple classes by specifying them in the class definition. While multiple inheritance provides flexibility, it can also lead to challenges such as the diamond problem."
   ]
  },
  {
   "cell_type": "code",
   "execution_count": 3,
   "id": "258598af-a8a1-4f03-9ef6-e093098ef17c",
   "metadata": {},
   "outputs": [
    {
     "name": "stdout",
     "output_type": "stream",
     "text": [
      "Engine started.\n",
      "Battery charged.\n",
      "Hybrid car is driving.\n"
     ]
    }
   ],
   "source": [
    "class Engine:\n",
    "    def start(self):\n",
    "        return \"Engine started.\"\n",
    "\n",
    "class ElectricMotor:\n",
    "    def charge(self):\n",
    "        return \"Battery charged.\"\n",
    "\n",
    "class HybridCar(Engine, ElectricMotor):\n",
    "    def drive(self):\n",
    "        return \"Hybrid car is driving.\"\n",
    "\n",
    "# Example usage\n",
    "hybrid_car = HybridCar()\n",
    "\n",
    "# Inheriting methods from both Engine and ElectricMotor\n",
    "print(hybrid_car.start())   # Method from Engine class\n",
    "print(hybrid_car.charge())  # Method from ElectricMotor class\n",
    "\n",
    "# Method specific to the HybridCar class\n",
    "print(hybrid_car.drive())\n"
   ]
  },
  {
   "cell_type": "code",
   "execution_count": null,
   "id": "84eeb882-d753-449f-91f0-5b132ad07037",
   "metadata": {},
   "outputs": [],
   "source": [
    "Q4. What are getter and setter in python? Create a class and create a getter and a setter method in this\n",
    "class."
   ]
  },
  {
   "cell_type": "code",
   "execution_count": null,
   "id": "99cc712f-d506-4a42-bdb1-2a64e530f5ce",
   "metadata": {},
   "outputs": [],
   "source": [
    "In Python, getter and setter methods are used to access and modify the private attributes of a class. These methods provide a way to encapsulate the internal state of an object and control how attributes are accessed and modified from outside the class.\n",
    "\n",
    "Getter Method: Retrieves the value of a private attribute.\n",
    "Setter Method: Modifies the value of a private attribute."
   ]
  },
  {
   "cell_type": "code",
   "execution_count": 4,
   "id": "d0325b04-c842-439c-807a-f29144fdb16d",
   "metadata": {},
   "outputs": [
    {
     "name": "stdout",
     "output_type": "stream",
     "text": [
      "Name: Alice\n",
      "Age: 20\n",
      "Updated Name: Bob\n",
      "Updated Age: 25\n"
     ]
    }
   ],
   "source": [
    "class Student:\n",
    "    def __init__(self, name, age):\n",
    "        # Private attributes\n",
    "        self._name = name\n",
    "        self._age = age\n",
    "\n",
    "    # Getter method for name\n",
    "    def get_name(self):\n",
    "        return self._name\n",
    "\n",
    "    # Getter method for age\n",
    "    def get_age(self):\n",
    "        return self._age\n",
    "\n",
    "    # Setter method for name\n",
    "    def set_name(self, new_name):\n",
    "        self._name = new_name\n",
    "\n",
    "    # Setter method for age\n",
    "    def set_age(self, new_age):\n",
    "        if new_age >= 0:\n",
    "            self._age = new_age\n",
    "        else:\n",
    "            print(\"Age cannot be negative.\")\n",
    "\n",
    "# Example usage\n",
    "student1 = Student(\"Alice\", 20)\n",
    "\n",
    "# Using getter methods\n",
    "print(\"Name:\", student1.get_name())  # Accessing private attribute through getter\n",
    "print(\"Age:\", student1.get_age())    # Accessing private attribute through getter\n",
    "\n",
    "# Using setter methods\n",
    "student1.set_name(\"Bob\")  # Modifying private attribute through setter\n",
    "student1.set_age(25)      # Modifying private attribute through setter\n",
    "\n",
    "# Checking the updated values using getter methods\n",
    "print(\"Updated Name:\", student1.get_name())\n",
    "print(\"Updated Age:\", student1.get_age())\n"
   ]
  },
  {
   "cell_type": "code",
   "execution_count": null,
   "id": "a30b064e-2147-4863-bd7e-161157930a42",
   "metadata": {},
   "outputs": [],
   "source": [
    "Q5.What is method overriding in python? Write a python code to demonstrate method overriding."
   ]
  },
  {
   "cell_type": "code",
   "execution_count": null,
   "id": "a2f6099b-a1e2-480a-8030-09c82948d6ab",
   "metadata": {},
   "outputs": [],
   "source": [
    "\n",
    "Method overriding in Python occurs when a subclass provides a specific implementation for a method that is already defined in its superclass. The overridden method in the subclass has the same name, return type, and parameters as the method in the superclass. When the subclass object calls the overridden method, the specific implementation in the subclass is executed instead of the one in the superclass."
   ]
  },
  {
   "cell_type": "code",
   "execution_count": 5,
   "id": "70ad52c7-ffd4-41cc-a030-03aeea05d6d7",
   "metadata": {},
   "outputs": [
    {
     "name": "stdout",
     "output_type": "stream",
     "text": [
      "Animal speaks.\n",
      "Dog barks.\n",
      "Cat meows.\n"
     ]
    }
   ],
   "source": [
    "class Animal:\n",
    "    def speak(self):\n",
    "        return \"Animal speaks.\"\n",
    "\n",
    "class Dog(Animal):\n",
    "    # Method overriding\n",
    "    def speak(self):\n",
    "        return \"Dog barks.\"\n",
    "\n",
    "class Cat(Animal):\n",
    "    # Method overriding\n",
    "    def speak(self):\n",
    "        return \"Cat meows.\"\n",
    "\n",
    "# Example usage\n",
    "animal = Animal()\n",
    "dog = Dog()\n",
    "cat = Cat()\n",
    "\n",
    "# Calling speak method for each object\n",
    "print(animal.speak())  # Output: Animal speaks.\n",
    "print(dog.speak())     # Output: Dog barks.\n",
    "print(cat.speak())     # Output: Cat meows.\n"
   ]
  },
  {
   "cell_type": "code",
   "execution_count": null,
   "id": "fcf5c076-def0-4fa7-b27c-d2b3a8b4b695",
   "metadata": {},
   "outputs": [],
   "source": []
  }
 ],
 "metadata": {
  "kernelspec": {
   "display_name": "Python 3 (ipykernel)",
   "language": "python",
   "name": "python3"
  },
  "language_info": {
   "codemirror_mode": {
    "name": "ipython",
    "version": 3
   },
   "file_extension": ".py",
   "mimetype": "text/x-python",
   "name": "python",
   "nbconvert_exporter": "python",
   "pygments_lexer": "ipython3",
   "version": "3.10.8"
  }
 },
 "nbformat": 4,
 "nbformat_minor": 5
}
