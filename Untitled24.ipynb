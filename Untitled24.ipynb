{
 "cells": [
  {
   "cell_type": "code",
   "execution_count": null,
   "id": "c4497eb3-d321-47bd-a876-7d24bd38a49b",
   "metadata": {},
   "outputs": [],
   "source": [
    "Que 1: Name any five plots that we can plot using the Seaborn library. Also, state the uses of each plot."
   ]
  },
  {
   "cell_type": "code",
   "execution_count": null,
   "id": "ab5b789b-7746-4a8a-a571-3520fc7eee41",
   "metadata": {},
   "outputs": [],
   "source": [
    "\n",
    "Five Plots in Seaborn and Their Uses:\n",
    "\n",
    "1.Strip Plot:\n",
    "\n",
    "Use: Strip plots are useful for visualizing the distribution of a single continuous variable within different categories. Each data point is represented as a dot along the category axis.\n",
    "Example Use Case: Analyzing the distribution of exam scores for different classes.\n",
    "\n",
    "2.Box Plot (Boxen Plot):\n",
    "\n",
    "Use: Box plots display the distribution of a dataset across different categories, providing information about the central tendency and spread. Boxen plots are an enhanced version of box plots that handle larger datasets and show more quantiles.\n",
    "Example Use Case: Comparing the distribution of salaries in different job roles.\n",
    "\n",
    "3.Violin Plot:\n",
    "\n",
    "Use: Violin plots combine aspects of box plots and kernel density estimation, providing a summary of the data distribution. They are useful for comparing the distribution of a variable across different categories.\n",
    "Example Use Case: Visualizing the distribution of income levels in various regions.\n",
    "\n",
    "4.Pair Plot:\n",
    "\n",
    "Use: Pair plots are used to visualize the relationships between multiple variables in a dataset. It creates a matrix of scatter plots, histograms, and/or kernel density plots for each pair of variables.\n",
    "Example Use Case: Exploring the correlations between different features in a dataset.\n",
    "\n",
    "5.Heatmap:\n",
    "\n",
    "Use: Heatmaps are effective for visualizing the correlation matrix of a dataset. They use color intensity to represent the strength and direction of relationships between variables."
   ]
  },
  {
   "cell_type": "code",
   "execution_count": null,
   "id": "197186bb-a5d5-4a14-9b9f-ff82a92f7632",
   "metadata": {},
   "outputs": [],
   "source": [
    "Que 2: Load the \"fmri\" dataset using the load_dataset function of seaborn. Plot a line plot using x =\n",
    "\"timepoint\" and y = \"signal\" for different events and regions."
   ]
  },
  {
   "cell_type": "code",
   "execution_count": null,
   "id": "35e9eb8a-fa7a-4dbf-8f76-234def9490f1",
   "metadata": {},
   "outputs": [],
   "source": [
    "\n",
    "To accomplish this task, you can use the load_dataset function from Seaborn to load the \"fmri\" dataset and then create a line plot using the \"timepoint\" as the x-axis and \"signal\" as the y-axis, distinguishing between different events and regions. Here's the code to achieve this:"
   ]
  },
  {
   "cell_type": "code",
   "execution_count": null,
   "id": "33bcf2e0-2cd6-4598-b5d8-fd7a17ff15d4",
   "metadata": {},
   "outputs": [],
   "source": [
    "import seaborn as sns\n",
    "import matplotlib.pyplot as plt\n",
    "\n",
    "# Load the \"fmri\" dataset\n",
    "fmri_data = sns.load_dataset(\"fmri\")\n",
    "\n",
    "# Plot a line plot\n",
    "sns.lineplot(x=\"timepoint\", y=\"signal\", hue=\"event\", style=\"region\", data=fmri_data)\n",
    "\n",
    "# Set plot title and labels\n",
    "plt.title('Line Plot of \"fmri\" Dataset')\n",
    "plt.xlabel('Timepoint')\n",
    "plt.ylabel('Signal')\n",
    "\n",
    "# Show the plot\n",
    "plt.show()\n"
   ]
  },
  {
   "cell_type": "code",
   "execution_count": null,
   "id": "bc943c27-e389-430e-8e3c-446474bf9ac7",
   "metadata": {},
   "outputs": [],
   "source": [
    "Que 3: Load the \"titanic\" dataset using the load_dataset function of seaborn. Plot two box plots using x =\n",
    "'pclass', y = 'age' and y = 'fare'.\n",
    "Note: pclass, age, and fare are columns in the titanic dataset."
   ]
  },
  {
   "cell_type": "code",
   "execution_count": null,
   "id": "905f8224-1ff2-4345-935a-f3fbf14bf636",
   "metadata": {},
   "outputs": [],
   "source": [
    "import seaborn as sns\n",
    "import matplotlib.pyplot as plt\n",
    "\n",
    "# Load the \"titanic\" dataset\n",
    "titanic_data = sns.load_dataset(\"titanic\")\n",
    "\n",
    "# Create two box plots\n",
    "plt.figure(figsize=(12, 6))\n",
    "\n",
    "# Box plot for 'age'\n",
    "plt.subplot(1, 2, 1)\n",
    "sns.boxplot(x='pclass', y='age', data=titanic_data)\n",
    "plt.title('Box Plot of Age by Pclass')\n",
    "plt.xlabel('Pclass')\n",
    "plt.ylabel('Age')\n",
    "\n",
    "# Box plot for 'fare'\n",
    "plt.subplot(1, 2, 2)\n",
    "sns.boxplot(x='pclass', y='fare', data=titanic_data)\n",
    "plt.title('Box Plot of Fare by Pclass')\n",
    "plt.xlabel('Pclass')\n",
    "plt.ylabel('Fare')\n",
    "\n",
    "# Adjust layout\n",
    "plt.tight_layout()\n",
    "\n",
    "# Show the plots\n",
    "plt.show()\n"
   ]
  },
  {
   "cell_type": "code",
   "execution_count": null,
   "id": "9ee2bbe7-c34e-45b4-a28b-78ac5cf79f5e",
   "metadata": {},
   "outputs": [],
   "source": [
    "Que 4: Use the \"diamonds\" dataset from seaborn to plot a histogram for the 'price' column. Use the hue\n",
    "parameter for the 'cut' column of the diamonds dataset."
   ]
  },
  {
   "cell_type": "code",
   "execution_count": null,
   "id": "58507727-869d-49e1-8a01-be30b8b1a538",
   "metadata": {},
   "outputs": [],
   "source": [
    "import seaborn as sns\n",
    "import matplotlib.pyplot as plt\n",
    "\n",
    "# Load the \"diamonds\" dataset\n",
    "diamonds_data = sns.load_dataset(\"diamonds\")\n",
    "\n",
    "# Plot histogram with hue for 'cut'\n",
    "plt.figure(figsize=(10, 6))\n",
    "sns.histplot(data=diamonds_data, x='price', hue='cut', multiple=\"stack\", bins=30, kde=False)\n",
    "\n",
    "# Set plot title and labels\n",
    "plt.title('Histogram of Diamond Prices by Cut')\n",
    "plt.xlabel('Price')\n",
    "plt.ylabel('Frequency')\n",
    "\n",
    "# Show the plot\n",
    "plt.show()\n"
   ]
  },
  {
   "cell_type": "code",
   "execution_count": null,
   "id": "f96da4b1-aa11-4114-aafc-889769a5e9d6",
   "metadata": {},
   "outputs": [],
   "source": [
    "Que 5: Use the \"iris\" dataset from seaborn to plot a pair plot. Use the hue parameter for the \"species\" column\n",
    "of the iris dataset."
   ]
  },
  {
   "cell_type": "code",
   "execution_count": null,
   "id": "51813ef9-1b45-47ff-99a9-4595fbe2517c",
   "metadata": {},
   "outputs": [],
   "source": [
    "import seaborn as sns\n",
    "import matplotlib.pyplot as plt\n",
    "\n",
    "# Load the \"iris\" dataset\n",
    "iris_data = sns.load_dataset(\"iris\")\n",
    "\n",
    "# Plot pair plot with hue for 'species'\n",
    "sns.pairplot(iris_data, hue=\"species\")\n",
    "\n",
    "# Set plot title\n",
    "plt.suptitle('Pair Plot of Iris Dataset by Species', y=1.02)\n",
    "\n",
    "# Show the plot\n",
    "plt.show()\n"
   ]
  },
  {
   "cell_type": "code",
   "execution_count": null,
   "id": "c8b8f20d-3672-4220-bb7d-fa6937758c55",
   "metadata": {},
   "outputs": [],
   "source": [
    "Que 6: Use the \"flights\" dataset from seaborn to plot a heatmap."
   ]
  },
  {
   "cell_type": "code",
   "execution_count": null,
   "id": "ecccb5e7-632c-4609-9698-3eda406cb006",
   "metadata": {},
   "outputs": [],
   "source": [
    "import seaborn as sns\n",
    "import matplotlib.pyplot as plt\n",
    "\n",
    "# Load the \"flights\" dataset\n",
    "flights_data = sns.load_dataset(\"flights\")\n",
    "\n",
    "# Pivot the data to create a matrix for the heatmap\n",
    "flights_pivot = flights_data.pivot_table(index='month', columns='year', values='passengers')\n",
    "\n",
    "# Plot the heatmap\n",
    "plt.figure(figsize=(10, 8))\n",
    "sns.heatmap(flights_pivot, cmap='YlGnBu', annot=True, fmt='d', linewidths=.5)\n",
    "\n",
    "# Set plot title and labels\n",
    "plt.title('Heatmap of Flights Dataset')\n",
    "plt.xlabel('Year')\n",
    "plt.ylabel('Month')\n",
    "\n",
    "# Show the plot\n",
    "plt.show()\n"
   ]
  }
 ],
 "metadata": {
  "kernelspec": {
   "display_name": "Python 3 (ipykernel)",
   "language": "python",
   "name": "python3"
  },
  "language_info": {
   "codemirror_mode": {
    "name": "ipython",
    "version": 3
   },
   "file_extension": ".py",
   "mimetype": "text/x-python",
   "name": "python",
   "nbconvert_exporter": "python",
   "pygments_lexer": "ipython3",
   "version": "3.10.8"
  }
 },
 "nbformat": 4,
 "nbformat_minor": 5
}
