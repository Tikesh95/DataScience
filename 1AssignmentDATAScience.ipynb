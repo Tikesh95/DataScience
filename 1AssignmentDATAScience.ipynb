{
 "cells": [
  {
   "cell_type": "code",
   "execution_count": null,
   "id": "6219693c-1d93-4a49-871f-c2a09ad156d2",
   "metadata": {},
   "outputs": [],
   "source": [
    "Q1. Explain with an example each when to use a for loop and a while loop."
   ]
  },
  {
   "cell_type": "code",
   "execution_count": null,
   "id": "26c8cf92-8299-40fb-8fe6-ae60bbc8b07a",
   "metadata": {},
   "outputs": [],
   "source": [
    "For Loop:\n",
    "Use a for loop when you know the exact number of iterations or when you need to iterate over a sequence (such as a list, array, or range) a specific number of times."
   ]
  },
  {
   "cell_type": "code",
   "execution_count": 1,
   "id": "af343af8-248b-43ff-9e77-f40e99ffb22e",
   "metadata": {},
   "outputs": [
    {
     "name": "stdout",
     "output_type": "stream",
     "text": [
      "Sum: 15\n"
     ]
    }
   ],
   "source": [
    "numbers = [1, 2, 3, 4, 5]\n",
    "sum_result = 0\n",
    "\n",
    "for num in numbers:\n",
    "    sum_result += num\n",
    "\n",
    "print(\"Sum:\", sum_result)\n"
   ]
  },
  {
   "cell_type": "code",
   "execution_count": null,
   "id": "65886c5d-874e-448e-a19f-8031a9c84d6a",
   "metadata": {},
   "outputs": [],
   "source": [
    "While Loop:\n",
    "Use a while loop when you don't know the exact number of iterations beforehand, and the loop should continue until a specific condition is met."
   ]
  },
  {
   "cell_type": "code",
   "execution_count": 2,
   "id": "54ecc2cc-4fb8-4b86-aa58-d8efb55834c5",
   "metadata": {},
   "outputs": [
    {
     "name": "stdout",
     "output_type": "stream",
     "text": [
      "5\n",
      "4\n",
      "3\n",
      "2\n",
      "1\n",
      "Liftoff!\n"
     ]
    }
   ],
   "source": [
    "countdown = 5\n",
    "\n",
    "while countdown > 0:\n",
    "    print(countdown)\n",
    "    countdown -= 1\n",
    "\n",
    "print(\"Liftoff!\")\n"
   ]
  },
  {
   "cell_type": "code",
   "execution_count": null,
   "id": "46b93bd3-cd81-4880-a731-b4291fb4f587",
   "metadata": {},
   "outputs": [],
   "source": [
    "Q2. Write a python program to print the sum and product of the first 10 natural numbers using for\n",
    "and while loop."
   ]
  },
  {
   "cell_type": "code",
   "execution_count": 8,
   "id": "44bf5f14-7166-40dc-8fee-63ef89b95aaf",
   "metadata": {},
   "outputs": [
    {
     "name": "stdout",
     "output_type": "stream",
     "text": [
      "Sum of the first 10 natural numbers: 55\n",
      "Product of the first 10 natural numbers: 3628800\n"
     ]
    }
   ],
   "source": [
    "# Using while loop to calculate the sum and product of the first 10 natural numbers\n",
    "\n",
    "# Calculate the sum\n",
    "sum_result = 0\n",
    "count = 1\n",
    "while count <= 10:\n",
    "    sum_result += count\n",
    "    count += 1\n",
    "\n",
    "# Reset count for product calculation\n",
    "count = 1\n",
    "\n",
    "# Calculate the product\n",
    "product_result = 1\n",
    "while count <= 10:\n",
    "    product_result *= count\n",
    "    count += 1\n",
    "\n",
    "# Print the results\n",
    "print(\"Sum of the first 10 natural numbers:\", sum_result)\n",
    "print(\"Product of the first 10 natural numbers:\", product_result)\n"
   ]
  },
  {
   "cell_type": "code",
   "execution_count": null,
   "id": "7f13e1aa-46a9-4169-a69e-e9eb6d0d290b",
   "metadata": {},
   "outputs": [],
   "source": [
    "Q3. Create a python program to compute the electricity bill for a household\n",
    "The per-unit charges in rupees are as follows: For the first 100 units, the user will be charged Rs. 4.5 per\n",
    "unit, for the next 100 units, the user will be charged Rs. 6 per unit, and for the next 100 units, the user will\n",
    "be charged Rs. 10 per unit, After 300 units and above the user will be charged Rs. 20 per unit.\n",
    "You are required to take the units of electricity consumed in a month from the user as input.\n",
    "Your program must pass this test case: when the unit of electricity consumed by the user in a month is\n",
    "310, the total electricity bill should be 2250."
   ]
  },
  {
   "cell_type": "code",
   "execution_count": 9,
   "id": "a3acfd42-2881-454f-b7d2-56670e35438e",
   "metadata": {},
   "outputs": [
    {
     "name": "stdin",
     "output_type": "stream",
     "text": [
      "Enter the units of electricity consumed in a month:  310\n"
     ]
    },
    {
     "name": "stdout",
     "output_type": "stream",
     "text": [
      "The electricity bill for 310 units is Rs. 2250.0\n"
     ]
    }
   ],
   "source": [
    "# Electricity Bill Calculation\n",
    "\n",
    "# Function to calculate the electricity bill\n",
    "def calculate_electricity_bill(units_consumed):\n",
    "    if units_consumed <= 100:\n",
    "        # For the first 100 units, Rs. 4.5 per unit\n",
    "        bill_amount = units_consumed * 4.5\n",
    "    elif units_consumed <= 200:\n",
    "        # For the next 100 units, Rs. 6 per unit\n",
    "        bill_amount = 100 * 4.5 + (units_consumed - 100) * 6\n",
    "    elif units_consumed <= 300:\n",
    "        # For the next 100 units, Rs. 10 per unit\n",
    "        bill_amount = 100 * 4.5 + 100 * 6 + (units_consumed - 200) * 10\n",
    "    else:\n",
    "        # For 300 units and above, Rs. 20 per unit\n",
    "        bill_amount = 100 * 4.5 + 100 * 6 + 100 * 10 + (units_consumed - 300) * 20\n",
    "\n",
    "    return bill_amount\n",
    "\n",
    "# Taking input from the user\n",
    "units_consumed = int(input(\"Enter the units of electricity consumed in a month: \"))\n",
    "\n",
    "# Calculating the electricity bill\n",
    "total_bill = calculate_electricity_bill(units_consumed)\n",
    "\n",
    "# Displaying the result\n",
    "print(f\"The electricity bill for {units_consumed} units is Rs. {total_bill}\")\n"
   ]
  },
  {
   "cell_type": "code",
   "execution_count": null,
   "id": "dfc0ecc1-3cb6-4130-9657-8dfb25e70f8c",
   "metadata": {},
   "outputs": [],
   "source": [
    "Q4. Create a list of numbers from 1 to 100. Use for loop and while loop to calculate the cube of each\n",
    "number and if the cube of that number is divisible by 4 or 5 then append that number in a list and print\n",
    "that list."
   ]
  },
  {
   "cell_type": "code",
   "execution_count": 10,
   "id": "a4135b90-1797-4839-b3c5-21b15e155f0b",
   "metadata": {},
   "outputs": [
    {
     "name": "stdout",
     "output_type": "stream",
     "text": [
      "Using for loop: [2, 4, 5, 6, 8, 10, 12, 14, 15, 16, 18, 20, 22, 24, 25, 26, 28, 30, 32, 34, 35, 36, 38, 40, 42, 44, 45, 46, 48, 50, 52, 54, 55, 56, 58, 60, 62, 64, 65, 66, 68, 70, 72, 74, 75, 76, 78, 80, 82, 84, 85, 86, 88, 90, 92, 94, 95, 96, 98, 100]\n",
      "Using while loop: [2, 4, 5, 6, 8, 10, 12, 14, 15, 16, 18, 20, 22, 24, 25, 26, 28, 30, 32, 34, 35, 36, 38, 40, 42, 44, 45, 46, 48, 50, 52, 54, 55, 56, 58, 60, 62, 64, 65, 66, 68, 70, 72, 74, 75, 76, 78, 80, 82, 84, 85, 86, 88, 90, 92, 94, 95, 96, 98, 100]\n"
     ]
    }
   ],
   "source": [
    "# Calculate cube of numbers from 1 to 100 and append to a list if divisible by 4 or 5\n",
    "\n",
    "# Using for loop\n",
    "cubes_list_for = []\n",
    "for num in range(1, 101):\n",
    "    cube = num ** 3\n",
    "    if cube % 4 == 0 or cube % 5 == 0:\n",
    "        cubes_list_for.append(num)\n",
    "\n",
    "# Using while loop\n",
    "cubes_list_while = []\n",
    "num = 1\n",
    "while num <= 100:\n",
    "    cube = num ** 3\n",
    "    if cube % 4 == 0 or cube % 5 == 0:\n",
    "        cubes_list_while.append(num)\n",
    "    num += 1\n",
    "\n",
    "# Print the lists\n",
    "print(\"Using for loop:\", cubes_list_for)\n",
    "print(\"Using while loop:\", cubes_list_while)\n"
   ]
  },
  {
   "cell_type": "code",
   "execution_count": null,
   "id": "89698312-99fa-499a-aec3-2763c44d6a99",
   "metadata": {},
   "outputs": [],
   "source": [
    "Q5. Write a program to filter count vowels in the below-given string.\n",
    "string = \"I want to become a data scientist\""
   ]
  },
  {
   "cell_type": "code",
   "execution_count": 11,
   "id": "3e5ce4d1-7b5d-4c17-a1be-fea8ab332d36",
   "metadata": {},
   "outputs": [
    {
     "name": "stdout",
     "output_type": "stream",
     "text": [
      "The number of vowels in the string is: 12\n"
     ]
    }
   ],
   "source": [
    "# Count Vowels in a String\n",
    "\n",
    "# Given string\n",
    "input_string = \"I want to become a data scientist\"\n",
    "\n",
    "# Function to count vowels\n",
    "def count_vowels(input_str):\n",
    "    vowels = \"aeiouAEIOU\"\n",
    "    vowel_count = 0\n",
    "\n",
    "    for char in input_str:\n",
    "        if char in vowels:\n",
    "            vowel_count += 1\n",
    "\n",
    "    return vowel_count\n",
    "\n",
    "# Count vowels in the given string\n",
    "result = count_vowels(input_string)\n",
    "\n",
    "# Display the result\n",
    "print(f\"The number of vowels in the string is: {result}\")\n"
   ]
  },
  {
   "cell_type": "code",
   "execution_count": null,
   "id": "5e64c3eb-7d21-4e82-97db-df508e258f54",
   "metadata": {},
   "outputs": [],
   "source": []
  }
 ],
 "metadata": {
  "kernelspec": {
   "display_name": "Python 3 (ipykernel)",
   "language": "python",
   "name": "python3"
  },
  "language_info": {
   "codemirror_mode": {
    "name": "ipython",
    "version": 3
   },
   "file_extension": ".py",
   "mimetype": "text/x-python",
   "name": "python",
   "nbconvert_exporter": "python",
   "pygments_lexer": "ipython3",
   "version": "3.10.8"
  }
 },
 "nbformat": 4,
 "nbformat_minor": 5
}
