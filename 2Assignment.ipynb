{
 "cells": [
  {
   "cell_type": "code",
   "execution_count": null,
   "id": "6881b02d-357c-4b80-9d0a-69081b10b3db",
   "metadata": {},
   "outputs": [],
   "source": [
    "Q1. Which keyword is used to create a function? Create a function to return a list of odd numbers in the\n",
    "range of 1 to 25."
   ]
  },
  {
   "cell_type": "code",
   "execution_count": 1,
   "id": "da63196e-5475-473f-96b8-0b3af93bf9b3",
   "metadata": {},
   "outputs": [
    {
     "name": "stdout",
     "output_type": "stream",
     "text": [
      "List of odd numbers in the range of 1 to 25: [1, 3, 5, 7, 9, 11, 13, 15, 17, 19, 21, 23, 25]\n"
     ]
    }
   ],
   "source": [
    "# Function to return a list of odd numbers in the range of 1 to 25\n",
    "def get_odd_numbers():\n",
    "    odd_numbers = [num for num in range(1, 26) if num % 2 != 0]\n",
    "    return odd_numbers\n",
    "\n",
    "# Call the function and store the result\n",
    "result_list = get_odd_numbers()\n",
    "\n",
    "# Display the result\n",
    "print(\"List of odd numbers in the range of 1 to 25:\", result_list)\n"
   ]
  },
  {
   "cell_type": "code",
   "execution_count": null,
   "id": "be7d5d05-9700-4659-b3df-a000daec435f",
   "metadata": {},
   "outputs": [],
   "source": [
    "Q2. Why *args and **kwargs is used in some functions? Create a function each for *args and **kwargs\n",
    "to demonstrate their use."
   ]
  },
  {
   "cell_type": "code",
   "execution_count": null,
   "id": "1a425ddb-b720-46d1-94cd-ca6a4236904b",
   "metadata": {},
   "outputs": [],
   "source": [
    "*args allows a function to accept any number of positional arguments. It collects these arguments into a tuple within the function.\n",
    "\n",
    "**kwargs allows a function to accept any number of keyword arguments. It collects these arguments into a dictionary within the function."
   ]
  },
  {
   "cell_type": "code",
   "execution_count": 2,
   "id": "fff4236b-2241-44f9-b145-478c39736142",
   "metadata": {},
   "outputs": [
    {
     "name": "stdout",
     "output_type": "stream",
     "text": [
      "1\n",
      "2\n",
      "3\n",
      "four\n",
      "5.5\n"
     ]
    }
   ],
   "source": [
    "# Function using *args to accept variable number of positional arguments\n",
    "def print_args(*args):\n",
    "    for arg in args:\n",
    "        print(arg)\n",
    "\n",
    "# Demonstrate the use of *args\n",
    "print_args(1, 2, 3, \"four\", 5.5)\n"
   ]
  },
  {
   "cell_type": "code",
   "execution_count": 3,
   "id": "c5111070-9df1-4710-a7da-3785d988bd03",
   "metadata": {},
   "outputs": [
    {
     "name": "stdout",
     "output_type": "stream",
     "text": [
      "name: John\n",
      "age: 25\n",
      "city: New York\n"
     ]
    }
   ],
   "source": [
    "# Function using **kwargs to accept variable number of keyword arguments\n",
    "def print_kwargs(**kwargs):\n",
    "    for key, value in kwargs.items():\n",
    "        print(f\"{key}: {value}\")\n",
    "\n",
    "# Demonstrate the use of **kwargs\n",
    "print_kwargs(name=\"John\", age=25, city=\"New York\")\n"
   ]
  },
  {
   "cell_type": "code",
   "execution_count": null,
   "id": "c6186942-322a-4e3f-9979-77a426ff5eac",
   "metadata": {},
   "outputs": [],
   "source": [
    "Q3. What is an iterator in python? Name the method used to initialise the iterator object and the method\n",
    "used for iteration. Use these methods to print the first five elements of the given list [2, 4, 6, 8, 10, 12, 14,\n",
    "16, 18, 20]."
   ]
  },
  {
   "cell_type": "code",
   "execution_count": null,
   "id": "dae75e8c-4233-4c98-9dbe-2ad02feebbc2",
   "metadata": {},
   "outputs": [],
   "source": [
    "In Python, an iterator is an object that implements the iterator protocol, consisting of two methods:\n",
    "\n",
    "__iter__: This method initializes the iterator object. It returns the iterator object itself.\n",
    "\n",
    "__next__: This method is called to get the next element in the sequence. When there are no more elements, it should raise the StopIteration exception."
   ]
  },
  {
   "cell_type": "code",
   "execution_count": 4,
   "id": "f1b7cca0-58d2-48b9-a071-9b2a317d3d88",
   "metadata": {},
   "outputs": [
    {
     "name": "stdout",
     "output_type": "stream",
     "text": [
      "2\n",
      "4\n",
      "6\n",
      "8\n",
      "10\n"
     ]
    }
   ],
   "source": [
    "# Iterator class for the given list\n",
    "class MyIterator:\n",
    "    def __init__(self, data):\n",
    "        self.data = data\n",
    "        self.index = 0\n",
    "\n",
    "    def __iter__(self):\n",
    "        return self\n",
    "\n",
    "    def __next__(self):\n",
    "        if self.index < len(self.data):\n",
    "            result = self.data[self.index]\n",
    "            self.index += 1\n",
    "            return result\n",
    "        else:\n",
    "            raise StopIteration\n",
    "\n",
    "# Given list\n",
    "my_list = [2, 4, 6, 8, 10, 12, 14, 16, 18, 20]\n",
    "\n",
    "# Initialize the iterator\n",
    "my_iterator = MyIterator(my_list)\n",
    "\n",
    "# Iterate and print the first five elements\n",
    "for _ in range(5):\n",
    "    print(next(my_iterator))\n"
   ]
  },
  {
   "cell_type": "code",
   "execution_count": null,
   "id": "3e29dffc-077e-48a3-957f-c7d65ab908df",
   "metadata": {},
   "outputs": [],
   "source": [
    "Q4. What is a generator function in python? Why yield keyword is used? Give an example of a generator\n",
    "function."
   ]
  },
  {
   "cell_type": "code",
   "execution_count": null,
   "id": "af07d570-99d1-4d27-be73-b2ee3a5276c2",
   "metadata": {},
   "outputs": [],
   "source": [
    " a generator function is a special kind of function that allows you to create an iterator iteratively. Unlike regular functions that execute and return a single result, generator functions use the yield keyword to produce a series of values one at a time. The state of the function is preserved between calls to yield, allowing it to resume execution from where it left off."
   ]
  },
  {
   "cell_type": "code",
   "execution_count": 5,
   "id": "11a35ac9-f741-4b8c-931b-8a2bdabc8069",
   "metadata": {},
   "outputs": [
    {
     "name": "stdout",
     "output_type": "stream",
     "text": [
      "0\n",
      "1\n",
      "4\n",
      "9\n",
      "16\n"
     ]
    }
   ],
   "source": [
    "# Generator function to generate squares of numbers\n",
    "def square_generator(n):\n",
    "    for i in range(n):\n",
    "        yield i ** 2\n",
    "\n",
    "# Using the generator to create an iterator\n",
    "squares_iter = square_generator(5)\n",
    "\n",
    "# Iterating and printing the square values\n",
    "for square in squares_iter:\n",
    "    print(square)\n"
   ]
  },
  {
   "cell_type": "code",
   "execution_count": null,
   "id": "cd7dc645-e27c-4ee6-af5c-5815fe1478d5",
   "metadata": {},
   "outputs": [],
   "source": [
    "Q5. Create a generator function for prime numbers less than 1000. Use the next() method to print the\n",
    "first 20 prime numbers."
   ]
  },
  {
   "cell_type": "code",
   "execution_count": 6,
   "id": "a5383053-0fa4-4686-b768-888ac9e502fe",
   "metadata": {},
   "outputs": [
    {
     "name": "stdout",
     "output_type": "stream",
     "text": [
      "2\n",
      "3\n",
      "5\n",
      "7\n",
      "11\n",
      "13\n",
      "17\n",
      "19\n",
      "23\n",
      "29\n",
      "31\n",
      "37\n",
      "41\n",
      "43\n",
      "47\n",
      "53\n",
      "59\n",
      "61\n",
      "67\n",
      "71\n"
     ]
    }
   ],
   "source": [
    "# Generator function for prime numbers less than 1000\n",
    "def prime_generator():\n",
    "    primes = []\n",
    "    num = 2\n",
    "    while num < 1000:\n",
    "        is_prime = all(num % i != 0 for i in range(2, int(num**0.5) + 1))\n",
    "        if is_prime:\n",
    "            primes.append(num)\n",
    "            yield num\n",
    "        num += 1\n",
    "\n",
    "# Using the generator to print the first 20 prime numbers\n",
    "num_primes_to_print = 20\n",
    "primes_iter = prime_generator()\n",
    "\n",
    "for _ in range(num_primes_to_print):\n",
    "    print(next(primes_iter))\n"
   ]
  },
  {
   "cell_type": "code",
   "execution_count": null,
   "id": "5c29e792-3aa8-4c32-a7ab-e44b5071ccda",
   "metadata": {},
   "outputs": [],
   "source": [
    "Q6. Write a python program to print the first 10 Fibonacci numbers using a while loop."
   ]
  },
  {
   "cell_type": "code",
   "execution_count": 7,
   "id": "f38d9e30-77a4-4fe9-a461-27d75e2a9d97",
   "metadata": {},
   "outputs": [
    {
     "name": "stdout",
     "output_type": "stream",
     "text": [
      "First 10 Fibonacci numbers: [0, 1, 1, 2, 3, 5, 8, 13, 21, 34]\n"
     ]
    }
   ],
   "source": [
    "# Program to print the first 10 Fibonacci numbers using a while loop\n",
    "\n",
    "# Function to generate the Fibonacci sequence\n",
    "def fibonacci_sequence(n):\n",
    "    fib_sequence = [0, 1]\n",
    "    while len(fib_sequence) < n:\n",
    "        fib_sequence.append(fib_sequence[-1] + fib_sequence[-2])\n",
    "    return fib_sequence\n",
    "\n",
    "# Using the function to get the first 10 Fibonacci numbers\n",
    "first_10_fibonacci = fibonacci_sequence(10)\n",
    "\n",
    "# Printing the result\n",
    "print(\"First 10 Fibonacci numbers:\", first_10_fibonacci)\n"
   ]
  },
  {
   "cell_type": "code",
   "execution_count": null,
   "id": "96b70e53-47be-4538-8998-e6542e38d565",
   "metadata": {},
   "outputs": [],
   "source": [
    "Q7. Write a List Comprehension to iterate through the given string: ‘pwskills’.\n",
    "Expected output: ['p', 'w', 's', 'k', 'i', 'l', 'l', 's']"
   ]
  },
  {
   "cell_type": "code",
   "execution_count": 8,
   "id": "8032cd0c-9b7d-48ed-967b-c362b3a094ac",
   "metadata": {},
   "outputs": [
    {
     "name": "stdout",
     "output_type": "stream",
     "text": [
      "['p', 'w', 's', 'k', 'i', 'l', 'l', 's']\n"
     ]
    }
   ],
   "source": [
    "# List Comprehension to iterate through the given string 'pwskills'\n",
    "input_string = 'pwskills'\n",
    "result_list = [char for char in input_string]\n",
    "\n",
    "# Printing the result\n",
    "print(result_list)\n"
   ]
  },
  {
   "cell_type": "code",
   "execution_count": null,
   "id": "98b03c1f-dc1e-4edd-a947-6944f9736d93",
   "metadata": {},
   "outputs": [],
   "source": [
    "Q8. Write a python program to check whether a given number is Palindrome or not using a while loop."
   ]
  },
  {
   "cell_type": "code",
   "execution_count": 10,
   "id": "4082baaa-a54e-4087-8114-7cb9dafc2b56",
   "metadata": {},
   "outputs": [
    {
     "name": "stdin",
     "output_type": "stream",
     "text": [
      "Enter a number:  5\n"
     ]
    },
    {
     "name": "stdout",
     "output_type": "stream",
     "text": [
      "5 is a palindrome.\n"
     ]
    }
   ],
   "source": [
    "# Program to check if a number is palindrome\n",
    "\n",
    "# Function to check palindrome\n",
    "def is_palindrome(number):\n",
    "    original_number = number\n",
    "    reversed_number = 0\n",
    "\n",
    "    while number > 0:\n",
    "        digit = number % 10\n",
    "        reversed_number = (reversed_number * 10) + digit\n",
    "        number = number // 10\n",
    "\n",
    "    return original_number == reversed_number\n",
    "\n",
    "# Taking input from the user\n",
    "user_number = int(input(\"Enter a number: \"))\n",
    "\n",
    "# Checking if the number is a palindrome\n",
    "if is_palindrome(user_number):\n",
    "    print(f\"{user_number} is a palindrome.\")\n",
    "else:\n",
    "    print(f\"{user_number} is not a palindrome.\")\n"
   ]
  },
  {
   "cell_type": "code",
   "execution_count": null,
   "id": "86f1c2f4-0cff-4952-bd44-eb324d07758b",
   "metadata": {},
   "outputs": [],
   "source": [
    "Q9. Write a code to print odd numbers from 1 to 100 using list comprehension.\n",
    "Note: Use a list comprehension to create a list from 1 to 100 and use another List comprehension to filter\n",
    "out odd numbers."
   ]
  },
  {
   "cell_type": "code",
   "execution_count": 11,
   "id": "f34a85a8-2cc6-4885-9055-4e0d70f43f8d",
   "metadata": {},
   "outputs": [
    {
     "name": "stdout",
     "output_type": "stream",
     "text": [
      "Odd numbers from 1 to 100: [1, 3, 5, 7, 9, 11, 13, 15, 17, 19, 21, 23, 25, 27, 29, 31, 33, 35, 37, 39, 41, 43, 45, 47, 49, 51, 53, 55, 57, 59, 61, 63, 65, 67, 69, 71, 73, 75, 77, 79, 81, 83, 85, 87, 89, 91, 93, 95, 97, 99]\n"
     ]
    }
   ],
   "source": [
    "# List comprehension to print odd numbers from 1 to 100\n",
    "odd_numbers = [num for num in range(1, 101) if num % 2 != 0]\n",
    "\n",
    "# Printing the result\n",
    "print(\"Odd numbers from 1 to 100:\", odd_numbers)\n"
   ]
  },
  {
   "cell_type": "code",
   "execution_count": null,
   "id": "75711785-1de6-44b8-809d-0454bda8e1b5",
   "metadata": {},
   "outputs": [],
   "source": []
  }
 ],
 "metadata": {
  "kernelspec": {
   "display_name": "Python 3 (ipykernel)",
   "language": "python",
   "name": "python3"
  },
  "language_info": {
   "codemirror_mode": {
    "name": "ipython",
    "version": 3
   },
   "file_extension": ".py",
   "mimetype": "text/x-python",
   "name": "python",
   "nbconvert_exporter": "python",
   "pygments_lexer": "ipython3",
   "version": "3.10.8"
  }
 },
 "nbformat": 4,
 "nbformat_minor": 5
}
