{
 "cells": [
  {
   "cell_type": "code",
   "execution_count": null,
   "id": "1c36de11-b445-44ce-9b9e-a584fa274f35",
   "metadata": {},
   "outputs": [],
   "source": [
    "Q1. List any five functions of the pandas library with execution."
   ]
  },
  {
   "cell_type": "code",
   "execution_count": null,
   "id": "756a2e4c-9154-4489-b1d6-aa2da4676710",
   "metadata": {},
   "outputs": [],
   "source": [
    "five functions from the Pandas library along with their execution:"
   ]
  },
  {
   "cell_type": "code",
   "execution_count": null,
   "id": "cf8e3585-c81f-4150-8557-5f3f7b0803c6",
   "metadata": {},
   "outputs": [],
   "source": [
    "head() \n",
    "# Displaying the first 3 rows of the DataFrame\n",
    "print(df.head(3))\n"
   ]
  },
  {
   "cell_type": "code",
   "execution_count": null,
   "id": "0b521ef6-543a-4e2d-8c42-dc2b286aa396",
   "metadata": {},
   "outputs": [],
   "source": [
    "read_csv()\n",
    "import pandas as pd\n",
    "\n",
    "# Reading data from a CSV file\n",
    "df = pd.read_csv('example.csv')\n",
    "\n",
    "# Displaying the DataFrame\n",
    "print(df)\n",
    "\n"
   ]
  },
  {
   "cell_type": "code",
   "execution_count": null,
   "id": "3d95cc23-906a-458d-97ca-8743581ad504",
   "metadata": {},
   "outputs": [],
   "source": [
    "groupby()\n",
    "# Grouping data by the 'Category' column and calculating the mean for each group\n",
    "grouped_data = df.groupby('Category').mean()\n",
    "\n",
    "# Displaying the grouped data\n",
    "print(grouped_data)\n"
   ]
  },
  {
   "cell_type": "code",
   "execution_count": null,
   "id": "9dbbd80e-1878-4866-8c9d-60f9d5387c57",
   "metadata": {},
   "outputs": [],
   "source": [
    "describe()\n",
    "# Displaying descriptive statistics for numerical columns\n",
    "print(df.describe())\n"
   ]
  },
  {
   "cell_type": "code",
   "execution_count": null,
   "id": "ca25b1c6-4ab8-4e3d-a6bd-15f27cc13c43",
   "metadata": {},
   "outputs": [],
   "source": [
    "plot() \n",
    "# Creating a bar plot of the 'Value' column\n",
    "df.plot(x='Category', y='Value', kind='bar', title='Category vs. Value')\n",
    "plt.show()\n"
   ]
  },
  {
   "cell_type": "code",
   "execution_count": null,
   "id": "596d99e9-015d-4366-975a-6607f4ad026b",
   "metadata": {},
   "outputs": [],
   "source": [
    "Q2. Given a Pandas DataFrame df with columns 'A', 'B', and 'C', write a Python function to re-index the\n",
    "DataFrame with a new index that starts from 1 and increments by 2 for each row."
   ]
  },
  {
   "cell_type": "code",
   "execution_count": null,
   "id": "f289e9d6-a755-4335-88f0-41b8ece529a3",
   "metadata": {},
   "outputs": [],
   "source": [
    "import pandas as pd\n",
    "\n",
    "def reindex_with_custom_index(df):\n",
    "    # Creating a new index starting from 1 and incrementing by 2\n",
    "    new_index = pd.Index(range(1, 2 * len(df) + 1, 2), name='NewIndex')\n",
    "\n",
    "    # Re-indexing the DataFrame\n",
    "    df_reindexed = df.reset_index(drop=True).set_index(new_index)\n",
    "\n",
    "    return df_reindexed\n",
    "\n",
    "# Example usage:\n",
    "# Assuming df is your original DataFrame with columns 'A', 'B', and 'C'\n",
    "df = pd.DataFrame({'A': [10, 20, 30], 'B': [40, 50, 60], 'C': [70, 80, 90]})\n",
    "\n",
    "# Re-indexing the DataFrame using the function\n",
    "df_reindexed = reindex_with_custom_index(df)\n",
    "\n",
    "# Displaying the re-indexed DataFrame\n",
    "print(df_reindexed)\n"
   ]
  },
  {
   "cell_type": "code",
   "execution_count": null,
   "id": "9f84b43a-4a39-4c8d-9d88-98270833d1bd",
   "metadata": {},
   "outputs": [],
   "source": [
    "In this example:\n",
    "\n",
    "The function reindex_with_custom_index takes a DataFrame (df) as input.\n",
    "It creates a new index using pd.Index with a range starting from 1 and incrementing by 2.\n",
    "The DataFrame is then reset with reset_index(drop=True) to remove the existing index and then set with the new index.\n",
    "The resulting DataFrame (df_reindexed) will have a new index starting from 1 and incrementing by 2 for each row."
   ]
  },
  {
   "cell_type": "code",
   "execution_count": null,
   "id": "81c2c55c-48af-4d2c-83b7-ab48f0fb8e60",
   "metadata": {},
   "outputs": [],
   "source": [
    "Q3. You have a Pandas DataFrame df with a column named 'Values'. Write a Python function that\n",
    "iterates over the DataFrame and calculates the sum of the first three values in the 'Values' column. The\n",
    "function should print the sum to the console."
   ]
  },
  {
   "cell_type": "code",
   "execution_count": null,
   "id": "52b9d76c-58d4-43aa-bdd7-fc31fcb1bcb7",
   "metadata": {},
   "outputs": [],
   "source": [
    "import pandas as pd\n",
    "\n",
    "def calculate_sum_of_first_three(df):\n",
    "    # Check if 'Values' column exists in the DataFrame\n",
    "    if 'Values' not in df.columns:\n",
    "        print(\"Error: 'Values' column not found in the DataFrame.\")\n",
    "        return\n",
    "\n",
    "    # Extracting the first three values from the 'Values' column\n",
    "    first_three_values = df['Values'].head(3)\n",
    "\n",
    "    # Calculating the sum\n",
    "    sum_of_first_three = first_three_values.sum()\n",
    "\n",
    "    # Printing the sum to the console\n",
    "    print(\"Sum of the first three values in 'Values' column:\", sum_of_first_three)\n",
    "\n",
    "# Example usage:\n",
    "# Assuming df is your original DataFrame with the 'Values' column\n",
    "df = pd.DataFrame({'Values': [10, 20, 30, 40, 50]})\n",
    "\n",
    "# Calling the function with the DataFrame\n",
    "calculate_sum_of_first_three(df)\n"
   ]
  },
  {
   "cell_type": "code",
   "execution_count": null,
   "id": "900f1e4d-b01d-4207-9327-01f405d571d9",
   "metadata": {},
   "outputs": [],
   "source": [
    "In this example:\n",
    "\n",
    "The function calculate_sum_of_first_three takes a DataFrame (df) as input.\n",
    "It checks if the 'Values' column exists in the DataFrame.\n",
    "It then extracts the first three values from the 'Values' column using head(3).\n",
    "The sum of the first three values is calculated using the sum() function.\n",
    "Finally, the sum is printed to the console.\n",
    "When you run this code with the provided DataFrame, it will output:"
   ]
  },
  {
   "cell_type": "code",
   "execution_count": null,
   "id": "20937a11-8072-4030-ae39-2a744afd8e85",
   "metadata": {},
   "outputs": [],
   "source": [
    "Sum of the first three values in 'Values' column: 60\n"
   ]
  },
  {
   "cell_type": "code",
   "execution_count": null,
   "id": "44135578-59b9-46c2-a420-33259ec17209",
   "metadata": {},
   "outputs": [],
   "source": [
    "Q4. Given a Pandas DataFrame df with a column 'Text', write a Python function to create a new column\n",
    "'Word_Count' that contains the number of words in each row of the 'Text' column."
   ]
  },
  {
   "cell_type": "code",
   "execution_count": null,
   "id": "c7b1ede0-2efd-4693-b943-5ad7b57e0465",
   "metadata": {},
   "outputs": [],
   "source": [
    "import pandas as pd\n",
    "\n",
    "def calculate_word_count(df):\n",
    "    # Check if 'Text' column exists in the DataFrame\n",
    "    if 'Text' not in df.columns:\n",
    "        print(\"Error: 'Text' column not found in the DataFrame.\")\n",
    "        return\n",
    "\n",
    "    # Custom function to count words in a given text\n",
    "    def count_words(text):\n",
    "        words = text.split()\n",
    "        return len(words)\n",
    "\n",
    "    # Creating a new 'Word_Count' column using apply and the count_words function\n",
    "    df['Word_Count'] = df['Text'].apply(count_words)\n",
    "\n",
    "    return df\n",
    "\n",
    "# Example usage:\n",
    "# Assuming df is your original DataFrame with the 'Text' column\n",
    "df = pd.DataFrame({'Text': ['This is a sample text.', 'Count the words.', 'Another example.']})\n",
    "\n",
    "# Calling the function with the DataFrame\n",
    "df_with_word_count = calculate_word_count(df)\n",
    "\n",
    "# Displaying the DataFrame with the new 'Word_Count' column\n",
    "print(df_with_word_count)\n"
   ]
  },
  {
   "cell_type": "code",
   "execution_count": null,
   "id": "8976a5e2-739f-4c50-93f8-a4706b2c1deb",
   "metadata": {},
   "outputs": [],
   "source": [
    "In this example:\n",
    "\n",
    "The function calculate_word_count takes a DataFrame (df) as input.\n",
    "It checks if the 'Text' column exists in the DataFrame.\n",
    "It defines a custom function count_words that takes a text string, splits it into words, and returns the count of words.\n",
    "The apply() function is then used to apply the count_words function to each element in the 'Text' column, creating a new 'Word_Count' column."
   ]
  },
  {
   "cell_type": "code",
   "execution_count": null,
   "id": "b49c86a9-4582-47e4-a967-f589c80bfef0",
   "metadata": {},
   "outputs": [],
   "source": [
    "                    Text  Word_Count\n",
    "0  This is a sample text.           5\n",
    "1      Count the words.           4\n",
    "2    Another example.           2\n"
   ]
  },
  {
   "cell_type": "code",
   "execution_count": null,
   "id": "58b62047-de5c-4d7b-9176-c8a34ed4c4c1",
   "metadata": {},
   "outputs": [],
   "source": [
    "Q5. How are DataFrame.size() and DataFrame.shape() different?"
   ]
  },
  {
   "cell_type": "code",
   "execution_count": null,
   "id": "22f03fdb-f607-4a64-96fa-27cdd8373ccf",
   "metadata": {},
   "outputs": [],
   "source": [
    "DataFrame.size:\n",
    "\n",
    "DataFrame.size returns the total number of elements in the DataFrame.\n",
    "It gives the product of the number of rows and the number of columns in the DataFrame.\n",
    "It counts all elements, including NaN values."
   ]
  },
  {
   "cell_type": "code",
   "execution_count": null,
   "id": "bbbdf864-54b7-4298-a077-7584fc42e5d1",
   "metadata": {},
   "outputs": [],
   "source": [
    "DataFrame.shape:\n",
    "\n",
    "DataFrame.shape returns a tuple representing the dimensions of the DataFrame.\n",
    "It returns the number of rows and columns in the DataFrame.\n",
    "The result is a tuple in the form (number_of_rows, number_of_columns)"
   ]
  },
  {
   "cell_type": "code",
   "execution_count": null,
   "id": "2a679c8a-6081-4f7e-ac26-4bf91c0d6288",
   "metadata": {},
   "outputs": [],
   "source": [
    "Q6. Which function of pandas do we use to read an excel file?"
   ]
  },
  {
   "cell_type": "code",
   "execution_count": null,
   "id": "970ad3f3-5bf6-4226-9edf-78de3d0ffca7",
   "metadata": {},
   "outputs": [],
   "source": [
    "in Pandas, you can use the pd.read_excel() function to read data from an Excel file. This function is specifically designed to read data from Excel spreadsheets into a Pandas DataFrame."
   ]
  },
  {
   "cell_type": "code",
   "execution_count": null,
   "id": "0774ecb3-c7c9-4697-8a07-e03d8aeedb47",
   "metadata": {},
   "outputs": [],
   "source": [
    "import pandas as pd\n",
    "\n",
    "# Read an Excel file into a DataFrame\n",
    "df = pd.read_excel('your_excel_file.xlsx')\n",
    "\n",
    "# Display the DataFrame\n",
    "print(df)\n"
   ]
  },
  {
   "cell_type": "code",
   "execution_count": null,
   "id": "50d3070c-1cd2-48e2-80d7-e4425c3d66a9",
   "metadata": {},
   "outputs": [],
   "source": [
    "Q7. You have a Pandas DataFrame df that contains a column named 'Email' that contains email\n",
    "addresses in the format 'username@domain.com'. Write a Python function that creates a new column\n",
    "'Username' in df that contains only the username part of each email address."
   ]
  },
  {
   "cell_type": "code",
   "execution_count": null,
   "id": "53c04b8f-9317-4cc7-acdb-793860eed313",
   "metadata": {},
   "outputs": [],
   "source": [
    "import pandas as pd\n",
    "\n",
    "def extract_username(df):\n",
    "    # Check if 'Email' column exists in the DataFrame\n",
    "    if 'Email' not in df.columns:\n",
    "        print(\"Error: 'Email' column not found in the DataFrame.\")\n",
    "        return\n",
    "\n",
    "    # Custom function to extract the username from an email address\n",
    "    def get_username(email):\n",
    "        return email.split('@')[0]\n",
    "\n",
    "    # Creating a new 'Username' column using apply and the get_username function\n",
    "    df['Username'] = df['Email'].apply(get_username)\n",
    "\n",
    "    return df\n",
    "\n",
    "# Example usage:\n",
    "# Assuming df is your original DataFrame with the 'Email' column\n",
    "df = pd.DataFrame({'Email': ['john.doe@example.com', 'jane.smith@example.com', 'bob@example.com']})\n",
    "\n",
    "# Calling the function with the DataFrame\n",
    "df_with_username = extract_username(df)\n",
    "\n",
    "# Displaying the DataFrame with the new 'Username' column\n",
    "print(df_with_username)\n"
   ]
  },
  {
   "cell_type": "code",
   "execution_count": null,
   "id": "c79b9c9a-57c3-49d1-84e8-b0a09752b1cb",
   "metadata": {},
   "outputs": [],
   "source": [
    "When you run this code with the provided DataFrame, it will output"
   ]
  },
  {
   "cell_type": "code",
   "execution_count": null,
   "id": "c8171f5b-eb43-41a2-8648-1db4a37bc63a",
   "metadata": {},
   "outputs": [],
   "source": [
    "                  Email Username\n",
    "0  john.doe@example.com  john.doe\n",
    "1  jane.smith@example.com jane.smith\n",
    "2        bob@example.com       bob\n"
   ]
  },
  {
   "cell_type": "code",
   "execution_count": null,
   "id": "5ed0044e-297f-4de5-99cc-bb9508723365",
   "metadata": {},
   "outputs": [],
   "source": [
    "Q8. You have a Pandas DataFrame df with columns 'A', 'B', and 'C'. Write a Python function that selects\n",
    "all rows where the value in column 'A' is greater than 5 and the value in column 'B' is less than 10. The\n",
    "function should return a new DataFrame that contains only the selected rows."
   ]
  },
  {
   "cell_type": "code",
   "execution_count": null,
   "id": "b453a01b-b586-4128-939d-fe64c7763972",
   "metadata": {},
   "outputs": [],
   "source": [
    "import pandas as pd\n",
    "\n",
    "def select_rows(df):\n",
    "    # Check if columns 'A' and 'B' exist in the DataFrame\n",
    "    if 'A' not in df.columns or 'B' not in df.columns:\n",
    "        print(\"Error: Columns 'A' and 'B' not found in the DataFrame.\")\n",
    "        return\n",
    "\n",
    "    # Selecting rows where 'A' > 5 and 'B' < 10\n",
    "    selected_rows = df[(df['A'] > 5) & (df['B'] < 10)]\n",
    "\n",
    "    return selected_rows\n",
    "\n",
    "# Example usage:\n",
    "# Assuming df is your original DataFrame with columns 'A', 'B', and 'C'\n",
    "df = pd.DataFrame({'A': [3, 8, 6, 2, 9],\n",
    "                   'B': [5, 2, 9, 3, 1],\n",
    "                   'C': [1, 7, 4, 5, 2]})\n",
    "\n",
    "# Calling the function with the DataFrame\n",
    "selected_df = select_rows(df)\n",
    "\n",
    "# Displaying the new DataFrame with selected rows\n",
    "print(selected_df)\n"
   ]
  },
  {
   "cell_type": "code",
   "execution_count": null,
   "id": "08b89a7f-adbe-456b-9cec-97cd13942cd7",
   "metadata": {},
   "outputs": [],
   "source": [
    "Q9. Given a Pandas DataFrame df with a column 'Values', write a Python function to calculate the mean,\n",
    "median, and standard deviation of the values in the 'Values' column."
   ]
  },
  {
   "cell_type": "code",
   "execution_count": null,
   "id": "1b156de9-316a-49f7-a231-2dd56cbb0254",
   "metadata": {},
   "outputs": [],
   "source": [
    "import pandas as pd\n",
    "\n",
    "def calculate_statistics(df):\n",
    "    # Check if 'Values' column exists in the DataFrame\n",
    "    if 'Values' not in df.columns:\n",
    "        print(\"Error: 'Values' column not found in the DataFrame.\")\n",
    "        return\n",
    "\n",
    "    # Calculating mean, median, and standard deviation\n",
    "    mean_value = df['Values'].mean()\n",
    "    median_value = df['Values'].median()\n",
    "    std_deviation = df['Values'].std()\n",
    "\n",
    "    # Creating a dictionary to store the results\n",
    "    statistics_dict = {\n",
    "        'Mean': mean_value,\n",
    "        'Median': median_value,\n",
    "        'Standard Deviation': std_deviation\n",
    "    }\n",
    "\n",
    "    return statistics_dict\n",
    "\n",
    "# Example usage:\n",
    "# Assuming df is your original DataFrame with the 'Values' column\n",
    "df = pd.DataFrame({'Values': [10, 20, 30, 40, 50]})\n",
    "\n",
    "# Calling the function with the DataFrame\n",
    "statistics_result = calculate_statistics(df)\n",
    "\n",
    "# Displaying the calculated statistics\n",
    "for stat, value in statistics_result.items():\n",
    "    print(f\"{stat}: {value}\")\n"
   ]
  },
  {
   "cell_type": "code",
   "execution_count": null,
   "id": "6fae9c97-fbd5-492f-bd25-8cbbf29d9727",
   "metadata": {},
   "outputs": [],
   "source": [
    "When you run this code with the provided DataFrame, it will output:"
   ]
  },
  {
   "cell_type": "code",
   "execution_count": null,
   "id": "a3825b30-a1f5-492e-a367-1ef90183fdc8",
   "metadata": {},
   "outputs": [],
   "source": [
    "Mean: 30.0\n",
    "Median: 30.0\n",
    "Standard Deviation: 15.811388300841896\n"
   ]
  },
  {
   "cell_type": "code",
   "execution_count": null,
   "id": "dd040e3a-1788-4b98-b34d-7b7dd2eb62fa",
   "metadata": {},
   "outputs": [],
   "source": [
    "Q10. Given a Pandas DataFrame df with a column 'Sales' and a column 'Date', write a Python function to\n",
    "create a new column 'MovingAverage' that contains the moving average of the sales for the past 7 days\n",
    "for each row in the DataFrame. The moving average should be calculated using a window of size 7 and\n",
    "should include the current day."
   ]
  },
  {
   "cell_type": "code",
   "execution_count": null,
   "id": "bd7b41cd-8b48-4635-9b94-819cc29070fa",
   "metadata": {},
   "outputs": [],
   "source": [
    "import pandas as pd\n",
    "\n",
    "def calculate_moving_average(df):\n",
    "    # Check if 'Sales' and 'Date' columns exist in the DataFrame\n",
    "    if 'Sales' not in df.columns or 'Date' not in df.columns:\n",
    "        print(\"Error: 'Sales' and 'Date' columns not found in the DataFrame.\")\n",
    "        return\n",
    "\n",
    "    # Convert 'Date' column to datetime if it's not already\n",
    "    df['Date'] = pd.to_datetime(df['Date'])\n",
    "\n",
    "    # Sort the DataFrame by 'Date' if it's not already sorted\n",
    "    df = df.sort_values('Date')\n",
    "\n",
    "    # Calculate the moving average using a window of size 7\n",
    "    df['MovingAverage'] = df['Sales'].rolling(window=7, min_periods=1).mean()\n",
    "\n",
    "    return df\n",
    "\n",
    "# Example usage:\n",
    "# Assuming df is your original DataFrame with 'Sales' and 'Date' columns\n",
    "df = pd.DataFrame({\n",
    "    'Date': ['2022-01-01', '2022-01-02', '2022-01-03', '2022-01-04', '2022-01-05', '2022-01-06', '2022-01-07'],\n",
    "    'Sales': [10, 15, 20, 25, 30, 35, 40]\n",
    "})\n",
    "\n",
    "# Calling the function with the DataFrame\n",
    "df_with_moving_average = calculate_moving_average(df)\n",
    "\n",
    "# Displaying the DataFrame with the new 'MovingAverage' column\n",
    "print(df_with_moving_average)\n"
   ]
  },
  {
   "cell_type": "code",
   "execution_count": null,
   "id": "2a73993b-72b7-45d2-9cec-1f581771a449",
   "metadata": {},
   "outputs": [],
   "source": [
    "Q11. You have a Pandas DataFrame df with a column 'Date'. Write a Python function that creates a new\n",
    "column 'Weekday' in the DataFrame. The 'Weekday' column should contain the weekday name (e.g.\n",
    "Monday, Tuesday) corresponding to each date in the 'Date' column."
   ]
  },
  {
   "cell_type": "code",
   "execution_count": null,
   "id": "461c5a7a-18a3-445a-87d7-c10d3ed25a52",
   "metadata": {},
   "outputs": [],
   "source": [
    "import pandas as pd\n",
    "\n",
    "def add_weekday_column(df):\n",
    "    # Check if 'Date' column exists in the DataFrame\n",
    "    if 'Date' not in df.columns:\n",
    "        print(\"Error: 'Date' column not found in the DataFrame.\")\n",
    "        return\n",
    "\n",
    "    # Convert 'Date' column to datetime if it's not already\n",
    "    df['Date'] = pd.to_datetime(df['Date'])\n",
    "\n",
    "    # Create a new 'Weekday' column with weekday names\n",
    "    df['Weekday'] = df['Date'].dt.strftime('%A')\n",
    "\n",
    "    return df\n",
    "\n",
    "# Example usage:\n",
    "# Assuming df is your original DataFrame with the 'Date' column\n",
    "df = pd.DataFrame({'Date': ['2023-01-01', '2023-01-02', '2023-01-03', '2023-01-04', '2023-01-05']})\n",
    "\n",
    "# Calling the function with the DataFrame\n",
    "df_with_weekday = add_weekday_column(df)\n",
    "\n",
    "# Displaying the modified DataFrame with the new 'Weekday' column\n",
    "print(df_with_weekday)\n"
   ]
  },
  {
   "cell_type": "code",
   "execution_count": null,
   "id": "3be71fcd-d6eb-4cf3-a23d-9f26d1850e1e",
   "metadata": {},
   "outputs": [],
   "source": [
    "Q12. Given a Pandas DataFrame df with a column 'Date' that contains timestamps, write a Python\n",
    "function to select all rows where the date is between '2023-01-01' and '2023-01-31'."
   ]
  },
  {
   "cell_type": "code",
   "execution_count": null,
   "id": "aa8077eb-a592-49ce-b6d3-2e134d82d4fe",
   "metadata": {},
   "outputs": [],
   "source": [
    "import pandas as pd\n",
    "\n",
    "def select_rows_between_dates(df):\n",
    "    # Check if 'Date' column exists in the DataFrame\n",
    "    if 'Date' not in df.columns:\n",
    "        print(\"Error: 'Date' column not found in the DataFrame.\")\n",
    "        return\n",
    "\n",
    "    # Convert 'Date' column to datetime if it's not already\n",
    "    df['Date'] = pd.to_datetime(df['Date'])\n",
    "\n",
    "    # Selecting rows where the date is between '2023-01-01' and '2023-01-31'\n",
    "    selected_rows = df[(df['Date'] >= '2023-01-01') & (df['Date'] <= '2023-01-31')]\n",
    "\n",
    "    return selected_rows\n",
    "\n",
    "# Example usage:\n",
    "# Assuming df is your original DataFrame with the 'Date' column\n",
    "df = pd.DataFrame({'Date': ['2023-01-01', '2023-01-15', '2023-01-25', '2023-02-05']})\n",
    "\n",
    "# Calling the function with the DataFrame\n",
    "selected_df = select_rows_between_dates(df)\n",
    "\n",
    "# Displaying the new DataFrame with selected rows\n",
    "print(selected_df)\n"
   ]
  },
  {
   "cell_type": "code",
   "execution_count": null,
   "id": "826dc032-cff1-4ee3-81f3-1438411f3e79",
   "metadata": {},
   "outputs": [],
   "source": [
    "Q13. To use the basic functions of pandas, what is the first and foremost necessary library that needs to\n",
    "be imported?"
   ]
  },
  {
   "cell_type": "code",
   "execution_count": null,
   "id": "624c1b5f-a1f6-4c9b-a224-4323a1d15e4e",
   "metadata": {},
   "outputs": [],
   "source": [
    "To use the basic functions of Pandas, you need to import the Pandas library. The most common convention is to import it with the alias pd. Here is how you typically import Pandas:"
   ]
  },
  {
   "cell_type": "code",
   "execution_count": null,
   "id": "e478e0f0-d6b7-4a72-94b6-e5bcb0627188",
   "metadata": {},
   "outputs": [],
   "source": [
    "import pandas as pd\n"
   ]
  }
 ],
 "metadata": {
  "kernelspec": {
   "display_name": "Python 3 (ipykernel)",
   "language": "python",
   "name": "python3"
  },
  "language_info": {
   "codemirror_mode": {
    "name": "ipython",
    "version": 3
   },
   "file_extension": ".py",
   "mimetype": "text/x-python",
   "name": "python",
   "nbconvert_exporter": "python",
   "pygments_lexer": "ipython3",
   "version": "3.10.8"
  }
 },
 "nbformat": 4,
 "nbformat_minor": 5
}
