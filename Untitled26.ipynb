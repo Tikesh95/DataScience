{
 "cells": [
  {
   "cell_type": "code",
   "execution_count": null,
   "id": "d240fbba-f7de-498d-a64c-fded99ee50a9",
   "metadata": {},
   "outputs": [],
   "source": [
    "Q1. How can you create a Bokeh plot using Python code?"
   ]
  },
  {
   "cell_type": "code",
   "execution_count": null,
   "id": "61372d85-5d60-4dad-b31f-fb9bfa42b3d6",
   "metadata": {},
   "outputs": [],
   "source": [
    "Install Bokeh:\n",
    "    pip install bokeh\n"
   ]
  },
  {
   "cell_type": "code",
   "execution_count": null,
   "id": "c76bdf36-43a4-4c3b-900c-d14c652b51ca",
   "metadata": {},
   "outputs": [],
   "source": [
    "Import Bokeh:\n",
    "    from bokeh.plotting import figure, show\n",
    "from bokeh.io import output_file\n"
   ]
  },
  {
   "cell_type": "code",
   "execution_count": null,
   "id": "3b79dd71-df9e-4225-aac4-e84875615c46",
   "metadata": {},
   "outputs": [],
   "source": [
    "Prepare Data:\n",
    "    x = [1, 2, 3, 4, 5]\n",
    "y = [6, 7, 2, 4, 5]\n"
   ]
  },
  {
   "cell_type": "code",
   "execution_count": null,
   "id": "133811f3-35fc-4cf8-b16a-646a0f5d1db1",
   "metadata": {},
   "outputs": [],
   "source": [
    "Create a Figure:\n",
    "    p = figure(title=\"Example Bokeh Plot\", x_axis_label=\"X-axis\", y_axis_label=\"Y-axis\")\n"
   ]
  },
  {
   "cell_type": "code",
   "execution_count": null,
   "id": "202c9759-1123-48aa-9958-ed3416d91ac8",
   "metadata": {},
   "outputs": [],
   "source": [
    "Add Glyphs (Markers, Lines, etc.):\n",
    "    p.circle(x, y, size=10, color=\"navy\", alpha=0.5)\n"
   ]
  },
  {
   "cell_type": "code",
   "execution_count": null,
   "id": "ff08ee4e-4d27-4c84-abce-453f40695d44",
   "metadata": {},
   "outputs": [],
   "source": [
    "Q2. What are glyphs in Bokeh, and how can you add them to a Bokeh plot? Explain with an example."
   ]
  },
  {
   "cell_type": "code",
   "execution_count": null,
   "id": "3bdf956b-79ce-4c7a-9725-c27469993b76",
   "metadata": {},
   "outputs": [],
   "source": [
    "In Bokeh, glyphs are visual markers that represent data points on a plot. Glyphs can take various forms, such as circles, squares, lines, patches, and more. Each glyph type has its own set of properties and customization options."
   ]
  },
  {
   "cell_type": "code",
   "execution_count": null,
   "id": "17235d36-75db-4e8b-a538-aebf2e842168",
   "metadata": {},
   "outputs": [],
   "source": [
    "from bokeh.plotting import figure, show\n",
    "\n",
    "# Prepare data\n",
    "x = [1, 2, 3, 4, 5]\n",
    "y = [6, 7, 2, 4, 5]\n",
    "\n",
    "# Create a Bokeh figure\n",
    "p = figure(title=\"Example Bokeh Plot\", x_axis_label=\"X-axis\", y_axis_label=\"Y-axis\")\n",
    "\n",
    "# Add circles as glyphs to the figure\n",
    "p.circle(x, y, size=10, color=\"navy\", alpha=0.5)\n",
    "\n",
    "# Show the plot\n",
    "show(p)\n"
   ]
  },
  {
   "cell_type": "code",
   "execution_count": null,
   "id": "db3b693b-e707-4d4d-ab3c-f911565fcd0e",
   "metadata": {},
   "outputs": [],
   "source": [
    "Q3. How can you customize the appearance of a Bokeh plot, including the axes, title, and legend?"
   ]
  },
  {
   "cell_type": "code",
   "execution_count": null,
   "id": "8dcc1cb8-5b1e-4f5c-9c56-972cef3d0d43",
   "metadata": {},
   "outputs": [],
   "source": [
    "Customizing Axes\n",
    "Axis Labels:\n",
    "    p = figure(title=\"Customized Bokeh Plot\", x_axis_label=\"Custom X-axis\", y_axis_label=\"Custom Y-axis\")\n"
   ]
  },
  {
   "cell_type": "code",
   "execution_count": null,
   "id": "c2297aa0-5718-49c3-8efc-89baceeb4aaf",
   "metadata": {},
   "outputs": [],
   "source": [
    "Tick Labels and Formatting:\n",
    "    p.xaxis.major_label_orientation = \"vertical\"\n",
    "p.xaxis.major_label_text_color = \"red\"\n"
   ]
  },
  {
   "cell_type": "code",
   "execution_count": null,
   "id": "1809ecc3-32dc-405d-9fde-fd87571ba719",
   "metadata": {},
   "outputs": [],
   "source": [
    "Customizing Title:\n",
    "Plot Title:\n",
    "    p.title.text = \"Customized Bokeh Plot\"\n"
   ]
  },
  {
   "cell_type": "code",
   "execution_count": null,
   "id": "5293101c-9c0c-4187-81c0-2d4a1d5329f4",
   "metadata": {},
   "outputs": [],
   "source": [
    "Customizing Legend:\n",
    "Adding a Legend:\n",
    "    p.circle(x, y, size=10, color=\"navy\", alpha=0.5, legend_label=\"Circle Glyph\")\n",
    "p.line(x, y, line_width=2, color=\"green\", legend_label=\"Line Glyph\")\n",
    "p.legend.location = \"top_left\"\n"
   ]
  },
  {
   "cell_type": "code",
   "execution_count": null,
   "id": "011b7ad8-73af-4197-bd18-cc8f1c669168",
   "metadata": {},
   "outputs": [],
   "source": [
    "Q4. What is a Bokeh server, and how can you use it to create interactive plots that can be updated in\n",
    "real time?"
   ]
  },
  {
   "cell_type": "code",
   "execution_count": null,
   "id": "49dec2dc-5687-476c-9e82-51fcba8ce382",
   "metadata": {},
   "outputs": [],
   "source": [
    "A Bokeh server is a Python process that hosts interactive Bokeh applications. Bokeh applications are typically created using the Bokeh server framework, allowing for the creation of dynamic and interactive plots that can be updated in real time. Bokeh server applications run on a server and can communicate with the client-side (browser) to handle user interactions and dynamically update the displayed plots."
   ]
  },
  {
   "cell_type": "code",
   "execution_count": null,
   "id": "74779ea4-ab24-4376-a2aa-aafc1bc681da",
   "metadata": {},
   "outputs": [],
   "source": [
    "Install Bokeh:\n",
    "    pip install bokeh\n"
   ]
  },
  {
   "cell_type": "code",
   "execution_count": null,
   "id": "0b382183-b9cc-4230-94ff-b6af817827db",
   "metadata": {},
   "outputs": [],
   "source": [
    "Create a Bokeh Server Application:"
   ]
  },
  {
   "cell_type": "code",
   "execution_count": null,
   "id": "0c91786c-b488-42cd-8002-1130e71953c1",
   "metadata": {},
   "outputs": [],
   "source": [
    "# myapp.py\n",
    "\n",
    "from bokeh.io import curdoc\n",
    "from bokeh.plotting import figure\n",
    "from bokeh.models import ColumnDataSource\n",
    "import numpy as np\n",
    "\n",
    "# Create a figure and data source\n",
    "fig = figure(title=\"Interactive Bokeh Server Plot\", tools=\"pan,box_zoom,reset\")\n",
    "source = ColumnDataSource(data={'x': [], 'y': []})\n",
    "scatter = fig.circle('x', 'y', source=source, size=10)\n",
    "\n",
    "# Update the data source in a periodic callback\n",
    "def update():\n",
    "    new_data = {'x': np.random.random(100), 'y': np.random.random(100)}\n",
    "    source.data = new_data\n",
    "\n",
    "# Add a periodic callback to update the data every 500 milliseconds\n",
    "curdoc().add_periodic_callback(update, 500)\n",
    "\n",
    "# Set up the document\n",
    "curdoc().add_root(fig)\n"
   ]
  },
  {
   "cell_type": "code",
   "execution_count": null,
   "id": "7aa956a4-193d-45f1-84de-4914622260d5",
   "metadata": {},
   "outputs": [],
   "source": [
    "Run the Bokeh Server:\n",
    "    bokeh serve --show myapp.py\n"
   ]
  },
  {
   "cell_type": "code",
   "execution_count": null,
   "id": "3f561b9e-fbf7-4e19-acd3-3ff1c6697dde",
   "metadata": {},
   "outputs": [],
   "source": [
    "Interact with the Plot:\n",
    "The plot will update in real time based on the periodic callback specified in the application. You can interact with the plot using the specified tools (pan, box_zoom, reset) and observe the dynamic changes."
   ]
  },
  {
   "cell_type": "code",
   "execution_count": null,
   "id": "9cad58ae-a956-4369-87bd-c4dd9ad0ebd3",
   "metadata": {},
   "outputs": [],
   "source": [
    "Q5. How can you embed a Bokeh plot into a web page or dashboard using Flask or Django?"
   ]
  },
  {
   "cell_type": "code",
   "execution_count": null,
   "id": "03dc72cb-baa2-47bc-8007-34fb06d0cba5",
   "metadata": {},
   "outputs": [],
   "source": [
    "# app.py\n",
    "\n",
    "from flask import Flask, render_template\n",
    "from bokeh.embed import components\n",
    "from bokeh.plotting import figure\n",
    "from bokeh.resources import CDN\n",
    "\n",
    "app = Flask(__name__)\n",
    "\n",
    "@app.route('/')\n",
    "def index():\n",
    "    # Create a Bokeh plot\n",
    "    plot = figure(title=\"Embedded Bokeh Plot\", plot_width=400, plot_height=400)\n",
    "    plot.circle([1, 2, 3], [4, 5, 6], size=20)\n",
    "\n",
    "    # Embed the plot into the HTML template\n",
    "    script, div = components(plot, CDN)\n",
    "    return render_template('index.html', script=script, div=div)\n",
    "\n",
    "if __name__ == '__main__':\n",
    "    app.run(debug=True)\n"
   ]
  },
  {
   "cell_type": "code",
   "execution_count": null,
   "id": "a1d181ff-da72-496d-b071-22ef746033f0",
   "metadata": {},
   "outputs": [],
   "source": [
    "Create a Template (index.html):"
   ]
  },
  {
   "cell_type": "code",
   "execution_count": null,
   "id": "b990a448-8a4c-4865-a62f-1c4079348749",
   "metadata": {},
   "outputs": [],
   "source": [
    "<!-- templates/index.html -->\n",
    "\n",
    "<!DOCTYPE html>\n",
    "<html lang=\"en\">\n",
    "<head>\n",
    "    <meta charset=\"UTF-8\">\n",
    "    <meta name=\"viewport\" content=\"width=device-width, initial-scale=1.0\">\n",
    "    <title>Bokeh Flask App</title>\n",
    "    {{ script|safe }}\n",
    "</head>\n",
    "<body>\n",
    "    <h1>Bokeh Plot Embedded in Flask</h1>\n",
    "    {{ div|safe }}\n",
    "</body>\n",
    "</html>\n"
   ]
  },
  {
   "cell_type": "code",
   "execution_count": null,
   "id": "4ae5ea6c-1a86-45cb-a8c4-153f8544c7f9",
   "metadata": {},
   "outputs": [],
   "source": [
    "Create a Django Project:"
   ]
  },
  {
   "cell_type": "code",
   "execution_count": null,
   "id": "f4d287cc-99d1-4376-bdbc-8c9de87c5849",
   "metadata": {},
   "outputs": [],
   "source": [
    "django-admin startproject myproject\n",
    "cd myproject\n",
    "python manage.py startapp myapp\n"
   ]
  },
  {
   "cell_type": "code",
   "execution_count": null,
   "id": "ad975a39-5516-4ea8-b1af-ee3cee51e70c",
   "metadata": {},
   "outputs": [],
   "source": [
    "Install Bokeh:\n",
    "    pip install bokeh\n"
   ]
  },
  {
   "cell_type": "code",
   "execution_count": null,
   "id": "1f471759-ad25-4717-a3fc-b4d06f2390d1",
   "metadata": {},
   "outputs": [],
   "source": [
    "Update Views"
   ]
  },
  {
   "cell_type": "code",
   "execution_count": null,
   "id": "8c8a594d-ac23-45c5-a68a-7de02abd05ba",
   "metadata": {},
   "outputs": [],
   "source": [
    "# myapp/views.py\n",
    "\n",
    "from django.shortcuts import render\n",
    "from bokeh.plotting import figure\n",
    "from bokeh.embed import components\n",
    "from bokeh.resources import CDN\n",
    "\n",
    "def bokeh_plot(request):\n",
    "    # Create a Bokeh plot\n",
    "    plot = figure(title=\"Embedded Bokeh Plot\", plot_width=400, plot_height=400)\n",
    "    plot.circle([1, 2, 3], [4, 5, 6], size=20)\n",
    "\n",
    "    # Embed the plot into the HTML template\n",
    "    script, div = components(plot, CDN)\n",
    "    return render(request, 'myapp/index.html', {'script': script, 'div': div})\n"
   ]
  },
  {
   "cell_type": "code",
   "execution_count": null,
   "id": "badbbb04-5723-4797-b3c1-8b1cd106c0a8",
   "metadata": {},
   "outputs": [],
   "source": [
    "Create a Template"
   ]
  },
  {
   "cell_type": "code",
   "execution_count": null,
   "id": "679f59c3-b89d-4a28-b51d-1efb492d8938",
   "metadata": {},
   "outputs": [],
   "source": [
    "<!-- myapp/templates/myapp/index.html -->\n",
    "\n",
    "<!DOCTYPE html>\n",
    "<html lang=\"en\">\n",
    "<head>\n",
    "    <meta charset=\"UTF-8\">\n",
    "    <meta name=\"viewport\" content=\"width=device-width, initial-scale=1.0\">\n",
    "    <title>Bokeh Django App</title>\n",
    "    {{ script|safe }}\n",
    "</head>\n",
    "<body>\n",
    "    <h1>Bokeh Plot Embedded in Django</h1>\n",
    "    {{ div|safe }}\n",
    "</body>\n",
    "</html>\n"
   ]
  }
 ],
 "metadata": {
  "kernelspec": {
   "display_name": "Python 3 (ipykernel)",
   "language": "python",
   "name": "python3"
  },
  "language_info": {
   "codemirror_mode": {
    "name": "ipython",
    "version": 3
   },
   "file_extension": ".py",
   "mimetype": "text/x-python",
   "name": "python",
   "nbconvert_exporter": "python",
   "pygments_lexer": "ipython3",
   "version": "3.10.8"
  }
 },
 "nbformat": 4,
 "nbformat_minor": 5
}
