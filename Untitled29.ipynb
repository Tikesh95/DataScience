{
 "cells": [
  {
   "cell_type": "code",
   "execution_count": null,
   "id": "eb40c32d-f3bf-48a2-b257-69a383615d6f",
   "metadata": {},
   "outputs": [],
   "source": [
    "Q1. What is the Probability density function?"
   ]
  },
  {
   "cell_type": "code",
   "execution_count": null,
   "id": "9c296cb2-d11f-4821-b51f-c471bceae2fb",
   "metadata": {},
   "outputs": [],
   "source": [
    "The Probability Density Function (PDF) is a concept in probability theory and statistics that describes the likelihood of a continuous random variable falling within a particular range of values. The PDF is often associated with continuous probability distributions."
   ]
  },
  {
   "cell_type": "code",
   "execution_count": null,
   "id": "19b68868-7a25-46c2-8de2-716b9e90f00d",
   "metadata": {},
   "outputs": [],
   "source": [
    "Q2. What are the types of Probability distribution?"
   ]
  },
  {
   "cell_type": "code",
   "execution_count": null,
   "id": "000da483-4f12-4168-8888-994e07344c80",
   "metadata": {},
   "outputs": [],
   "source": [
    "\n",
    "There are several types of probability distributions, and they can be broadly classified into two main categories: discrete probability distributions and continuous probability distributions. Each category has specific distributions associated with it.\n",
    "\n",
    "Discrete Probability Distributions:\n",
    "\n",
    "Bernoulli Distribution: A distribution with two possible outcomes, often labeled as success (1) and failure (0).\n",
    "Binomial Distribution: Represents the number of successes in a fixed number of independent Bernoulli trials.\n",
    "Poisson Distribution: Describes the number of events that occur in a fixed interval of time or space, given a known average rate of occurrence.\n",
    "Continuous Probability Distributions:\n",
    "\n",
    "Normal Distribution (Gaussian Distribution): A bell-shaped curve characterized by its mean and standard deviation. Many natural phenomena follow a normal distribution.\n",
    "Uniform Distribution: All outcomes have equal probability, forming a rectangular-shaped distribution.\n",
    "Exponential Distribution: Describes the time between events in a Poisson process, such as the time between arrivals of customers at a service point.\n",
    "Gamma Distribution: Generalizes the exponential distribution and is used to model the waiting time until a Poisson-distributed number of events occur.\n",
    "Beta Distribution: Used to model random variables whose distribution is constrained to intervals between 0 and 1.\n",
    "These are just a few examples, and there are many other probability distributions with specific characteristics and use cases. The choice of distribution depends on the nature of the random variable being modeled and the underlying assumptions about the data.\n",
    "\n",
    "It's important to note that each distribution has its own probability density function (PDF) or probability mass function (PMF), which describes the likelihood of different outcomes or ranges of values. Probability distributions are fundamental tools in statistics and probability theory, enabling the modeling and analysis of various real-world phenomena.\n",
    "\n",
    "\n",
    "\n",
    "\n",
    "\n"
   ]
  },
  {
   "cell_type": "code",
   "execution_count": null,
   "id": "702c4ce5-0447-48e9-9929-6cd7533a2115",
   "metadata": {},
   "outputs": [],
   "source": [
    "Q3. Write a Python function to calculate the probability density function of a normal distribution with\n",
    "given mean and standard deviation at a given point."
   ]
  },
  {
   "cell_type": "code",
   "execution_count": null,
   "id": "fdbf1b69-3e02-4098-ba27-092c335bbd63",
   "metadata": {},
   "outputs": [],
   "source": [
    "import math\n",
    "\n",
    "def normal_pdf(x, mean, std_dev):\n",
    "    \"\"\"\n",
    "    Calculate the probability density function (PDF) of a normal distribution at a given point.\n",
    "\n",
    "    Parameters:\n",
    "    - x: The point at which to calculate the PDF.\n",
    "    - mean: The mean of the normal distribution.\n",
    "    - std_dev: The standard deviation of the normal distribution.\n",
    "\n",
    "    Returns:\n",
    "    The PDF value at the given point.\n",
    "    \"\"\"\n",
    "    coefficient = 1 / (math.sqrt(2 * math.pi * std_dev**2))\n",
    "    exponent = -((x - mean)**2) / (2 * std_dev**2)\n",
    "    pdf_value = coefficient * math.exp(exponent)\n",
    "    return pdf_value\n",
    "\n",
    "# Example usage:\n",
    "mean = 0\n",
    "std_dev = 1\n",
    "point = 1.5\n",
    "\n",
    "pdf_result = normal_pdf(point, mean, std_dev)\n",
    "print(f\"The PDF at x={point} is: {pdf_result}\")\n"
   ]
  },
  {
   "cell_type": "code",
   "execution_count": null,
   "id": "fef9b1d9-ab7f-4876-97d5-a2bac454a804",
   "metadata": {},
   "outputs": [],
   "source": [
    "Q4. What are the properties of Binomial distribution? Give two examples of events where binomial\n",
    "distribution can be applied."
   ]
  },
  {
   "cell_type": "code",
   "execution_count": null,
   "id": "1b3de339-5e66-4a97-8854-bae540b91fa4",
   "metadata": {},
   "outputs": [],
   "source": [
    "The Binomial distribution is a discrete probability distribution that models the number of successes in a fixed number of independent Bernoulli trials, where each trial has two possible outcomes: success (S) or failure (F). The Binomial distribution has several key properties:\n",
    "\n",
    "Fixed Number of Trials (n): The number of trials (experiments or observations) is fixed in advance.\n",
    "\n",
    "Independent Trials: Each trial is independent of the others. The outcome of one trial does not affect the outcome of another.\n",
    "\n",
    "Two Possible Outcomes: Each trial results in one of two outcomes, typically labeled as success (S) or failure (F).\n",
    "\n",
    "Constant Probability of Success (p): The probability of success (denoted as \n",
    "�\n",
    "p) remains constant across all trials.\n",
    "\n",
    "Discrete Distribution: The Binomial distribution is discrete, meaning that it describes a set of distinct possible values (whole numbers).\n",
    "\n",
    "Count of Successes: The random variable \n",
    "�\n",
    "X represents the number of successes in the fixed number of trials."
   ]
  },
  {
   "cell_type": "code",
   "execution_count": null,
   "id": "2236af2a-9d45-47ef-88cc-a9d7573ac84f",
   "metadata": {},
   "outputs": [],
   "source": [
    "Examples of Events Where Binomial Distribution Can Be Applied:\n",
    "\n",
    "Coin Flipping:\n",
    "\n",
    "Example: Tossing a fair coin 5 times and counting the number of heads.\n",
    "Properties:\n",
    "Fixed number of trials (n = 5).\n",
    "Each trial is independent.\n",
    "Two possible outcomes (heads or tails).\n",
    "Constant probability of success (0.5 for a fair coin).\n",
    "Quality Control:\n",
    "\n",
    "Example: Inspecting a batch of products and counting the number of defective items.\n",
    "Properties:\n",
    "Fixed number of trials (n = the batch size).\n",
    "Each item's inspection is independent.\n",
    "Two possible outcomes (defective or non-defective).\n",
    "Constant probability of success (probability of a defective item)."
   ]
  },
  {
   "cell_type": "code",
   "execution_count": null,
   "id": "7f832e8d-c1bb-4de8-8079-15f4508f4fa7",
   "metadata": {},
   "outputs": [],
   "source": [
    "Q5. Generate a random sample of size 1000 from a binomial distribution with probability of success 0.4\n",
    "and plot a histogram of the results using matplotlib."
   ]
  },
  {
   "cell_type": "code",
   "execution_count": null,
   "id": "8f005bf3-7922-4958-96c6-7912956b181f",
   "metadata": {},
   "outputs": [],
   "source": [
    "import numpy as np\n",
    "import matplotlib.pyplot as plt\n",
    "\n",
    "# Set the parameters for the binomial distribution\n",
    "n_trials = 1000  # Number of trials\n",
    "p_success = 0.4  # Probability of success\n",
    "\n",
    "# Generate a random sample from the binomial distribution\n",
    "random_sample = np.random.binomial(n=n_trials, p=p_success, size=1000)\n",
    "\n",
    "# Plot the histogram\n",
    "plt.hist(random_sample, bins=np.arange(-0.5, n_trials + 1.5, 1), edgecolor='black')\n",
    "plt.title(f'Binomial Distribution\\n(n={n_trials}, p={p_success})')\n",
    "plt.xlabel('Number of Successes')\n",
    "plt.ylabel('Frequency')\n",
    "plt.grid(axis='y', linestyle='--', alpha=0.7)\n",
    "plt.show()\n"
   ]
  },
  {
   "cell_type": "code",
   "execution_count": null,
   "id": "91576e27-fb98-4a69-9307-9caf1dac1c4b",
   "metadata": {},
   "outputs": [],
   "source": [
    "Q6. Write a Python function to calculate the cumulative distribution function of a Poisson distribution\n",
    "with given mean at a given point."
   ]
  },
  {
   "cell_type": "code",
   "execution_count": null,
   "id": "45e1473d-af60-40c3-89ac-4dac47656ce8",
   "metadata": {},
   "outputs": [],
   "source": [
    "import math\n",
    "\n",
    "def poisson_cdf(k, mean):\n",
    "    \"\"\"\n",
    "    Calculate the Cumulative Distribution Function (CDF) of a Poisson distribution at a given point.\n",
    "\n",
    "    Parameters:\n",
    "    - k: The point at which to calculate the CDF.\n",
    "    - mean: The mean of the Poisson distribution.\n",
    "\n",
    "    Returns:\n",
    "    The CDF value at the given point.\n",
    "    \"\"\"\n",
    "    cdf_value = 0\n",
    "    for i in range(k + 1):\n",
    "        cdf_value += math.exp(-mean) * (mean**i) / math.factorial(i)\n",
    "    return cdf_value\n",
    "\n",
    "# Example usage:\n",
    "mean = 3\n",
    "point = 2\n",
    "\n",
    "cdf_result = poisson_cdf(point, mean)\n",
    "print(f\"The CDF at k={point} is: {cdf_result}\")\n"
   ]
  },
  {
   "cell_type": "code",
   "execution_count": null,
   "id": "4692fe24-b3fd-47c9-a638-d1b9daf49029",
   "metadata": {},
   "outputs": [],
   "source": [
    "Q7. How Binomial distribution different from Poisson distribution?"
   ]
  },
  {
   "cell_type": "code",
   "execution_count": null,
   "id": "258afd1b-78b8-4d07-978e-43273a66cae0",
   "metadata": {},
   "outputs": [],
   "source": [
    "The Binomial and Poisson distributions are both probability distributions used in statistical modeling, but they differ in terms of the scenarios they are applicable to and their key characteristics. Here are the main differences between the Binomial and Poisson distributions:\n",
    "\n",
    "1. Number of Trials:\n",
    "\n",
    "Binomial Distribution: Describes the number of successes in a fixed number of independent Bernoulli trials, where each trial has two possible outcomes (success or failure).\n",
    "Poisson Distribution: Describes the number of events that occur in a fixed interval of time or space, given a known average rate of occurrence. The number of trials is not fixed in the Poisson distribution; it represents events occurring in a continuous or infinite sequence.\n",
    "2. Nature of Outcomes:\n",
    "\n",
    "Binomial Distribution: The outcomes of each trial are discrete and can only take on two values (success or failure).\n",
    "Poisson Distribution: The outcomes are also discrete, representing the count of events in a continuous or infinite sequence.\n",
    "3. Independence:\n",
    "\n",
    "Binomial Distribution: Assumes that the trials are independent, meaning the outcome of one trial does not affect the outcome of another.\n",
    "Poisson Distribution: Assumes that the events are independent within the fixed interval.\n",
    "4. Probability of Success:\n",
    "\n",
    "Binomial Distribution: Requires a constant probability of success (p) for each trial.\n",
    "Poisson Distribution: Describes events that occur randomly, and the probability of an event occurring in a small interval is proportional to the length of the interval.\n",
    "5. Parameters:\n",
    "\n",
    "Binomial Distribution: Requires two parameters - the number of trials (n) and the probability of success in each trial (p)."
   ]
  },
  {
   "cell_type": "code",
   "execution_count": null,
   "id": "0c2d1b3e-dba8-4505-8fea-f7a116c3c4cb",
   "metadata": {},
   "outputs": [],
   "source": [
    "Q8. Generate a random sample of size 1000 from a Poisson distribution with mean 5 and calculate the\n",
    "sample mean and variance."
   ]
  },
  {
   "cell_type": "code",
   "execution_count": null,
   "id": "3b610bc2-9193-4713-9c60-ffa974c14da3",
   "metadata": {},
   "outputs": [],
   "source": [
    "import numpy as np\n",
    "\n",
    "# Set the parameters for the Poisson distribution\n",
    "mean = 5\n",
    "sample_size = 1000\n",
    "\n",
    "# Generate a random sample from the Poisson distribution\n",
    "random_sample = np.random.poisson(lam=mean, size=sample_size)\n",
    "\n",
    "# Calculate the sample mean and variance\n",
    "sample_mean = np.mean(random_sample)\n",
    "sample_variance = np.var(random_sample)\n",
    "\n",
    "# Print the results\n",
    "print(f\"Sample Mean: {sample_mean}\")\n",
    "print(f\"Sample Variance: {sample_variance}\")\n"
   ]
  },
  {
   "cell_type": "code",
   "execution_count": null,
   "id": "3353f0da-ed58-4223-bc24-48e4adbe6866",
   "metadata": {},
   "outputs": [],
   "source": [
    "Q9. How mean and variance are related in Binomial distribution and Poisson distribution?"
   ]
  },
  {
   "cell_type": "code",
   "execution_count": null,
   "id": "6a56bb30-f3dc-417c-b468-3e2f3249702a",
   "metadata": {},
   "outputs": [],
   "source": []
  },
  {
   "cell_type": "code",
   "execution_count": null,
   "id": "aeb9965d-5498-4f6a-b96e-d32882ceb8f9",
   "metadata": {},
   "outputs": [],
   "source": [
    "Q10. In normal distribution with respect to mean position, where does the least frequent data appear?"
   ]
  },
  {
   "cell_type": "code",
   "execution_count": null,
   "id": "e5a406ef-c7dc-4469-b8c5-541f1d6f295a",
   "metadata": {},
   "outputs": [],
   "source": [
    "In a normal distribution, also known as a Gaussian distribution or bell curve, the least frequent data appears in the tails of the distribution, farthest from the mean. Specifically:\n",
    "\n",
    "Left Tail (Negative Side): The data values on the left side of the mean (to the left of the peak of the curve) are smaller than the mean. These represent the lower values in the distribution. The farther you move to the left, the less frequent the data becomes.\n",
    "\n",
    "Right Tail (Positive Side): The data values on the right side of the mean (to the right of the peak of the curve) are larger than the mean. These represent the higher values in the distribution. The farther you move to the right, the less frequent the data becomes.\n",
    "\n",
    "The normal distribution is symmetric, and the tails extend infinitely in both directions. However, the probability of observing data values in the tails decreases rapidly as you move away from the mean. The majority of the data is concentrated in the central portion of the distribution, near the mean.\n",
    "\n",
    "In summary, the least frequent data in a normal distribution is found in the extreme tails, both to the left and right of the mean."
   ]
  }
 ],
 "metadata": {
  "kernelspec": {
   "display_name": "Python 3 (ipykernel)",
   "language": "python",
   "name": "python3"
  },
  "language_info": {
   "codemirror_mode": {
    "name": "ipython",
    "version": 3
   },
   "file_extension": ".py",
   "mimetype": "text/x-python",
   "name": "python",
   "nbconvert_exporter": "python",
   "pygments_lexer": "ipython3",
   "version": "3.10.8"
  }
 },
 "nbformat": 4,
 "nbformat_minor": 5
}
