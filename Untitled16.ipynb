{
 "cells": [
  {
   "cell_type": "code",
   "execution_count": null,
   "id": "4e5f7a0b-5b72-4bf4-9ee1-08bcbefe0b87",
   "metadata": {},
   "outputs": [],
   "source": [
    "Q1. What is Flask Framework? What are the advantages of Flask Framework?"
   ]
  },
  {
   "cell_type": "code",
   "execution_count": null,
   "id": "6adcdfea-bfc0-495d-a007-8a42f38e3a5a",
   "metadata": {},
   "outputs": [],
   "source": [
    "\n",
    "Flask is a micro web framework for Python that is designed to be lightweight, modular, and easy to use. It is known for its simplicity and flexibility, allowing developers to build web applications quickly and efficiently. Flask does not come with built-in features like database abstraction, authentication, or form validation, but it provides the necessary tools to easily integrate third-party libraries and extensions for these functionalities.\n",
    "\n",
    "Advantages of Flask Framework:\n",
    "\n",
    "Lightweight and Simple: Flask is a micro-framework, which means it comes with the bare essentials to get a web application up and running. This simplicity allows developers to have more control over the components they use and how they structure their applications.\n",
    "\n",
    "Flexibility: Flask follows a \"build it as you grow\" philosophy, allowing developers to add the components and features they need as the project progresses. This flexibility makes it suitable for both small and large applications.\n",
    "\n",
    "Extensibility: Flask provides a simple core that can be easily extended by adding Flask extensions or third-party libraries. This modular approach allows developers to choose and integrate the components they need for specific tasks, such as database integration, authentication, and more.\n",
    "\n",
    "Jinja2 Templating: Flask uses the Jinja2 templating engine, which allows developers to embed dynamic content within HTML templates. This makes it easier to generate dynamic web pages with Python code.\n",
    "\n",
    "Built-in Development Server: Flask comes with a built-in development server, making it easy to test and debug applications during the development phase. While not suitable for production use, it provides a convenient environment for local development."
   ]
  },
  {
   "cell_type": "code",
   "execution_count": null,
   "id": "93549936-3603-419c-93a9-675b71859bad",
   "metadata": {},
   "outputs": [],
   "source": [
    "Q2. Create a simple Flask application to display ‘Hello World!!’. Attach the screenshot of the output in\n",
    "Jupyter Notebook."
   ]
  },
  {
   "cell_type": "code",
   "execution_count": null,
   "id": "f87789ca-3f6c-421e-8c14-60ab528cca9c",
   "metadata": {},
   "outputs": [],
   "source": [
    "# Save this code in a file named app.py\n",
    "\n",
    "from flask import Flask\n",
    "\n",
    "app = Flask(__name__)\n",
    "\n",
    "@app.route('/')\n",
    "def hello_world():\n",
    "    return 'Hello World!!'\n",
    "\n",
    "if __name__ == '__main__':\n",
    "    app.run(debug=True)\n"
   ]
  },
  {
   "cell_type": "code",
   "execution_count": null,
   "id": "953b87d5-6a4e-477d-a8da-d3998d8dd1d0",
   "metadata": {},
   "outputs": [],
   "source": [
    "Q3. What is App routing in Flask? Why do we use app routes?"
   ]
  },
  {
   "cell_type": "code",
   "execution_count": null,
   "id": "d45e0d0f-6d45-4705-a94e-abaef3ae429b",
   "metadata": {},
   "outputs": [],
   "source": [
    " Flask, app routing refers to the mechanism of associating different URLs (Uniform Resource Locators) with specific functions or view handlers in your application. This process is essential for defining the behavior of your web application when a user accesses different URLs."
   ]
  },
  {
   "cell_type": "code",
   "execution_count": null,
   "id": "ac57b68f-a0a8-4f59-8b99-510126424759",
   "metadata": {},
   "outputs": [],
   "source": [
    "Why do we use app routes?\n",
    "Organizing Code: App routes help organize your code by allowing you to define different parts of your application logic for different URLs. This makes your code more modular and easier to maintain.\n",
    "\n",
    "Handling URL Requests: App routes define how your application responds to different URL requests. By associating URLs with specific functions or view handlers, you can control what content is displayed or what actions are taken when a user visits a particular URL.\n",
    "\n",
    "RESTful API Development: For applications that include RESTful APIs, app routing is crucial. Different routes often correspond to different API endpoints, each handling specific HTTP methods (GET, POST, etc.) and performing different actions.\n",
    "\n",
    "Dynamic URLs: Flask app routes support dynamic URL patterns. You can define routes with parameters, allowing your application to handle variable parts of URLs. For example, /user/<username> could capture different usernames and pass them as parameters to a view function."
   ]
  },
  {
   "cell_type": "code",
   "execution_count": null,
   "id": "1c6548a6-a6f0-404a-8a09-6fef46dfcff8",
   "metadata": {},
   "outputs": [],
   "source": [
    "Q4. Create a “/welcome” route to display the welcome message “Welcome to ABC Corporation” and a “/”\n",
    "route to show the following details:\n",
    "Company Name: ABC Corporation\n",
    "Location: India\n",
    "Contact Detail: 999-999-9999"
   ]
  },
  {
   "cell_type": "code",
   "execution_count": null,
   "id": "101fa1e7-3bd0-4643-8462-3bc656f0c6d7",
   "metadata": {},
   "outputs": [],
   "source": [
    "from flask import Flask\n",
    "\n",
    "app = Flask(__name__)\n",
    "\n",
    "@app.route('/welcome')\n",
    "def welcome():\n",
    "    return 'Welcome to ABC Corporation'\n",
    "\n",
    "@app.route('/')\n",
    "def company_details():\n",
    "    return '''\n",
    "    Company Name: ABC Corporation\n",
    "    Location: India\n",
    "    Contact Detail: 999-999-9999\n",
    "    '''\n",
    "\n",
    "if __name__ == '__main__':\n",
    "    app.run(debug=True)\n"
   ]
  },
  {
   "cell_type": "code",
   "execution_count": null,
   "id": "494fe184-3e4d-413e-a443-fa788c3277a2",
   "metadata": {},
   "outputs": [],
   "source": [
    "Q5. What function is used in Flask for URL Building? Write a Python code to demonstrate the working of the\n",
    "url_for() function."
   ]
  },
  {
   "cell_type": "code",
   "execution_count": null,
   "id": "6cbb4b12-6870-4a59-ae5a-dc985fca43e9",
   "metadata": {},
   "outputs": [],
   "source": [
    "\n",
    "In Flask, the url_for() function is used for URL building. It generates a URL for the specified endpoint and any provided parameters. This function is particularly useful because it allows you to build URLs dynamically, taking into account the routes and their associated functions in your application.\n",
    "\n",
    "Here's a simple example to demonstrate the use of the url_for() function in Flask:"
   ]
  },
  {
   "cell_type": "code",
   "execution_count": null,
   "id": "bda0eb1a-9a2f-4712-a2cb-9157a906ae5b",
   "metadata": {},
   "outputs": [],
   "source": [
    "from flask import Flask, url_for\n",
    "\n",
    "app = Flask(__name__)\n",
    "\n",
    "@app.route('/')\n",
    "def home():\n",
    "    return 'This is the home page. <a href=\"' + url_for('about') + '\">About</a>'\n",
    "\n",
    "@app.route('/about')\n",
    "def about():\n",
    "    return 'This is the about page. <a href=\"' + url_for('home') + '\">Home</a>'\n",
    "\n",
    "if __name__ == '__main__':\n",
    "    app.run(debug=True)\n"
   ]
  }
 ],
 "metadata": {
  "kernelspec": {
   "display_name": "Python 3 (ipykernel)",
   "language": "python",
   "name": "python3"
  },
  "language_info": {
   "codemirror_mode": {
    "name": "ipython",
    "version": 3
   },
   "file_extension": ".py",
   "mimetype": "text/x-python",
   "name": "python",
   "nbconvert_exporter": "python",
   "pygments_lexer": "ipython3",
   "version": "3.10.8"
  }
 },
 "nbformat": 4,
 "nbformat_minor": 5
}
