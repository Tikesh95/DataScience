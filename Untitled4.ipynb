{
 "cells": [
  {
   "cell_type": "code",
   "execution_count": null,
   "id": "e563c3f0-3792-4ab0-8e8a-30af56351a43",
   "metadata": {},
   "outputs": [],
   "source": [
    "Q1.write  a program to accept percentage from the user and display the grade according to the following criteria"
   ]
  },
  {
   "cell_type": "code",
   "execution_count": 1,
   "id": "8d2a9fff-ae10-46ee-aefd-72102b5c8615",
   "metadata": {},
   "outputs": [
    {
     "name": "stdin",
     "output_type": "stream",
     "text": [
      "Enter the percentage:  70\n"
     ]
    },
    {
     "name": "stdout",
     "output_type": "stream",
     "text": [
      "Percentage: 70.0%\n",
      "Grade: C\n"
     ]
    }
   ],
   "source": [
    "# Get percentage from the user\n",
    "percentage = float(input(\"Enter the percentage: \"))\n",
    "\n",
    "# Determine the grade based on the given criteria\n",
    "if percentage > 90:\n",
    "    grade = 'A'\n",
    "elif percentage > 80:\n",
    "    grade = 'B'\n",
    "elif percentage > 60:\n",
    "    grade = 'C'\n",
    "else:\n",
    "    grade = 'D'\n",
    "\n",
    "# Display the grade\n",
    "print(f\"Percentage: {percentage}%\")\n",
    "print(f\"Grade: {grade}\")\n"
   ]
  },
  {
   "cell_type": "code",
   "execution_count": null,
   "id": "4d208a5b-193a-4fc7-84e4-ad32d7e54ba6",
   "metadata": {},
   "outputs": [],
   "source": [
    "Q2.write a program to accept the cost price of a bike and display the road tax to  be paid according to the following criteria:"
   ]
  },
  {
   "cell_type": "code",
   "execution_count": 2,
   "id": "c18cb199-0757-4b3d-8b24-8fc4335906fe",
   "metadata": {},
   "outputs": [
    {
     "name": "stdin",
     "output_type": "stream",
     "text": [
      "Enter the cost price of the bike (in Rs):  70000\n"
     ]
    },
    {
     "name": "stdout",
     "output_type": "stream",
     "text": [
      "Cost Price: Rs. 70000.0\n",
      "Road Tax: Rs. 7000.0\n"
     ]
    }
   ],
   "source": [
    "# Get the cost price from the user\n",
    "cost_price = float(input(\"Enter the cost price of the bike (in Rs): \"))\n",
    "\n",
    "# Determine the road tax based on the given criteria\n",
    "if cost_price > 100000:\n",
    "    road_tax = 0.15 * cost_price\n",
    "elif cost_price > 50000:\n",
    "    road_tax = 0.10 * cost_price\n",
    "else:\n",
    "    road_tax = 0.05 * cost_price\n",
    "\n",
    "# Display the road tax\n",
    "print(f\"Cost Price: Rs. {cost_price}\")\n",
    "print(f\"Road Tax: Rs. {road_tax}\")\n"
   ]
  },
  {
   "cell_type": "code",
   "execution_count": null,
   "id": "dd3ab936-8390-479e-971e-0de8cda70d09",
   "metadata": {},
   "outputs": [],
   "source": [
    "Q3.accept any city from the user and display monuments of that city"
   ]
  },
  {
   "cell_type": "code",
   "execution_count": 3,
   "id": "6bb141fa-134e-475b-9abb-0d99d570526a",
   "metadata": {},
   "outputs": [
    {
     "name": "stdin",
     "output_type": "stream",
     "text": [
      "Enter the name of the city:  agra\n"
     ]
    },
    {
     "name": "stdout",
     "output_type": "stream",
     "text": [
      "City: Agra\n",
      "Monument: Taj Mahal\n"
     ]
    }
   ],
   "source": [
    "# Get the city name from the user\n",
    "city = input(\"Enter the name of the city: \")\n",
    "\n",
    "# Determine the monument based on the given criteria\n",
    "if city.lower() == \"delhi\":\n",
    "    monument = \"Red Fort\"\n",
    "elif city.lower() == \"agra\":\n",
    "    monument = \"Taj Mahal\"\n",
    "elif city.lower() == \"jaipur\":\n",
    "    monument = \"Jai Mahal\"\n",
    "else:\n",
    "    monument = \"Monument information not available for this city\"\n",
    "\n",
    "# Display the monument\n",
    "print(f\"City: {city.capitalize()}\")\n",
    "print(f\"Monument: {monument}\")\n"
   ]
  },
  {
   "cell_type": "code",
   "execution_count": null,
   "id": "e2f7656d-2b99-4365-9687-19bf57a5e586",
   "metadata": {},
   "outputs": [],
   "source": [
    "Q4.check how many times times a given number can be divided by 3 before it is less than or equal to 10."
   ]
  },
  {
   "cell_type": "code",
   "execution_count": 5,
   "id": "e5f43bb6-2644-4841-a929-6c9069c59340",
   "metadata": {},
   "outputs": [
    {
     "name": "stdin",
     "output_type": "stream",
     "text": [
      "Enter a number:  6\n"
     ]
    },
    {
     "name": "stdout",
     "output_type": "stream",
     "text": [
      "The given number can be divided by 3 0 times before it is less than or equal to 10.\n"
     ]
    }
   ],
   "source": [
    "# Get the number from the user\n",
    "number = float(input(\"Enter a number: \"))\n",
    "\n",
    "# Initialize a counter to keep track of divisions\n",
    "divisions_count = 0\n",
    "\n",
    "# Check how many times the number can be divided by 3\n",
    "while number > 10:\n",
    "    number /= 3\n",
    "    divisions_count += 1\n",
    "\n",
    "# Display the result\n",
    "print(f\"The given number can be divided by 3 {divisions_count} times before it is less than or equal to 10.\")\n"
   ]
  },
  {
   "cell_type": "code",
   "execution_count": null,
   "id": "73fc3408-cd61-40ca-9225-549bb954f2a0",
   "metadata": {},
   "outputs": [],
   "source": [
    "Q5.why and when to use while loop in python give a detailed description with example"
   ]
  },
  {
   "cell_type": "code",
   "execution_count": 6,
   "id": "26586267-9447-4fff-8e45-03a0294917b4",
   "metadata": {},
   "outputs": [
    {
     "name": "stdout",
     "output_type": "stream",
     "text": [
      "5\n",
      "4\n",
      "3\n",
      "2\n",
      "1\n"
     ]
    }
   ],
   "source": [
    "# Example: Countdown from 5 to 1\n",
    "count = 5\n",
    "while count > 0:\n",
    "    print(count)\n",
    "    count -= 1\n"
   ]
  },
  {
   "cell_type": "code",
   "execution_count": null,
   "id": "27409e25-7c2f-4d59-a880-1f8a7338b77b",
   "metadata": {},
   "outputs": [],
   "source": [
    "Q6.use nested while loop to print 3 different pattern"
   ]
  },
  {
   "cell_type": "code",
   "execution_count": 7,
   "id": "13a1eaac-12cd-42d7-be4e-4b420e4ca2c9",
   "metadata": {},
   "outputs": [
    {
     "name": "stdout",
     "output_type": "stream",
     "text": [
      "* \n",
      "* * \n",
      "* * * \n",
      "* * * * \n",
      "* * * * * \n"
     ]
    }
   ],
   "source": [
    "rows = 5\n",
    "i = 1\n",
    "\n",
    "while i <= rows:\n",
    "    j = 1\n",
    "    while j <= i:\n",
    "        print(\"*\", end=\" \")\n",
    "        j += 1\n",
    "    print()\n",
    "    i += 1\n"
   ]
  },
  {
   "cell_type": "code",
   "execution_count": 8,
   "id": "8b070c19-7c29-4c72-9439-b5841b7b4bc1",
   "metadata": {},
   "outputs": [
    {
     "name": "stdout",
     "output_type": "stream",
     "text": [
      "* * * * \n",
      "* * * * \n",
      "* * * * \n",
      "* * * * \n"
     ]
    }
   ],
   "source": [
    "rows = 4\n",
    "i = 1\n",
    "\n",
    "while i <= rows:\n",
    "    j = 1\n",
    "    while j <= rows:\n",
    "        print(\"*\", end=\" \")\n",
    "        j += 1\n",
    "    print()\n",
    "    i += 1\n"
   ]
  },
  {
   "cell_type": "code",
   "execution_count": 9,
   "id": "d4c741c9-1e4b-4710-bdff-f5899e4bf5ed",
   "metadata": {},
   "outputs": [
    {
     "name": "stdout",
     "output_type": "stream",
     "text": [
      "        * \n",
      "      * * \n",
      "    * * * \n",
      "  * * * * \n",
      "* * * * * \n"
     ]
    }
   ],
   "source": [
    "rows = 5\n",
    "i = 1\n",
    "\n",
    "while i <= rows:\n",
    "    j = 1\n",
    "    while j <= rows - i:\n",
    "        print(\" \", end=\" \")\n",
    "        j += 1\n",
    "    k = 1\n",
    "    while k <= i:\n",
    "        print(\"*\", end=\" \")\n",
    "        k += 1\n",
    "    print()\n",
    "    i += 1\n"
   ]
  },
  {
   "cell_type": "code",
   "execution_count": null,
   "id": "a193c2c4-0eba-4988-bb13-8a0d8e98ae89",
   "metadata": {},
   "outputs": [],
   "source": [
    "Q6.reverse a while loop to display numbers from 10 to 1."
   ]
  },
  {
   "cell_type": "code",
   "execution_count": 10,
   "id": "af80d96a-f953-40f0-86c1-d77b161e4281",
   "metadata": {},
   "outputs": [
    {
     "name": "stdout",
     "output_type": "stream",
     "text": [
      "10\n",
      "9\n",
      "8\n",
      "7\n",
      "6\n",
      "5\n",
      "4\n",
      "3\n",
      "2\n",
      "1\n"
     ]
    }
   ],
   "source": [
    "# Display numbers from 10 to 1 using a reversed while loop\n",
    "number = 10\n",
    "\n",
    "while number >= 1:\n",
    "    print(number)\n",
    "    number -= 1\n"
   ]
  },
  {
   "cell_type": "code",
   "execution_count": null,
   "id": "a57228bb-d081-4e92-8dbc-f84dc17b55b6",
   "metadata": {},
   "outputs": [],
   "source": [
    "Q7.reverse a while loop to display numbers from 10 to 1."
   ]
  },
  {
   "cell_type": "code",
   "execution_count": 11,
   "id": "aee542a0-6b2e-496a-bc93-fb8dbae21322",
   "metadata": {},
   "outputs": [
    {
     "name": "stdout",
     "output_type": "stream",
     "text": [
      "10\n",
      "9\n",
      "8\n",
      "7\n",
      "6\n",
      "5\n",
      "4\n",
      "3\n",
      "2\n",
      "1\n"
     ]
    }
   ],
   "source": [
    "# Display numbers from 10 to 1 using a reversed while loop\n",
    "number = 10\n",
    "\n",
    "while number >= 1:\n",
    "    print(number)\n",
    "    number -= 1\n"
   ]
  },
  {
   "cell_type": "code",
   "execution_count": null,
   "id": "411c81af-1499-49d1-9c4b-496bcafdb8ad",
   "metadata": {},
   "outputs": [],
   "source": []
  }
 ],
 "metadata": {
  "kernelspec": {
   "display_name": "Python 3 (ipykernel)",
   "language": "python",
   "name": "python3"
  },
  "language_info": {
   "codemirror_mode": {
    "name": "ipython",
    "version": 3
   },
   "file_extension": ".py",
   "mimetype": "text/x-python",
   "name": "python",
   "nbconvert_exporter": "python",
   "pygments_lexer": "ipython3",
   "version": "3.10.8"
  }
 },
 "nbformat": 4,
 "nbformat_minor": 5
}
