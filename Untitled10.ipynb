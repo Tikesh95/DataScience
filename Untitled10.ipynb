{
 "cells": [
  {
   "cell_type": "code",
   "execution_count": null,
   "id": "6425d42c-1e25-4596-a306-6cfd39373645",
   "metadata": {},
   "outputs": [],
   "source": [
    "Q1.what is an exception in python? write the difference between exceptions and syntax errors"
   ]
  },
  {
   "cell_type": "code",
   "execution_count": null,
   "id": "1feef437-95d3-43bc-8e87-282b39dd8d77",
   "metadata": {},
   "outputs": [],
   "source": [
    "an exception is an event that occurs during the execution of a program that disrupts the normal flow of instructions. When an exceptional situation arises, an object representing that exception is raised, and the normal flow of the program is interrupted to handle the exception. Exception handling in Python allows you to gracefully manage and recover from unexpected situations."
   ]
  },
  {
   "cell_type": "code",
   "execution_count": null,
   "id": "4b73706e-566e-4484-b87d-fa1819514481",
   "metadata": {},
   "outputs": [],
   "source": [
    "Difference between Exceptions and Syntax Errors:\n",
    "Syntax Errors:\n",
    "\n",
    "Nature: Syntax errors are errors in the structure of the code and occur during the parsing phase (before the program is executed).\n",
    "Cause: These errors are caused by violating the rules of the Python language grammar.\n",
    "Example: Missing colons, unmatched parentheses, incorrect indentation, etc.\n",
    "Handling: Syntax errors need to be fixed before the program can run. They are detected by the Python interpreter during the compilation or interpretation process."
   ]
  },
  {
   "cell_type": "code",
   "execution_count": null,
   "id": "4583459b-5ca7-4c54-8d82-39b8039e2f83",
   "metadata": {},
   "outputs": [],
   "source": [
    "Exceptions:\n",
    "\n",
    "Nature: Exceptions are runtime errors that occur during the execution of a program.\n",
    "Cause: These errors can be caused by various reasons, such as division by zero, accessing an index that is out of range, trying to open a non-existent file, etc.\n",
    "Example: ZeroDivisionError, IndexError, FileNotFoundError, etc.\n",
    "Handling: Exceptions can be caught and handled using try, except, finally, and else blocks. This allows the program to continue running even if an exception occurs."
   ]
  },
  {
   "cell_type": "code",
   "execution_count": null,
   "id": "0a09cbcb-155b-4b24-84b3-eef213eee1ad",
   "metadata": {},
   "outputs": [],
   "source": [
    "Q2.what happens when an exception is not handled? explain with an example."
   ]
  },
  {
   "cell_type": "code",
   "execution_count": null,
   "id": "2451fcbf-9389-4248-88e0-3cd3e12bfecd",
   "metadata": {},
   "outputs": [],
   "source": [
    "When an exception is not handled in Python, it leads to the termination of the program and an error message indicating the unhandled exception is displayed. The program execution stops, and any code following the point where the exception occurred is not executed."
   ]
  },
  {
   "cell_type": "code",
   "execution_count": 1,
   "id": "265774aa-6295-472e-a454-df230aabb834",
   "metadata": {},
   "outputs": [
    {
     "name": "stdout",
     "output_type": "stream",
     "text": [
      "Error: division by zero\n"
     ]
    }
   ],
   "source": [
    "try:\n",
    "    result = 10 / 0  # Division by zero\n",
    "except ZeroDivisionError as e:\n",
    "    print(f\"Error: {e}\")\n"
   ]
  },
  {
   "cell_type": "code",
   "execution_count": null,
   "id": "4f66c7af-d5c2-45a5-b46b-63bfeb164ac6",
   "metadata": {},
   "outputs": [],
   "source": [
    "Traceback (most recent call last):\n",
    "  File \"example.py\", line 2, in <module>\n",
    "    result = 10 / 0  # Division by zero\n",
    "ZeroDivisionError: division by zero\n"
   ]
  },
  {
   "cell_type": "code",
   "execution_count": null,
   "id": "bc19244e-9c80-4f5d-b01f-1ce3bb65c987",
   "metadata": {},
   "outputs": [],
   "source": [
    "Q3.which python statements are used to catch and handle exceptions?explain with an example."
   ]
  },
  {
   "cell_type": "code",
   "execution_count": null,
   "id": "3af89bdb-f32a-457a-a7fe-a1f4695d9024",
   "metadata": {},
   "outputs": [],
   "source": [
    "1.try statement: The try block encloses the code that might raise an exception. If an exception occurs within the try block, it is caught and handled by the corresponding except block.\n",
    "\n",
    "2.except statement: The except block specifies the type of exception to catch and how to handle it. Multiple except blocks can be used to catch different types of exceptions.\n",
    "\n",
    "3.finally statement: The finally block contains code that will be executed regardless of whether an exception is raised or not. It is often used for cleanup operations.\n",
    "\n",
    "4.else statement (optional): The else block is executed if no exception occurs in the try block. It is commonly used for code that should run only when no exceptions are raised."
   ]
  },
  {
   "cell_type": "code",
   "execution_count": null,
   "id": "009479ca-1a30-47fa-9568-5690d2780d0a",
   "metadata": {},
   "outputs": [],
   "source": [
    "try:\n",
    "    # Code that might raise an exception\n",
    "    numerator = int(input(\"Enter the numerator: \"))\n",
    "    denominator = int(input(\"Enter the denominator: \"))\n",
    "    result = numerator / denominator\n",
    "\n",
    "except ValueError:\n",
    "    # Handle the case where the user enters a non-integer value\n",
    "    print(\"Please enter valid integers.\")\n",
    "\n",
    "except ZeroDivisionError:\n",
    "    # Handle the case where the denominator is zero\n",
    "    print(\"Cannot divide by zero. Please enter a non-zero denominator.\")\n",
    "\n",
    "else:\n",
    "    # Code to run if no exception occurs\n",
    "    print(f\"The result of {numerator} / {denominator} is: {result}\")\n",
    "\n",
    "finally:\n",
    "    # Code to run regardless of whether an exception occurred or not\n",
    "    print(\"Execution complete.\")\n",
    "\n",
    "# Code outside the try-except-finally block continues normally\n",
    "print(\"Program continues...\")\n"
   ]
  },
  {
   "cell_type": "code",
   "execution_count": null,
   "id": "0ec3ce28-4c67-4730-bb6e-eae263926298",
   "metadata": {},
   "outputs": [],
   "source": [
    "Q4.explain with an example:\n",
    "a.try and esle\n",
    "b.finally\n",
    "c.raise"
   ]
  },
  {
   "cell_type": "code",
   "execution_count": null,
   "id": "2956e010-9c42-4e8c-8df9-d25803846822",
   "metadata": {},
   "outputs": [],
   "source": [
    "a.try and esle - the try block contains code that may raise a ZeroDivisionError. If such an exception occurs, the control will move to the except block, where you can handle the exception. If no exception occurs, the control moves to the else block, and you can execute code that should run only if the try block executes without any exceptions."
   ]
  },
  {
   "cell_type": "code",
   "execution_count": 1,
   "id": "95cf14e9-d3b5-45c5-a327-37d79efe08c8",
   "metadata": {},
   "outputs": [
    {
     "name": "stdout",
     "output_type": "stream",
     "text": [
      "Error: Division by zero occurred!\n"
     ]
    }
   ],
   "source": [
    "try:\n",
    "    # Code that may raise an exception\n",
    "    result = 10 / 0\n",
    "except ZeroDivisionError:\n",
    "    # Code to handle the exception\n",
    "    print(\"Error: Division by zero occurred!\")\n",
    "else:\n",
    "    # Code to execute if no exception occurred\n",
    "    print(\"The division was successful. Result:\", result)\n"
   ]
  },
  {
   "cell_type": "code",
   "execution_count": null,
   "id": "a9f1e3b8-e223-4230-ba7d-cae863d2a5e0",
   "metadata": {},
   "outputs": [],
   "source": [
    "b.finally -  the finally block contains code that will always be executed, regardless of whether an exception occurred in the try block or not. It's useful for cleanup operations or actions that must be performed no matter what"
   ]
  },
  {
   "cell_type": "code",
   "execution_count": 2,
   "id": "f2e24f0f-bbcb-419a-942f-9824597f5642",
   "metadata": {},
   "outputs": [
    {
     "name": "stdout",
     "output_type": "stream",
     "text": [
      "Value should be non-negative.\n"
     ]
    }
   ],
   "source": [
    "def example_function(value):\n",
    "    if value < 0:\n",
    "        raise ValueError(\"Value should be non-negative.\")\n",
    "    else:\n",
    "        print(\"Value is valid.\")\n",
    "\n",
    "try:\n",
    "    example_function(-5)\n",
    "except ValueError as ve:\n",
    "    print(ve)\n"
   ]
  },
  {
   "cell_type": "code",
   "execution_count": null,
   "id": "3d741ffa-3b79-4ee2-8c0a-fedf448509cb",
   "metadata": {},
   "outputs": [],
   "source": [
    "c.Raise - he raise keyword is used to raise a ValueError if the input to the example_function is negative. The exception is then caught in the except block, and you can handle it accordingly."
   ]
  },
  {
   "cell_type": "code",
   "execution_count": 3,
   "id": "b9143d1b-1af7-4412-b5bb-eb600a6d5044",
   "metadata": {},
   "outputs": [
    {
     "name": "stdout",
     "output_type": "stream",
     "text": [
      "Value should be non-negative.\n"
     ]
    }
   ],
   "source": [
    "def example_function(value):\n",
    "    if value < 0:\n",
    "        raise ValueError(\"Value should be non-negative.\")\n",
    "    else:\n",
    "        print(\"Value is valid.\")\n",
    "\n",
    "try:\n",
    "    example_function(-5)\n",
    "except ValueError as ve:\n",
    "    print(ve)\n"
   ]
  },
  {
   "cell_type": "code",
   "execution_count": null,
   "id": "aa280204-1752-41a2-9dae-3580adbd5631",
   "metadata": {},
   "outputs": [],
   "source": [
    "Q5.what are custom exceptions in python? why do we need custom exceptions?explain with an example."
   ]
  },
  {
   "cell_type": "code",
   "execution_count": null,
   "id": "474fdde1-eb5f-47d9-ac2d-b9227a521039",
   "metadata": {},
   "outputs": [],
   "source": [
    "In Python, custom exceptions are user-defined exception classes that inherit from the built-in Exception class. Creating custom exceptions allows you to define specific types of errors that are meaningful in the context of your application. This can make your code more readable, maintainable, and can help you handle different types of errors more effectively."
   ]
  },
  {
   "cell_type": "code",
   "execution_count": 4,
   "id": "0b6b1462-e1fe-4a0a-9cd2-b4dadf8ffc68",
   "metadata": {},
   "outputs": [
    {
     "name": "stdout",
     "output_type": "stream",
     "text": [
      "Error: Insufficient funds. Available balance: 1000, but attempted to withdraw: 1500\n"
     ]
    }
   ],
   "source": [
    "class InsufficientFundsError(Exception):\n",
    "    def __init__(self, amount, balance):\n",
    "        self.amount = amount\n",
    "        self.balance = balance\n",
    "        super().__init__(f\"Insufficient funds. Available balance: {balance}, but attempted to withdraw: {amount}\")\n",
    "\n",
    "class BankAccount:\n",
    "    def __init__(self, balance):\n",
    "        self.balance = balance\n",
    "\n",
    "    def withdraw(self, amount):\n",
    "        if amount > self.balance:\n",
    "            raise InsufficientFundsError(amount, self.balance)\n",
    "        else:\n",
    "            self.balance -= amount\n",
    "            print(f\"Withdrawal successful. Remaining balance: {self.balance}\")\n",
    "\n",
    "# Example usage:\n",
    "account = BankAccount(1000)\n",
    "\n",
    "try:\n",
    "    account.withdraw(1500)\n",
    "except InsufficientFundsError as e:\n",
    "    print(f\"Error: {e}\")\n"
   ]
  },
  {
   "cell_type": "code",
   "execution_count": null,
   "id": "f224a1e0-17c9-4d3d-a62f-d7f71d2c599a",
   "metadata": {},
   "outputs": [],
   "source": [
    "Q6.create a custom exception class.use this class to handle an exception."
   ]
  },
  {
   "cell_type": "code",
   "execution_count": null,
   "id": "0b9ba4b3-ea98-4dfb-a868-5baeaaae5a5c",
   "metadata": {},
   "outputs": [],
   "source": [
    "class InvalidInputError(Exception):\n",
    "    def __init__(self, input_value):\n",
    "        self.input_value = input_value\n",
    "        super().__init__(f\"Invalid input: {input_value}. Please provide a valid input.\")\n",
    "\n",
    "def process_input(input_value):\n",
    "    if not isinstance(input_value, int):\n",
    "        raise InvalidInputError(input_value)\n",
    "    else:\n",
    "        print(f\"Input processing successful. Value: {input_value}\")\n",
    "\n",
    "# Example usage:\n",
    "try:\n",
    "    user_input = \"abc\"\n",
    "    process_input(user_input)\n",
    "except InvalidInputError as e:\n",
    "    print(f\"Error: {e}\")\n"
   ]
  }
 ],
 "metadata": {
  "kernelspec": {
   "display_name": "Python 3 (ipykernel)",
   "language": "python",
   "name": "python3"
  },
  "language_info": {
   "codemirror_mode": {
    "name": "ipython",
    "version": 3
   },
   "file_extension": ".py",
   "mimetype": "text/x-python",
   "name": "python",
   "nbconvert_exporter": "python",
   "pygments_lexer": "ipython3",
   "version": "3.10.8"
  }
 },
 "nbformat": 4,
 "nbformat_minor": 5
}
