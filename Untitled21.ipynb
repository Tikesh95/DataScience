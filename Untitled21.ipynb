{
 "cells": [
  {
   "cell_type": "code",
   "execution_count": null,
   "id": "ff69358b-8056-473a-80d9-996cfd272ade",
   "metadata": {},
   "outputs": [],
   "source": [
    "Q1. Write a code to print the data present in the second row of the dataframe, df."
   ]
  },
  {
   "cell_type": "code",
   "execution_count": null,
   "id": "ae6cada1-c5d8-426e-871d-e76233a9ca50",
   "metadata": {},
   "outputs": [],
   "source": [
    "import pandas as pd\n",
    "\n",
    "course_name = ['Data Science', 'Machine Learning', 'Big Data', 'Data Engineer']\n",
    "duration = [2, 3, 6, 4]\n",
    "\n",
    "df = pd.DataFrame(data={'course_name': course_name, 'duration': duration})\n",
    "\n",
    "# Print data in the second row\n",
    "second_row_data = df.iloc[1]\n",
    "print(second_row_data)\n"
   ]
  },
  {
   "cell_type": "code",
   "execution_count": null,
   "id": "300aba09-4ce6-4e01-9db8-c3a816d5de33",
   "metadata": {},
   "outputs": [],
   "source": [
    "Q2. What is the difference between the functions loc and iloc in pandas.DataFrame?"
   ]
  },
  {
   "cell_type": "code",
   "execution_count": null,
   "id": "fe78d70f-b28d-4186-93c7-cf17dc89e710",
   "metadata": {},
   "outputs": [],
   "source": [
    "loc (Label-based Indexing):\n",
    "\n",
    "loc is primarily label-based indexing. It is used for selection by label or a boolean array.\n",
    "It is based on the names or labels of the rows and columns. You use the actual row and column names to select data.\n",
    "The syntax is df.loc[row_label, column_label]"
   ]
  },
  {
   "cell_type": "code",
   "execution_count": null,
   "id": "71b1b566-71f1-4f8c-818b-6ecb7e41d546",
   "metadata": {},
   "outputs": [],
   "source": [
    "loc (Integer-based Indexing):\n",
    "\n",
    "iloc is primarily integer position-based indexing. It is used for selection by position or a boolean array.\n",
    "It is based on the integer positions of the rows and columns. You use integer indices to select data.\n",
    "The syntax is df.iloc[row_index, column_index]"
   ]
  },
  {
   "cell_type": "code",
   "execution_count": null,
   "id": "01d93961-300f-440d-94f8-267f4ba1d738",
   "metadata": {},
   "outputs": [],
   "source": [
    "Q3. Reindex the given dataframe using a variable, reindex = [3,0,1,2] and store it in the variable, new_df\n",
    "then find the output for both new_df.loc[2] and new_df.iloc[2]."
   ]
  },
  {
   "cell_type": "code",
   "execution_count": null,
   "id": "bb5a7749-4c4f-414e-9a78-260ebc02e316",
   "metadata": {},
   "outputs": [],
   "source": [
    "import pandas as pd\n",
    "import numpy as np\n",
    "\n",
    "# Given DataFrame\n",
    "columns = ['column_1', 'column_2', 'column_3', 'column_4', 'column_5', 'column_6']\n",
    "indices = [1, 2, 3, 4, 5, 6]\n",
    "\n",
    "# Creating a DataFrame\n",
    "df1 = pd.DataFrame(np.random.rand(6, 6), columns=columns, index=indices)\n",
    "\n",
    "# Reindexing df1 using a variable\n",
    "reindex_order = [3, 0, 1, 2]\n",
    "new_df = df1.reindex(reindex_order)\n",
    "\n",
    "# Output for new_df.loc[2]\n",
    "print(\"Using loc:\")\n",
    "print(new_df.loc[2])\n",
    "# Output for new_df.iloc[2]\n",
    "print(\"\\nUsing iloc:\")\n",
    "print(new_df.iloc[2])\n"
   ]
  },
  {
   "cell_type": "code",
   "execution_count": null,
   "id": "8da85c1b-3636-4d71-b339-b6d8167c6c03",
   "metadata": {},
   "outputs": [],
   "source": [
    "Now, let's discuss the observed differences:\n",
    "\n",
    "new_df.loc[2]:\n",
    "\n",
    "With label-based indexing (loc), the row is selected based on the label (index) 2 in the DataFrame.\n",
    "The label 2 in the reindexed DataFrame corresponds to the row with the label 3 in the original DataFrame.\n",
    "new_df.iloc[2]:\n",
    "\n",
    "With integer-based indexing (iloc), the row is selected based on the integer position 2 in the DataFrame.\n",
    "The integer position 2 in the reindexed DataFrame corresponds to the third row after reindexing, which is the row with the label 1 in the original DataFrame.\n",
    "In summary, the main difference is in the interpretation of the index:\n",
    "\n",
    "loc uses the label directly.\n",
    "iloc uses the integer position, which might differ if the DataFrame has been reindexed."
   ]
  },
  {
   "cell_type": "code",
   "execution_count": null,
   "id": "c5fdbbca-52b4-45d5-8b16-bbd488de9abe",
   "metadata": {},
   "outputs": [],
   "source": [
    "Q4. Write a code to find the following statistical measurements for the above dataframe df1:\n",
    "(i) mean of each and every column present in the dataframe.\n",
    "(ii) standard deviation of column, ‘column_2’"
   ]
  },
  {
   "cell_type": "code",
   "execution_count": null,
   "id": "4dd40f16-3043-41c5-8acb-424ffa955160",
   "metadata": {},
   "outputs": [],
   "source": [
    "import pandas as pd\n",
    "import numpy as np\n",
    "\n",
    "# Given DataFrame\n",
    "columns = ['column_1', 'column_2', 'column_3', 'column_4', 'column_5', 'column_6']\n",
    "indices = [1, 2, 3, 4, 5, 6]\n",
    "\n",
    "# Creating a DataFrame\n",
    "df1 = pd.DataFrame(np.random.rand(6, 6), columns=columns, index=indices)\n",
    "\n",
    "# (i) Mean of each column\n",
    "column_means = df1.mean()\n",
    "print(\"Mean of each column:\")\n",
    "print(column_means)\n",
    "\n",
    "# (ii) Standard deviation of column 'column_2'\n",
    "std_dev_column_2 = df1['column_2'].std()\n",
    "print(\"\\nStandard deviation of column 'column_2':\")\n",
    "print(std_dev_column_2)\n"
   ]
  },
  {
   "cell_type": "code",
   "execution_count": null,
   "id": "2ecd2bcd-e7a6-4c5f-966c-f62ac002f9be",
   "metadata": {},
   "outputs": [],
   "source": [
    "Q5. Replace the data present in the second row of column, ‘column_2’ by a string variable then find the\n",
    "mean of column, column_2.\n",
    "If you are getting errors in executing it then explain why.\n",
    "[Hint: To replace the data use df1.loc[] and equate this to string data of your choice.]"
   ]
  },
  {
   "cell_type": "code",
   "execution_count": null,
   "id": "d5264d59-5a0e-4273-afa1-32e9cc6235f4",
   "metadata": {},
   "outputs": [],
   "source": [
    "import pandas as pd\n",
    "import numpy as np\n",
    "\n",
    "# Given DataFrame\n",
    "columns = ['column_1', 'column_2', 'column_3', 'column_4', 'column_5', 'column_6']\n",
    "indices = [1, 2, 3, 4, 5, 6]\n",
    "\n",
    "# Creating a DataFrame\n",
    "df1 = pd.DataFrame(np.random.rand(6, 6), columns=columns, index=indices)\n",
    "\n",
    "# Replace the data in the second row of 'column_2' with a string variable\n",
    "replacement_string = 'NewData'\n",
    "df1.loc[2, 'column_2'] = replacement_string\n",
    "\n",
    "# Find the mean of 'column_2'\n",
    "mean_column_2 = df1['column_2'].mean()\n",
    "\n",
    "# Displaying the DataFrame and mean\n",
    "print(\"DataFrame after replacement:\")\n",
    "print(df1)\n",
    "print(\"\\nMean of 'column_2' after replacement:\", mean_column_2)\n"
   ]
  },
  {
   "cell_type": "code",
   "execution_count": null,
   "id": "a11f4304-823d-4141-86d8-882d7f696354",
   "metadata": {},
   "outputs": [],
   "source": [
    "Q6. What do you understand about the windows function in pandas and list the types of windows\n",
    "functions?"
   ]
  },
  {
   "cell_type": "code",
   "execution_count": null,
   "id": "122a4746-4ca9-4309-bd84-81ef62ad2be9",
   "metadata": {},
   "outputs": [],
   "source": [
    "1.rolling() Function:\n",
    "\n",
    "The rolling() function is used to create a Rolling object for a DataFrame or Series.\n",
    "It allows you to perform calculations on a defined window of consecutive data points.\n",
    "Common window functions applied using rolling() include mean, sum, min, max, etc.\n",
    "2.expanding() Function:\n",
    "\n",
    "The expanding() function is used to create an Expanding object for a DataFrame or Series.\n",
    "It includes all data points from the start of the series up to the current point, gradually expanding the window.\n",
    "Common window functions applied using expanding() include cumulative sum, cumulative mean, etc.\n",
    "3.Types of Window Functions:\n",
    "\n",
    "Rolling Window Functions:\n",
    "\n",
    "Mean: rolling().mean()\n",
    "Sum: rolling().sum()\n",
    "Minimum: rolling().min()\n",
    "Maximum: rolling().max()\n",
    "Standard Deviation: rolling().std()\n",
    "Expanding Window Functions:\n",
    "\n",
    "Cumulative Sum: expanding().sum()\n",
    "Cumulative Mean: expanding().mean()\n",
    "Cumulative Minimum: expanding().min()\n",
    "Cumulative Maximum: expanding().max()\n",
    "Cumulative Standard Deviation: expanding().std()"
   ]
  },
  {
   "cell_type": "code",
   "execution_count": null,
   "id": "618470c9-36ba-4f8f-93a4-5b9806265827",
   "metadata": {},
   "outputs": [],
   "source": [
    "Q7. Write a code to print only the current month and year at the time of answering this question.\n",
    "[Hint: Use pandas.datetime function]"
   ]
  },
  {
   "cell_type": "code",
   "execution_count": null,
   "id": "8b34e8d8-198f-4c61-bc2d-639dea40f190",
   "metadata": {},
   "outputs": [],
   "source": [
    "import pandas as pd\n",
    "\n",
    "# Get the current timestamp\n",
    "current_timestamp = pd.Timestamp.now()\n",
    "\n",
    "# Extract and print the current month and year\n",
    "current_month = current_timestamp.month\n",
    "current_year = current_timestamp.year\n",
    "\n",
    "print(\"Current Month:\", current_month)\n",
    "print(\"Current Year:\", current_year)\n"
   ]
  },
  {
   "cell_type": "code",
   "execution_count": null,
   "id": "b8cb279c-9347-470e-b548-d5784ec1e39d",
   "metadata": {},
   "outputs": [],
   "source": [
    "Q8. Write a Python program that takes in two dates as input (in the format YYYY-MM-DD) and\n",
    "calculates the difference between them in days, hours, and minutes using Pandas time delta. The\n",
    "program should prompt the user to enter the dates and display the result."
   ]
  },
  {
   "cell_type": "code",
   "execution_count": null,
   "id": "b6cbc14b-0194-423b-8300-95c42a05df7f",
   "metadata": {},
   "outputs": [],
   "source": [
    "import pandas as pd\n",
    "\n",
    "# Function to calculate the time difference\n",
    "def calculate_time_difference(start_date, end_date):\n",
    "    # Convert input dates to pandas datetime objects\n",
    "    start_datetime = pd.to_datetime(start_date)\n",
    "    end_datetime = pd.to_datetime(end_date)\n",
    "\n",
    "    # Calculate time difference\n",
    "    time_difference = end_datetime - start_datetime\n",
    "\n",
    "    # Extract days, hours, and minutes\n",
    "    days = time_difference.days\n",
    "    hours, remainder = divmod(time_difference.seconds, 3600)\n",
    "    minutes, _ = divmod(remainder, 60)\n",
    "\n",
    "    return days, hours, minutes\n",
    "\n",
    "# Get user input for two dates\n",
    "start_date = input(\"Enter the start date (YYYY-MM-DD): \")\n",
    "end_date = input(\"Enter the end date (YYYY-MM-DD): \")\n",
    "\n",
    "# Calculate time difference\n",
    "days, hours, minutes = calculate_time_difference(start_date, end_date)\n",
    "\n",
    "# Display the result\n",
    "print(f\"\\nTime difference between {start_date} and {end_date}:\")\n",
    "print(f\"Days: {days}, Hours: {hours}, Minutes: {minutes}\")\n"
   ]
  },
  {
   "cell_type": "code",
   "execution_count": null,
   "id": "be3abb6c-e877-4934-a867-4d5fdd21e64d",
   "metadata": {},
   "outputs": [],
   "source": [
    "Q9. Write a Python program that reads a CSV file containing categorical data and converts a specified\n",
    "column to a categorical data type. The program should prompt the user to enter the file path, column\n",
    "name, and category order, and then display the sorted data."
   ]
  },
  {
   "cell_type": "code",
   "execution_count": null,
   "id": "63d5cee0-f091-4198-a718-f07b15ce92e3",
   "metadata": {},
   "outputs": [],
   "source": [
    "import pandas as pd\n",
    "\n",
    "# Function to convert specified column to categorical and display sorted data\n",
    "def convert_and_display_categorical(file_path, column_name, category_order):\n",
    "    # Read the CSV file into a DataFrame\n",
    "    df = pd.read_csv(file_path)\n",
    "\n",
    "    # Convert the specified column to categorical with the provided order\n",
    "    df[column_name] = pd.Categorical(df[column_name], categories=category_order, ordered=True)\n",
    "\n",
    "    # Display the sorted data\n",
    "    sorted_data = df.sort_values(column_name)\n",
    "    print(\"\\nSorted Data:\")\n",
    "    print(sorted_data)\n",
    "\n",
    "# Get user input for file path, column name, and category order\n",
    "file_path = input(\"Enter the CSV file path: \")\n",
    "column_name = input(\"Enter the column name to convert to categorical: \")\n",
    "category_order = input(\"Enter the category order (comma-separated): \").split(',')\n",
    "\n",
    "# Convert and display categorical data\n",
    "convert_and_display_categorical(file_path, column_name, category_order)\n"
   ]
  },
  {
   "cell_type": "code",
   "execution_count": null,
   "id": "6410d11f-412e-4b76-8b6f-254d0f5fb106",
   "metadata": {},
   "outputs": [],
   "source": [
    "Q10. Write a Python program that reads a CSV file containing sales data for different products and\n",
    "visualizes the data using a stacked bar chart to show the sales of each product category over time. The\n",
    "program should prompt the user to enter the file path and display the chart."
   ]
  },
  {
   "cell_type": "code",
   "execution_count": null,
   "id": "e1111193-bab4-491d-9385-79fd78c1ec41",
   "metadata": {},
   "outputs": [],
   "source": [
    "import pandas as pd\n",
    "import matplotlib.pyplot as plt\n",
    "\n",
    "# Function to read CSV file and visualize sales data using a stacked bar chart\n",
    "def visualize_sales_data(file_path):\n",
    "    # Read the CSV file into a DataFrame\n",
    "    df = pd.read_csv(file_path)\n",
    "\n",
    "    # Assuming the DataFrame has columns: 'Date', 'Category', 'Sales'\n",
    "    \n",
    "    # Convert the 'Date' column to datetime\n",
    "    df['Date'] = pd.to_datetime(df['Date'])\n",
    "\n",
    "    # Pivot the DataFrame to have 'Date' as index, 'Category' as columns, and 'Sales' as values\n",
    "    pivot_df = df.pivot(index='Date', columns='Category', values='Sales')\n",
    "\n",
    "    # Plotting a stacked bar chart\n",
    "    pivot_df.plot(kind='bar', stacked=True, figsize=(10, 6))\n",
    "    \n",
    "    # Adding labels and title\n",
    "    plt.xlabel('Date')\n",
    "    plt.ylabel('Sales')\n",
    "    plt.title('Stacked Bar Chart of Sales Data Over Time')\n",
    "    \n",
    "    # Display the chart\n",
    "    plt.show()\n",
    "\n",
    "# Get user input for the CSV file path\n",
    "file_path = input(\"Enter the CSV file path containing sales data: \")\n",
    "\n",
    "# Visualize sales data using a stacked bar chart\n",
    "visualize_sales_data(file_path)\n"
   ]
  },
  {
   "cell_type": "code",
   "execution_count": null,
   "id": "da29fe15-6d98-47db-9fa9-af9708d39ce9",
   "metadata": {},
   "outputs": [],
   "source": [
    "Q11. You are given a CSV file containing student data that includes the student ID and their test score. Write\n",
    "a Python program that reads the CSV file, calculates the mean, median, and mode of the test scores, and\n",
    "displays the results in a table."
   ]
  },
  {
   "cell_type": "code",
   "execution_count": null,
   "id": "63ea1263-2ccf-4307-a253-612dece8aec7",
   "metadata": {},
   "outputs": [],
   "source": [
    "import pandas as pd\n",
    "\n",
    "# Function to calculate mean, median, and mode of test scores and display the results\n",
    "def calculate_and_display_statistics(file_path):\n",
    "    # Read the CSV file into a DataFrame\n",
    "    df = pd.read_csv(file_path)\n",
    "\n",
    "    # Calculate mean, median, and mode\n",
    "    mean_score = df['Test Score'].mean()\n",
    "    median_score = df['Test Score'].median()\n",
    "    mode_scores = df['Test Score'].mode()\n",
    "\n",
    "    # Display the results in a table\n",
    "    results_table = pd.DataFrame({\n",
    "        'Statistic': ['Mean', 'Median', 'Mode'],\n",
    "        'Value': [mean_score, median_score, ', '.join(map(str, mode_scores))]\n",
    "    })\n",
    "\n",
    "    print(\"\\nResults Table:\")\n",
    "    print(results_table.to_markdown(index=False))\n",
    "\n",
    "# Get user input for the CSV file path\n",
    "file_path = input(\"Enter the file path of the CSV file containing the student data: \")\n",
    "\n",
    "# Calculate and display statistics\n",
    "calculate_and_display_statistics(file_path)\n"
   ]
  }
 ],
 "metadata": {
  "kernelspec": {
   "display_name": "Python 3 (ipykernel)",
   "language": "python",
   "name": "python3"
  },
  "language_info": {
   "codemirror_mode": {
    "name": "ipython",
    "version": 3
   },
   "file_extension": ".py",
   "mimetype": "text/x-python",
   "name": "python",
   "nbconvert_exporter": "python",
   "pygments_lexer": "ipython3",
   "version": "3.10.8"
  }
 },
 "nbformat": 4,
 "nbformat_minor": 5
}
