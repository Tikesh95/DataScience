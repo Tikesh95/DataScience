{
 "cells": [
  {
   "cell_type": "code",
   "execution_count": null,
   "id": "63cae3f3-102d-4953-9f9d-bdde485ecbcf",
   "metadata": {},
   "outputs": [],
   "source": [
    "Q1. Create a Pandas Series that contains the following data: 4, 8, 15, 16, 23, and 42. Then, print the series."
   ]
  },
  {
   "cell_type": "code",
   "execution_count": null,
   "id": "49b67dc7-5e0d-4efb-a158-f3d2b64dea50",
   "metadata": {},
   "outputs": [],
   "source": [
    "import pandas as pd\n",
    "\n",
    "# Creating a Pandas Series\n",
    "data = [4, 8, 15, 16, 23, 42]\n",
    "my_series = pd.Series(data)\n",
    "\n",
    "# Printing the Series\n",
    "print(my_series)\n"
   ]
  },
  {
   "cell_type": "code",
   "execution_count": null,
   "id": "bd9ce459-edd2-462d-bb0a-77edb6be21a5",
   "metadata": {},
   "outputs": [],
   "source": [
    "Q2. Create a variable of list type containing 10 elements in it, and apply pandas.Series function on the\n",
    "variable print it."
   ]
  },
  {
   "cell_type": "code",
   "execution_count": null,
   "id": "a9534068-d7a1-4e91-97eb-e1b2eb95cf4f",
   "metadata": {},
   "outputs": [],
   "source": [
    "import pandas as pd\n",
    "\n",
    "# Creating a list with 10 elements\n",
    "my_list = [1, 2, 3, 4, 5, 6, 7, 8, 9, 10]\n",
    "\n",
    "# Creating a Pandas Series from the list\n",
    "my_series = pd.Series(my_list)\n",
    "\n",
    "# Printing the Series\n",
    "print(my_series)\n"
   ]
  },
  {
   "cell_type": "code",
   "execution_count": null,
   "id": "2d6c05e8-5dc9-48ff-b9b7-9c370227fc69",
   "metadata": {},
   "outputs": [],
   "source": [
    "Q3. Create a Pandas DataFrame that contains the following data:"
   ]
  },
  {
   "cell_type": "code",
   "execution_count": null,
   "id": "3145ecac-24af-4bf8-8a88-2986c11bf279",
   "metadata": {},
   "outputs": [],
   "source": [
    "import pandas as pd\n",
    "\n",
    "# Creating a list of dictionaries\n",
    "data = [\n",
    "    {\"Name\": \"Alice\", \"Age\": 25, \"Gender\": \"female\"},\n",
    "    {\"Name\": \"Bob\", \"Age\": 30, \"Gender\": \"male\"},\n",
    "    {\"Name\": \"Claire\", \"Age\": 27, \"Gender\": \"female\"}\n",
    "]\n",
    "\n",
    "# Creating a Pandas DataFrame from the list of dictionaries\n",
    "df = pd.DataFrame(data)\n",
    "\n",
    "# Printing the DataFrame\n",
    "print(df)\n"
   ]
  },
  {
   "cell_type": "code",
   "execution_count": null,
   "id": "5ddb3312-a997-470b-9b6c-939cc9d37a66",
   "metadata": {},
   "outputs": [],
   "source": [
    "Q4. What is ‘DataFrame’ in pandas and how is it different from pandas.series? Explain with an example."
   ]
  },
  {
   "cell_type": "code",
   "execution_count": null,
   "id": "89ee1c40-e757-4fce-95fa-3b6875a380fd",
   "metadata": {},
   "outputs": [],
   "source": [
    "In Pandas, a DataFrame is a two-dimensional, tabular data structure that is widely used for data manipulation and analysis. It can be thought of as a container for Series objects where each column of the DataFrame is a Series. A DataFrame allows you to store and manipulate heterogeneous types of data, making it a powerful tool for handling structured data.\n",
    "\n",
    "On the other hand, a Pandas Series is a one-dimensional labeled array. It can hold any data type and is similar to a column in a DataFrame. A DataFrame is essentially a collection of Series objects, where each Series represents a column in the DataFrame."
   ]
  },
  {
   "cell_type": "code",
   "execution_count": null,
   "id": "2d004162-0327-4be6-8bc0-77714e203787",
   "metadata": {},
   "outputs": [],
   "source": [
    "import pandas as pd\n",
    "\n",
    "# Creating a Pandas Series\n",
    "series_data = pd.Series([1, 2, 3, 4], name='Numbers')\n",
    "\n",
    "# Creating a Pandas DataFrame\n",
    "data = {'Name': ['Alice', 'Bob', 'Claire'],\n",
    "        'Age': [25, 30, 27],\n",
    "        'Gender': ['female', 'male', 'female']}\n",
    "df = pd.DataFrame(data)\n",
    "\n",
    "# Printing the Series and DataFrame\n",
    "print(\"Pandas Series:\")\n",
    "print(series_data)\n",
    "print(\"\\n\")\n",
    "\n",
    "print(\"Pandas DataFrame:\")\n",
    "print(df)\n"
   ]
  },
  {
   "cell_type": "code",
   "execution_count": null,
   "id": "b2292906-7e58-4991-a392-228e51238cd1",
   "metadata": {},
   "outputs": [],
   "source": [
    "Q5. What are some common functions you can use to manipulate data in a Pandas DataFrame? Can\n",
    "you give an example of when you might use one of these functions?"
   ]
  },
  {
   "cell_type": "code",
   "execution_count": null,
   "id": "6d7e55cb-1433-4670-b433-556a1ca8847d",
   "metadata": {},
   "outputs": [],
   "source": [
    "\n",
    "Pandas provides a rich set of functions for manipulating data in a DataFrame. Some common functions include:"
   ]
  },
  {
   "cell_type": "code",
   "execution_count": null,
   "id": "d58ad895-8c52-4cad-adf4-e02404e1cfb9",
   "metadata": {},
   "outputs": [],
   "source": [
    "head() and tail():\n",
    "    # Example using head()\n",
    "df.head()\n"
   ]
  },
  {
   "cell_type": "code",
   "execution_count": null,
   "id": "a20e9cfa-c3d0-47d1-b942-7f5c5f476b1e",
   "metadata": {},
   "outputs": [],
   "source": [
    "info():\n",
    "    # Example using info()\n",
    "df.info()\n"
   ]
  },
  {
   "cell_type": "code",
   "execution_count": null,
   "id": "b3353628-e542-4ea4-a9b1-aeff244f2597",
   "metadata": {},
   "outputs": [],
   "source": [
    "describe(): \n",
    "    # Example using describe()\n",
    "df.describe()\n"
   ]
  },
  {
   "cell_type": "code",
   "execution_count": null,
   "id": "3956d944-79ed-4eaf-9721-42b691dd884e",
   "metadata": {},
   "outputs": [],
   "source": [
    "shape:\n",
    "    # Example using shape\n",
    "df.shape\n"
   ]
  },
  {
   "cell_type": "code",
   "execution_count": null,
   "id": "e78ae133-ba44-4f59-9f90-8a9fe2d11897",
   "metadata": {},
   "outputs": [],
   "source": [
    "Q6. Which of the following is mutable in nature Series, DataFrame, Panel?"
   ]
  },
  {
   "cell_type": "code",
   "execution_count": null,
   "id": "7f8212c4-c678-4a88-b739-fdfc13aa2305",
   "metadata": {},
   "outputs": [],
   "source": [
    "\n",
    "In Pandas, the Series and DataFrame are mutable, while the Panel is considered deprecated and has been removed in more recent versions of Pandas.\n",
    "\n",
    "Series: A Pandas Series is mutable, meaning you can modify its values after creation."
   ]
  },
  {
   "cell_type": "code",
   "execution_count": null,
   "id": "d50d5c26-d059-4830-b14e-fe9708abc7ed",
   "metadata": {},
   "outputs": [],
   "source": [
    "Series:\n",
    "    import pandas as pd\n",
    "\n",
    "# Creating a mutable Series\n",
    "my_series = pd.Series([1, 2, 3])\n",
    "my_series[1] = 10\n",
    "print(my_series)\n"
   ]
  },
  {
   "cell_type": "code",
   "execution_count": null,
   "id": "9142d92e-d281-4c02-91bc-0554623ab49c",
   "metadata": {},
   "outputs": [],
   "source": [
    "DataFrame:\n",
    "    import pandas as pd\n",
    "\n",
    "# Creating a mutable DataFrame\n",
    "data = {'Name': ['Alice', 'Bob'], 'Age': [25, 30]}\n",
    "df = pd.DataFrame(data)\n",
    "\n",
    "# Modifying a value in the DataFrame\n",
    "df.at[1, 'Age'] = 35\n",
    "\n",
    "print(df)\n"
   ]
  },
  {
   "cell_type": "code",
   "execution_count": null,
   "id": "d06cd0d8-4a04-4735-b48d-6e8aaed3bf9c",
   "metadata": {},
   "outputs": [],
   "source": [
    "Panel:\n",
    "    import pandas as pd\n",
    "\n",
    "# Creating a multi-index DataFrame\n",
    "data = {'Value': [1, 2, 3, 4], 'Variable': ['A', 'B', 'A', 'B']}\n",
    "index = pd.MultiIndex.from_tuples([('X', 1), ('X', 2), ('Y', 1), ('Y', 2)], names=['Index', 'Time'])\n",
    "df = pd.DataFrame(data, index=index)\n",
    "\n",
    "print(df)\n"
   ]
  },
  {
   "cell_type": "code",
   "execution_count": null,
   "id": "7131dc0b-e40b-4ee4-8f87-4868c703eece",
   "metadata": {},
   "outputs": [],
   "source": [
    "Q7. Create a DataFrame using multiple Series. Explain with an example."
   ]
  },
  {
   "cell_type": "code",
   "execution_count": null,
   "id": "0a4c456a-1330-4685-a03c-7580e2dc49c4",
   "metadata": {},
   "outputs": [],
   "source": [
    "import pandas as pd\n",
    "\n",
    "# Creating multiple Series\n",
    "names = pd.Series(['Alice', 'Bob', 'Claire'], name='Name')\n",
    "ages = pd.Series([25, 30, 27], name='Age')\n",
    "genders = pd.Series(['female', 'male', 'female'], name='Gender')\n",
    "\n",
    "# Creating a DataFrame using the Series\n",
    "data = {'Name': names, 'Age': ages, 'Gender': genders}\n",
    "df = pd.DataFrame(data)\n",
    "\n",
    "# Printing the DataFrame\n",
    "print(df)\n"
   ]
  },
  {
   "cell_type": "code",
   "execution_count": null,
   "id": "43ab4a3d-db20-43ef-896e-6beaf1815d12",
   "metadata": {},
   "outputs": [],
   "source": [
    "In this example:\n",
    "\n",
    "We create three separate Series (names, ages, and genders) representing different columns of our DataFrame.\n",
    "Each Series has a name assigned using the name parameter.\n",
    "We then create a dictionary data where the keys are the column names ('Name', 'Age', 'Gender') and the values are the corresponding Series.\n",
    "Finally, we use the pd.DataFrame() constructor to create a DataFrame (df) from the dictionary.\n",
    "The resulting DataFrame has columns named 'Name', 'Age', and 'Gender', with data from the respective Series. This is a simple and common way to construct a DataFrame from multiple Series."
   ]
  }
 ],
 "metadata": {
  "kernelspec": {
   "display_name": "Python 3 (ipykernel)",
   "language": "python",
   "name": "python3"
  },
  "language_info": {
   "codemirror_mode": {
    "name": "ipython",
    "version": 3
   },
   "file_extension": ".py",
   "mimetype": "text/x-python",
   "name": "python",
   "nbconvert_exporter": "python",
   "pygments_lexer": "ipython3",
   "version": "3.10.8"
  }
 },
 "nbformat": 4,
 "nbformat_minor": 5
}
